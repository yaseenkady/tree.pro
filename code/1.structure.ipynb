{
 "cells": [
  {
   "cell_type": "code",
   "execution_count": 22,
   "id": "1151aaa0",
   "metadata": {},
   "outputs": [
    {
     "data": {
      "text/plain": [
       "\"../input/1.example.md\""
      ]
     },
     "execution_count": 22,
     "metadata": {},
     "output_type": "execute_result"
    }
   ],
   "source": [
    "include(\"_.jl\")"
   ]
  },
  {
   "cell_type": "code",
   "execution_count": 23,
   "id": "071b6076",
   "metadata": {},
   "outputs": [
    {
     "data": {
      "text/plain": [
       "false"
      ]
     },
     "execution_count": 23,
     "metadata": {},
     "output_type": "execute_result"
    }
   ],
   "source": [
    "te = SE[\"testing\"]"
   ]
  },
  {
   "cell_type": "markdown",
   "id": "7620fb40",
   "metadata": {
    "scrolled": false
   },
   "source": [
    "## Enforce continuous `[0-9].[a-z0-9_](.md)`"
   ]
  },
  {
   "cell_type": "code",
   "execution_count": 32,
   "id": "09f65dba",
   "metadata": {
    "scrolled": false
   },
   "outputs": [
    {
     "name": "stdout",
     "output_type": "stream",
     "text": [
      "1.raas/1.renin ==> 1.raas/2.renin\n",
      "2.serum/1.bhcg ==> 2.serum/2.bhcg\n",
      "2.serum/1.ca ==> 2.serum/3.ca\n",
      "2.serum/1.calcitonin ==> 2.serum/4.calcitonin\n",
      "2.serum/1.catecholamine ==> 2.serum/5.catecholamine\n",
      "2.serum/1.cholecystokinin ==> 2.serum/6.cholecystokinin\n",
      "2.serum/1.clotting ==> 2.serum/7.clotting\n",
      "2.serum/1.co2 ==> 2.serum/8.co2\n",
      "2.serum/1.cortisol ==> 2.serum/9.cortisol\n",
      "2.serum/1.crh ==> 2.serum/10.crh\n",
      "2.serum/1.element ==> 2.serum/11.element\n",
      "2.serum/1.ferritin ==> 2.serum/12.ferritin\n",
      "2.serum/1.gastrin ==> 2.serum/13.gastrin\n",
      "2.serum/1.gip ==> 2.serum/14.gip\n",
      "2.serum/1.grh ==> 2.serum/15.grh\n",
      "2.serum/1.hdl ==> 2.serum/16.hdl\n",
      "2.serum/1.hemoglobin ==> 2.serum/17.hemoglobin\n",
      "2.serum/1.hormone ==> 2.serum/18.hormone\n",
      "2.serum/1.ig ==> 2.serum/19.ig\n",
      "2.serum/1.igf1 ==> 2.serum/20.igf1\n",
      "2.serum/1.il6 ==> 2.serum/21.il6\n",
      "2.serum/1.lipid ==> 2.serum/22.lipid\n",
      "2.serum/1.liver ==> 2.serum/23.liver\n",
      "2.serum/1.mg ==> 2.serum/24.mg\n",
      "2.serum/1.mp ==> 2.serum/25.mp\n",
      "2.serum/1.np ==> 2.serum/26.np\n",
      "2.serum/1.prolactin ==> 2.serum/27.prolactin\n",
      "2.serum/1.pth ==> 2.serum/28.pth\n",
      "2.serum/1.quality ==> 2.serum/29.quality\n",
      "2.serum/1.raas ==> 2.serum/30.raas\n",
      "2.serum/1.rf ==> 2.serum/31.rf\n",
      "2.serum/1.secretin ==> 2.serum/32.secretin\n",
      "2.serum/1.troponin ==> 2.serum/33.troponin\n",
      "2.serum/1.un ==> 2.serum/34.un\n",
      "2.serum/1.vip ==> 2.serum/35.vip\n",
      "2.serum/1.vitamin_d ==> 2.serum/36.vitamin_d\n",
      "0.osmolality/7.high_urine_osmolality.md ==> 0.osmolality/1.high_urine_osmolality.md\n",
      "0.osmolality/12.low_urine_osmolality.md ==> 0.osmolality/2.low_urine_osmolality.md\n",
      "1.na/6.high_urine_na.md ==> 1.na/1.high_urine_na.md\n",
      "11.cortisol/2.high_urine_cortisol.md ==> 11.cortisol/1.high_urine_cortisol.md\n",
      "12.homocystein/4.high_urine_homocysteine.md ==> 12.homocystein/1.high_urine_homocysteine.md\n",
      "2.ca/8.hypercalciuria.md ==> 2.ca/1.hypercalciuria.md\n",
      "2.ca/10.hypocalciuria.md ==> 2.ca/2.hypocalciuria.md\n",
      "2.ca/11.low_urine_ca.md ==> 2.ca/3.low_urine_ca.md\n",
      "3.4.glucose/3.high_urine_glucose.md ==> 3.4.glucose/1.high_urine_glucose.md\n",
      "3.5.ketone/5.high_urine_ketone.md ==> 3.5.ketone/1.high_urine_ketone.md\n",
      "3.po4/9.hyperphosphaturia.md ==> 3.po4/1.hyperphosphaturia.md\n",
      "4.albumin/13.macroalbuminuria.md ==> 4.albumin/1.macroalbuminuria.md\n",
      "4.urine/0.osmolality ==> 4.urine/1.osmolality\n",
      "4.urine/1.na ==> 4.urine/2.na\n",
      "4.urine/2.ca ==> 4.urine/3.ca\n",
      "4.urine/3.po4 ==> 4.urine/4.po4\n",
      "4.urine/3.4.glucose ==> 4.urine/5.glucose\n",
      "4.urine/3.5.ketone ==> 4.urine/6.ketone\n",
      "4.urine/4.albumin ==> 4.urine/7.albumin\n",
      "4.urine/10.catecholamine ==> 4.urine/8.catecholamine\n",
      "4.urine/11.cortisol ==> 4.urine/9.cortisol\n",
      "4.urine/12.homocystein ==> 4.urine/10.homocystein\n",
      "7.7.vaginal_ph/3.vaginal_ph_less_than_4_5.md ==> 7.7.vaginal_ph/1.vaginal_ph_less_than_4_5.md\n",
      "7.7.vaginal_ph/6.vaginal_ph_more_than_4_5.md ==> 7.7.vaginal_ph/2.vaginal_ph_more_than_4_5.md\n",
      "8.diagnostic/2.serum ==> 8.diagnostic/1.serum\n",
      "8.diagnostic/2.1.antibody ==> 8.diagnostic/2.antibody\n",
      "8.diagnostic/2.3.blood_cell ==> 8.diagnostic/3.blood_cell\n",
      "8.diagnostic/7.stool ==> 8.diagnostic/5.stool\n",
      "8.diagnostic/7.7.vaginal_ph ==> 8.diagnostic/6.vaginal_ph\n",
      "8.diagnostic/8.ecg ==> 8.diagnostic/7.ecg\n",
      "8.diagnostic/11.other ==> 8.diagnostic/8.other\n",
      "10.nervous/5.neuropathy.md ==> 10.nervous/6.neuropathy.md\n",
      "10.nervous/6.sydenham_chorea.md ==> 10.nervous/7.sydenham_chorea.md\n",
      "? 2.22q11_syndrome.md\n",
      "? 2.5a_reductase_deficiency.md\n",
      "? 2.46xx\n",
      "? 3.46xy\n"
     ]
    }
   ],
   "source": [
    "for (ro, di_, fi_) in walk_up(TR)\n",
    "\n",
    "    na_ = [di_; fi_]\n",
    "\n",
    "    for na in [di_; fi_]\n",
    "\n",
    "        cl = clean(na)\n",
    "\n",
    "        if na != cl\n",
    "\n",
    "            move(joinpath(ro, na), joinpath(ro, cl); te = te)\n",
    "\n",
    "        end\n",
    "\n",
    "        if is_good_name(na)\n",
    "\n",
    "            if occursin(r\"^[0-9]\", split_name(na)[2])\n",
    "\n",
    "                println(\"? \", na)\n",
    "\n",
    "            end\n",
    "\n",
    "        else\n",
    "\n",
    "            error(\"! \", joinpath(ro, na))\n",
    "\n",
    "        end\n",
    "\n",
    "    end\n",
    "\n",
    "    make_continuous(ro, na_; te = te)\n",
    "\n",
    "end"
   ]
  },
  {
   "cell_type": "markdown",
   "id": "1687e733",
   "metadata": {},
   "source": [
    "## Enforce `#._.md`"
   ]
  },
  {
   "cell_type": "code",
   "execution_count": 33,
   "id": "e1273da3",
   "metadata": {},
   "outputs": [],
   "source": [
    "for (ro, di_, fi_) in walk_up(TR)\n",
    "\n",
    "    for fi in fi_\n",
    "\n",
    "        sp_ = split_name(fi)\n",
    "\n",
    "        if sp_[2] == get_parent_title(ro)\n",
    "\n",
    "            sp_[2] = \"_\"\n",
    "\n",
    "            move(joinpath(ro, fi), joinpath(ro, join(sp_, \".\")); te = te)\n",
    "\n",
    "        end\n",
    "\n",
    "    end\n",
    "\n",
    "end"
   ]
  },
  {
   "cell_type": "markdown",
   "id": "4372d629",
   "metadata": {},
   "source": [
    "## Catalog"
   ]
  },
  {
   "cell_type": "code",
   "execution_count": 34,
   "id": "0bd81b44",
   "metadata": {},
   "outputs": [
    {
     "data": {
      "text/plain": [
       "Dict{String, Dict{String, Union{String, Vector{Int64}}}} with 1781 entries:\n",
       "  \"22q11_syndrome\"          => Dict(\"id\"=>[9, 17, 1, 1, 2], \"path\"=>\"../input/t…\n",
       "  \"methamphetamine\"         => Dict(\"id\"=>[9, 17, 19], \"path\"=>\"../input/tree/9…\n",
       "  \"aortic_aneurysm\"         => Dict(\"id\"=>[9, 1, 4, 1, 1], \"path\"=>\"../input/tr…\n",
       "  \"high_sun_exposure\"       => Dict(\"id\"=>[6, 5, 2], \"path\"=>\"../input/tree/6.s…\n",
       "  \"anhidrosis\"              => Dict(\"id\"=>[7, 3, 2, 1], \"path\"=>\"../input/tree/…\n",
       "  \"hla_b8\"                  => Dict(\"id\"=>[4, 5, 2], \"path\"=>\"../input/tree/4.g…\n",
       "  \"painless_goiter\"         => Dict(\"id\"=>[9, 6, 3, 2, 4], \"path\"=>\"../input/tr…\n",
       "  \"prkaria\"                 => Dict(\"id\"=>[4, 23], \"path\"=>\"../input/tree/4.gen…\n",
       "  \"chronic_encephalomyelit… => Dict(\"id\"=>[9, 10, 1, 11], \"path\"=>\"../input/tre…\n",
       "  \"acne\"                    => Dict(\"id\"=>[7, 3, 15, 1], \"path\"=>\"../input/tree…\n",
       "  \"pulmonary_langerhans_ce… => Dict(\"id\"=>[9, 2, 9, 4, 7], \"path\"=>\"../input/tr…\n",
       "  \"mucosal_neuroma\"         => Dict(\"id\"=>[9, 6, 9], \"path\"=>\"../input/tree/9.d…\n",
       "  \"high_serum_free_t4\"      => Dict(\"id\"=>[8, 1, 18, 13, 2], \"path\"=>\"../input/…\n",
       "  \"peripartum\"              => Dict(\"id\"=>[2, 3, 2], \"path\"=>\"../input/tree/2.m…\n",
       "  \"homocystinuria\"          => Dict(\"id\"=>[9, 16, 1, 1, 1], \"path\"=>\"../input/t…\n",
       "  \"throat_pain\"             => Dict(\"id\"=>[7, 26, 1, 2], \"path\"=>\"../input/tree…\n",
       "  \"neuropathy\"              => Dict(\"id\"=>[9, 10, 6], \"path\"=>\"../input/tree/9.…\n",
       "  \"gardnerella_vaginalis\"   => Dict(\"id\"=>[9, 13, 2, 18], \"path\"=>\"../input/tre…\n",
       "  \"non_allergic_rhinitis\"   => Dict(\"id\"=>[9, 2, 1, 1, 1], \"path\"=>\"../input/tr…\n",
       "  \"polyarthritis\"           => Dict(\"id\"=>[9, 17, 34], \"path\"=>\"../input/tree/9…\n",
       "  \"tachypnea\"               => Dict(\"id\"=>[7, 1, 9, 4, 1], \"path\"=>\"../input/tr…\n",
       "  \"cervical_motion_tendern… => Dict(\"id\"=>[7, 39, 2], \"path\"=>\"../input/tree/7.…\n",
       "  \"arthralgia\"              => Dict(\"id\"=>[7, 7, 1], \"path\"=>\"../input/tree/7.p…\n",
       "  \"hyperestrogenism\"        => Dict(\"id\"=>[9, 12, 11, 1], \"path\"=>\"../input/tre…\n",
       "  \"endometritis\"            => Dict(\"id\"=>[9, 5, 1, 4, 8], \"path\"=>\"../input/tr…\n",
       "  ⋮                         => ⋮"
      ]
     },
     "execution_count": 34,
     "metadata": {},
     "output_type": "execute_result"
    }
   ],
   "source": [
    "ti_di = catalog(TR)"
   ]
  }
 ],
 "metadata": {
  "@webio": {
   "lastCommId": null,
   "lastKernelId": null
  },
  "kernelspec": {
   "display_name": "Julia 1.6.3",
   "language": "julia",
   "name": "julia-1.6"
  },
  "language_info": {
   "file_extension": ".jl",
   "mimetype": "application/julia",
   "name": "julia",
   "version": "1.6.3"
  }
 },
 "nbformat": 4,
 "nbformat_minor": 5
}
