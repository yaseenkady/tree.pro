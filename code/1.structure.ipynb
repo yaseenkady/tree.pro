{
 "cells": [
  {
   "cell_type": "code",
   "execution_count": 49,
   "id": "1151aaa0",
   "metadata": {},
   "outputs": [
    {
     "data": {
      "text/plain": [
       "\"../input/1.example.md\""
      ]
     },
     "execution_count": 49,
     "metadata": {},
     "output_type": "execute_result"
    }
   ],
   "source": [
    "include(\"_.jl\")"
   ]
  },
  {
   "cell_type": "code",
   "execution_count": 50,
   "id": "071b6076",
   "metadata": {},
   "outputs": [
    {
     "data": {
      "text/plain": [
       "false"
      ]
     },
     "execution_count": 50,
     "metadata": {},
     "output_type": "execute_result"
    }
   ],
   "source": [
    "te = SE[\"testing\"]"
   ]
  },
  {
   "cell_type": "markdown",
   "id": "440f717a",
   "metadata": {
    "scrolled": false
   },
   "source": [
    "## Flatten"
   ]
  },
  {
   "cell_type": "code",
   "execution_count": 51,
   "id": "caccef9c",
   "metadata": {},
   "outputs": [],
   "source": [
    "for (ro, di_, fi_) in walk_up(TR)\n",
    "\n",
    "    na_ = [di_; fi_]\n",
    "\n",
    "    n_na = length(na_)\n",
    "    \n",
    "    sh = shorten(ro, 2)\n",
    "\n",
    "    if n_na == 0\n",
    "\n",
    "        println(\"empty \", sh)\n",
    "        \n",
    "        rm(ro)\n",
    "        \n",
    "    elseif !any(occursin(st, ro) for st in [\"medication\", \"presentation\"]) && n_na == 1\n",
    "        \n",
    "        na = na_[1]\n",
    "\n",
    "        println(\"redundant \", sh, \" (\", na, \")\")\n",
    "        \n",
    "        na2 = string(\n",
    "            split_name(splitdir(ro)[2])[1],\n",
    "            \".\",\n",
    "            na,\n",
    "        )\n",
    "        \n",
    "        move(joinpath(ro, na), joinpath(splitdir(ro)[1], na2))\n",
    "\n",
    "    end\n",
    "    \n",
    "end"
   ]
  },
  {
   "cell_type": "markdown",
   "id": "b82cbbbc",
   "metadata": {
    "scrolled": false
   },
   "source": [
    "## Enforce continuous `[0-9].[a-z0-9_](.md)`"
   ]
  },
  {
   "cell_type": "code",
   "execution_count": 52,
   "id": "09f65dba",
   "metadata": {
    "scrolled": false
   },
   "outputs": [
    {
     "name": "stdout",
     "output_type": "stream",
     "text": [
      "check 10.80_and_older.md\n"
     ]
    }
   ],
   "source": [
    "for (ro, di_, fi_) in walk_up(TR)\n",
    "    \n",
    "    na_ = [di_; fi_]\n",
    "        \n",
    "    for na in na_\n",
    "\n",
    "        cl = clean(na)\n",
    "\n",
    "        if na != cl\n",
    "\n",
    "            move(joinpath(ro, na), joinpath(ro, cl); te = te)\n",
    "\n",
    "        end\n",
    "\n",
    "        if is_good_name(na)\n",
    "\n",
    "            if occursin(r\"^[0-9]\", split_name(na)[2])\n",
    "\n",
    "                println(\"check \", na)\n",
    "\n",
    "            end\n",
    "\n",
    "        else\n",
    "\n",
    "            error(\"bad name \", joinpath(sh, na))\n",
    "\n",
    "        end\n",
    "\n",
    "    end\n",
    "\n",
    "    make_continuous(ro, na_; te = te)\n",
    "\n",
    "end"
   ]
  },
  {
   "cell_type": "markdown",
   "id": "1687e733",
   "metadata": {},
   "source": [
    "## Enforce `#._.md`"
   ]
  },
  {
   "cell_type": "code",
   "execution_count": 53,
   "id": "e1273da3",
   "metadata": {},
   "outputs": [],
   "source": [
    "for (ro, di_, fi_) in walk_up(TR)\n",
    "\n",
    "    for fi in fi_\n",
    "\n",
    "        sp_ = split_name(fi)\n",
    "\n",
    "        if sp_[2] == get_parent_title(ro)\n",
    "\n",
    "            sp_[2] = \"_\"\n",
    "\n",
    "            move(joinpath(ro, fi), joinpath(ro, join(sp_, \".\")); te = te)\n",
    "\n",
    "        end\n",
    "\n",
    "    end\n",
    "\n",
    "end"
   ]
  },
  {
   "cell_type": "markdown",
   "id": "4372d629",
   "metadata": {},
   "source": [
    "## Catalog"
   ]
  },
  {
   "cell_type": "code",
   "execution_count": 54,
   "id": "0bd81b44",
   "metadata": {},
   "outputs": [
    {
     "data": {
      "text/plain": [
       "627"
      ]
     },
     "execution_count": 54,
     "metadata": {},
     "output_type": "execute_result"
    }
   ],
   "source": [
    "ti_di = catalog(TR)\n",
    "\n",
    "length(ti_di)"
   ]
  }
 ],
 "metadata": {
  "@webio": {
   "lastCommId": null,
   "lastKernelId": null
  },
  "kernelspec": {
   "display_name": "Julia 1.6.3",
   "language": "julia",
   "name": "julia-1.6"
  },
  "language_info": {
   "file_extension": ".jl",
   "mimetype": "application/julia",
   "name": "julia",
   "version": "1.6.3"
  }
 },
 "nbformat": 4,
 "nbformat_minor": 5
}
