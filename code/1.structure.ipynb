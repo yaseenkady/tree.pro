{
 "cells": [
  {
   "cell_type": "code",
   "execution_count": null,
   "id": "1151aaa0",
   "metadata": {
    "execution": {
     "iopub.execute_input": "2021-11-23T19:03:33.589032Z",
     "iopub.status.busy": "2021-11-23T19:03:33.039694Z",
     "iopub.status.idle": "2021-11-23T19:03:35.611624Z",
     "shell.execute_reply": "2021-11-23T19:03:35.611004Z"
    }
   },
   "outputs": [],
   "source": [
    "include(\"_.jl\")"
   ]
  },
  {
   "cell_type": "code",
   "execution_count": null,
   "id": "14d58c87",
   "metadata": {
    "execution": {
     "iopub.execute_input": "2021-11-23T19:03:35.694612Z",
     "iopub.status.busy": "2021-11-23T19:03:35.612862Z",
     "iopub.status.idle": "2021-11-23T19:03:37.660566Z",
     "shell.execute_reply": "2021-11-23T19:03:37.660001Z"
    }
   },
   "outputs": [],
   "source": [
    "run(`find $TR -name .DS_Store -delete -print`)\n",
    "\n",
    "run(`find $TR -type d -empty -delete -print`)"
   ]
  },
  {
   "cell_type": "code",
   "execution_count": null,
   "id": "98b9945a",
   "metadata": {
    "execution": {
     "iopub.execute_input": "2021-11-23T19:03:37.662547Z",
     "iopub.status.busy": "2021-11-23T19:03:37.661961Z",
     "iopub.status.idle": "2021-11-23T19:03:40.081494Z",
     "shell.execute_reply": "2021-11-23T19:03:40.081103Z"
    },
    "scrolled": false
   },
   "outputs": [],
   "source": [
    "for (ro, di_, fi_) in walk_up(TR)\n",
    "\n",
    "    sh = shorten(ro, \"tree\")\n",
    "\n",
    "    if sh == \"\"\n",
    "\n",
    "        continue\n",
    "\n",
    "    end\n",
    "\n",
    "    sp_ = splitpath(sh)\n",
    "\n",
    "    br = split(sp_[1], '.')[2]\n",
    "\n",
    "    if br == \"disease\"\n",
    "\n",
    "        de = 3\n",
    "\n",
    "    else\n",
    "\n",
    "        de = 2\n",
    "\n",
    "    end\n",
    "\n",
    "    if de < length(sp_)\n",
    "\n",
    "        println(\"check depth \", sh)\n",
    "\n",
    "    end\n",
    "\n",
    "    na_ = [di_; fi_]\n",
    "\n",
    "    for na in na_\n",
    "\n",
    "        if is_good_name(na)\n",
    "\n",
    "            sp_ = split_name(na)\n",
    "\n",
    "            ti = sp_[2]\n",
    "\n",
    "            if ti == split_name(splitdir(ro)[2])[2] || ti == \"_\" && sp_[1] != 1\n",
    "\n",
    "                error(\"fix name \", na)\n",
    "\n",
    "            elseif occursin(r\"^[0-9]\", ti)\n",
    "\n",
    "                println(\"check name \", na)\n",
    "\n",
    "            end\n",
    "\n",
    "        else\n",
    "\n",
    "            error(\"fix name \", na)\n",
    "\n",
    "        end\n",
    "\n",
    "    end\n",
    "\n",
    "    make_continuous(ro, na_)\n",
    "\n",
    "end\n",
    "\n",
    "ti_di = catalog(TR)\n",
    "\n",
    "length(ti_di)"
   ]
  }
 ],
 "metadata": {
  "@webio": {
   "lastCommId": null,
   "lastKernelId": null
  },
  "kernelspec": {
   "display_name": "Julia 1.6.3",
   "language": "julia",
   "name": "julia-1.6"
  },
  "language_info": {
   "file_extension": ".jl",
   "mimetype": "application/julia",
   "name": "julia",
   "version": "1.6.3"
  }
 },
 "nbformat": 4,
 "nbformat_minor": 5
}
