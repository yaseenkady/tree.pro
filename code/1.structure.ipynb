{
 "cells": [
  {
   "cell_type": "code",
   "execution_count": 2,
   "id": "1151aaa0",
   "metadata": {},
   "outputs": [
    {
     "data": {
      "text/plain": [
       "\"../input/1.example.md\""
      ]
     },
     "execution_count": 2,
     "metadata": {},
     "output_type": "execute_result"
    }
   ],
   "source": [
    "include(\"_.jl\")"
   ]
  },
  {
   "cell_type": "code",
   "execution_count": 3,
   "id": "071b6076",
   "metadata": {},
   "outputs": [
    {
     "data": {
      "text/plain": [
       "false"
      ]
     },
     "execution_count": 3,
     "metadata": {},
     "output_type": "execute_result"
    }
   ],
   "source": [
    "te = SE[\"testing\"]"
   ]
  },
  {
   "cell_type": "markdown",
   "id": "7620fb40",
   "metadata": {
    "scrolled": false
   },
   "source": [
    "## Enforce continuous `[0-9].[a-z0-9_](.md)`"
   ]
  },
  {
   "cell_type": "code",
   "execution_count": 4,
   "id": "09f65dba",
   "metadata": {
    "scrolled": false
   },
   "outputs": [
    {
     "name": "stdout",
     "output_type": "stream",
     "text": [
      "(?) 10.80_and_older.md\n",
      "(1) 1.antibiotic/1.tetracycline\n",
      "(1) 3.medication/10.antihypertensive\n",
      "(1) 3.medication/15.analgesic\n",
      "(1) 3.medication/16.anaesthetic\n",
      "(1) 3.medication/20.antiglucocorticoid\n",
      "(1) 3.medication/21.serotoin_receptor_agonist\n",
      "(1) 3.medication/22.psychoactive\n",
      "(1) 3.medication/24.anticonvulsant\n",
      "(1) 3.medication/3.antifungal\n",
      "(1) 4.chemotherapy/1.alkylating_agent\n",
      "(1) 3.medication/5.glucocorticoid\n",
      "(1) 3.medication/6.non_steroidal_anti_inflammatory_drug\n",
      "(1) 3.medication/7.antiplatelet\n",
      "(1) 3.medication/8.beta_blocker\n",
      "(1) 3.medication/9.antiarrhythmic\n",
      "1.1.neuron/5.sensory_neuron ==> 1.1.neuron/1.sensory_neuron\n",
      "1.1.neuron/6.motor_neuron ==> 1.1.neuron/2.motor_neuron\n",
      "(1) 6.presentation/14.eyelid\n",
      "(1) 6.presentation/15.eye_muscle\n",
      "(1) 6.presentation/18.conjunctiva\n",
      "(1) 6.presentation/20.lens\n",
      "(1) 6.presentation/28.chest\n",
      "(1) 2.auscultation/2.diastole\n",
      "(1) 6.presentation/33.spleen\n",
      "(1) 6.presentation/34.liver\n",
      "(1) 6.presentation/40.uterus\n",
      "(1) 6.presentation/43.shoulder\n",
      "(1) 6.presentation/9.head\n",
      "6.presentation/1.1.neuron ==> 6.presentation/2.neuron\n",
      "6.presentation/2.hair ==> 6.presentation/3.hair\n",
      "6.presentation/3.skin ==> 6.presentation/4.skin\n",
      "6.presentation/4.muscle ==> 6.presentation/5.muscle\n",
      "6.presentation/7.joint ==> 6.presentation/6.joint\n",
      "6.presentation/8.bone ==> 6.presentation/7.bone\n",
      "6.presentation/9.head ==> 6.presentation/8.head\n",
      "6.presentation/10.skull ==> 6.presentation/9.skull\n",
      "6.presentation/11.brain ==> 6.presentation/10.brain\n",
      "6.presentation/12.nose ==> 6.presentation/11.nose\n",
      "6.presentation/13.eye ==> 6.presentation/12.eye\n",
      "6.presentation/14.eyelid ==> 6.presentation/13.eyelid\n",
      "6.presentation/15.eye_muscle ==> 6.presentation/14.eye_muscle\n",
      "6.presentation/16.levator_palpebrae ==> 6.presentation/15.levator_palpebrae\n",
      "6.presentation/17.cornea ==> 6.presentation/16.cornea\n",
      "6.presentation/18.conjunctiva ==> 6.presentation/17.conjunctiva\n",
      "6.presentation/19.sclera ==> 6.presentation/18.sclera\n",
      "6.presentation/20.lens ==> 6.presentation/19.lens\n",
      "6.presentation/21.retina ==> 6.presentation/20.retina\n",
      "6.presentation/22.face ==> 6.presentation/21.face\n",
      "6.presentation/23.ear ==> 6.presentation/22.ear\n",
      "6.presentation/24.mouth ==> 6.presentation/23.mouth\n",
      "6.presentation/25.tongue ==> 6.presentation/24.tongue\n",
      "6.presentation/26.neck ==> 6.presentation/25.neck\n",
      "6.presentation/27.thyroid ==> 6.presentation/26.thyroid\n",
      "6.presentation/28.chest ==> 6.presentation/27.chest\n",
      "6.presentation/29.breast ==> 6.presentation/28.breast\n",
      "6.presentation/30.heart ==> 6.presentation/29.heart\n",
      "6.presentation/31.lung ==> 6.presentation/30.lung\n",
      "6.presentation/32.abdomen ==> 6.presentation/31.abdomen\n",
      "6.presentation/33.spleen ==> 6.presentation/32.spleen\n",
      "6.presentation/34.liver ==> 6.presentation/33.liver\n",
      "6.presentation/35.rectum ==> 6.presentation/34.rectum\n",
      "6.presentation/36.urinary_tract ==> 6.presentation/35.urinary_tract\n",
      "6.presentation/37.genital ==> 6.presentation/36.genital\n",
      "6.presentation/38.vagina ==> 6.presentation/37.vagina\n",
      "6.presentation/39.cervix ==> 6.presentation/38.cervix\n",
      "6.presentation/40.uterus ==> 6.presentation/39.uterus\n",
      "6.presentation/41.adnexa ==> 6.presentation/40.adnexa\n",
      "6.presentation/42.testis ==> 6.presentation/41.testis\n",
      "6.presentation/43.shoulder ==> 6.presentation/42.shoulder\n",
      "6.presentation/44.back ==> 6.presentation/43.back\n",
      "6.presentation/45.extremity ==> 6.presentation/44.extremity\n",
      "6.presentation/46.arm ==> 6.presentation/45.arm\n",
      "6.presentation/47.leg ==> 6.presentation/46.leg\n",
      "6.presentation/48.hand_and_foot ==> 6.presentation/47.hand_and_foot\n",
      "6.presentation/49.nail ==> 6.presentation/48.nail\n",
      "(1) 1.systemic/13.ketone\n",
      "(1) 1.systemic/14.lactate\n",
      "(1) 1.systemic/15.lactate_dehydrogenease\n",
      "(1) 1.systemic/17.ferritin\n",
      "(1) 1.serum/14.parathyroid\n",
      "(1) 15.gonad/3.human_chorionic_gonadotropin\n",
      "(1) 2.lipid/1.triglyceride\n",
      "(1) 3.lipoprotein/1.high_density_lipoprotein\n",
      "(1) 3.lipoprotein/2.intermediate_density_lipoprotein\n",
      "(1) 3.lipoprotein/5.chylomicron\n",
      "(1) 2.lipid/4.lipase\n",
      "(1) 3.hematologic/2.interleukin_6\n",
      "(1) 3.hematologic/3.c_reactive_protein.md\n",
      "(1) 3.hematologic/4.rheumatoid_factor\n",
      "(1) 3.hematologic/5.immunoglobulin\n",
      "(1) 3.hematologic/6.m_protein\n",
      "(1) 4.muscle/2.creatinine\n",
      "(1) 4.muscle/3.troponin\n",
      "(1) 5.heart/1.atrial_natriuretic_peptide\n",
      "(1) 5.heart/2.brain_natriuretic_peptide\n",
      "(1) 6.intestinal_tract/1.secretin\n",
      "(1) 6.intestinal_tract/2.vasoactive_intestinal_peptide\n",
      "(1) 6.intestinal_tract/4.gastric_inhibitory_peptide\n",
      "(1) 6.intestinal_tract/5.cholecystokinin\n",
      "(1) 7.liver/2.alanine_transaminade\n",
      "(1) 7.liver/3.aspartate_aminotransferase\n",
      "(1) 7.liver/4.bilirubin\n",
      "(1) 7.liver/5.gamma_glutamyl_transferase\n",
      "(1) 7.liver/8.clotting_factor\n",
      "(1) 7.liver/9.a_fetoprotein\n",
      "(1) 8.pancreas/1.amylase\n",
      "(1) 9.kidney/2.erythropoietin\n",
      "(1) 4.urine/10.myoglobin\n",
      "(1) 4.urine/11.cortisol\n",
      "(1) 4.urine/12.catecholamine\n",
      "(1) 4.urine/13.homocysteine\n",
      "(1) 4.urine/6.phosphate\n",
      "(1) 4.urine/7.glucose\n",
      "(1) 4.urine/8.ketone\n",
      "(?) 2.22q11_syndrome.md\n",
      "(1) 1.mediastinum/2.other\n",
      "(1) 2.heart/11.exam\n",
      "(1) 1.channel/2.other\n",
      "(1) 6.myocardium/1.inflammation\n",
      "(1) 3.aneurysm/2.papillary_muscle\n",
      "(1) 6.myocardium/7.exam\n",
      "(1) 2.heart/7.endocardium\n",
      "(1) 4.aorta/1.aneurysm\n",
      "(1) 4.aorta/3.rupture\n",
      "(1) 12.circulatory/5.pulmonary_artery\n",
      "(1) 4.larynx/2.tumor\n",
      "(1) 13.respiratory/5.trachea\n",
      "(1) 7.bronchiole/1.inflammation\n",
      "(1) 3.tumor/2.small\n",
      "(1) 9.pleura/2.fluid\n",
      "(1) 9.pleura/3.inflammation\n",
      "(1) 9.pleura/4.tumor\n",
      "(1) 14.digestive/10.rectum\n",
      "(1) 9.intestine/5.colorectal_cancer\n",
      "(1) 15.urinary/3.urethra\n",
      "(1) 3.penis/1.extragonadal_germ_cell_tumor\n",
      "(1) 2.male/4.scrotum\n",
      "(?) 2.5a_reductase_deficiency.md\n",
      "(?) 2.46xx\n",
      "(?) 3.46xy\n",
      "(1) 17.endocrine/1.hypothalamus\n",
      "(1) 2.pituitary_gland/2.infiltration\n",
      "(1) 3.less/1.acth\n",
      "(1) 3.less/2.adh\n",
      "(1) 4.more/1.acth\n",
      "(1) 4.more/2.adh\n",
      "(1) 4.more/5.tsh\n",
      "(1) 5.adrenal_gland/1.less\n",
      "(1) 2.more/3.dhea\n",
      "(1) 1.cell/1.metabolism\n",
      "(1) 2.nervous/2.other\n",
      "(1) 2.syndromic/4.other\n",
      "(1) 3.metabolic/2.alkalosis\n",
      "(1) 3.gram_negative/1.enterobacteria\n",
      "(1) 1.myelocyte/1.granulocyte\n",
      "(1) 5.hematologic/3.bone_marrow\n",
      "(1) 5.hematologic/4.thymus\n",
      "(1) 1.central/2.cerebellum\n",
      "(1) 2.peripheral/1.autonomic_nervous_system\n",
      "(1) 2.peripheral/3.spinal_nerve\n",
      "(1) 9.integumentary/2.subcutaneous_tissue\n",
      "(1) 9.integumentary/3.swelling\n"
     ]
    }
   ],
   "source": [
    "for (ro, di_, fi_) in walk_up(TR)\n",
    "\n",
    "    na_ = [di_; fi_]\n",
    "\n",
    "    n_na = length(na_)\n",
    "\n",
    "    if n_na < 2\n",
    "\n",
    "        println(\"(\", n_na, \") \", shorten(ro, 1))\n",
    "\n",
    "    end\n",
    "\n",
    "    for na in [di_; fi_]\n",
    "\n",
    "        cl = clean(na)\n",
    "\n",
    "        if na != cl\n",
    "\n",
    "            move(joinpath(ro, na), joinpath(ro, cl); te = te)\n",
    "\n",
    "        end\n",
    "\n",
    "        if is_good_name(na)\n",
    "\n",
    "            if occursin(r\"^[0-9]\", split_name(na)[2])\n",
    "\n",
    "                println(\"(?) \", na)\n",
    "\n",
    "            end\n",
    "\n",
    "        else\n",
    "\n",
    "            error(\"(!) \", joinpath(ro, na))\n",
    "\n",
    "        end\n",
    "\n",
    "    end\n",
    "\n",
    "    make_continuous(ro, na_; te = te)\n",
    "\n",
    "end"
   ]
  },
  {
   "cell_type": "markdown",
   "id": "1687e733",
   "metadata": {},
   "source": [
    "## Enforce `#._.md`"
   ]
  },
  {
   "cell_type": "code",
   "execution_count": 5,
   "id": "e1273da3",
   "metadata": {},
   "outputs": [],
   "source": [
    "for (ro, di_, fi_) in walk_up(TR)\n",
    "\n",
    "    for fi in fi_\n",
    "\n",
    "        sp_ = split_name(fi)\n",
    "\n",
    "        if sp_[2] == get_parent_title(ro)\n",
    "\n",
    "            sp_[2] = \"_\"\n",
    "\n",
    "            move(joinpath(ro, fi), joinpath(ro, join(sp_, \".\")); te = te)\n",
    "\n",
    "        end\n",
    "\n",
    "    end\n",
    "\n",
    "end"
   ]
  },
  {
   "cell_type": "markdown",
   "id": "4372d629",
   "metadata": {},
   "source": [
    "## Catalog"
   ]
  },
  {
   "cell_type": "code",
   "execution_count": 6,
   "id": "0bd81b44",
   "metadata": {},
   "outputs": [
    {
     "name": "stdout",
     "output_type": "stream",
     "text": [
      "2: 16.reproductive/12.precocious_puberty.md and 11.puberty/1.precocious_puberty.md\n"
     ]
    },
    {
     "data": {
      "text/plain": [
       "1775"
      ]
     },
     "execution_count": 6,
     "metadata": {},
     "output_type": "execute_result"
    }
   ],
   "source": [
    "ti_di = catalog(TR)\n",
    "\n",
    "length(ti_di)"
   ]
  }
 ],
 "metadata": {
  "@webio": {
   "lastCommId": null,
   "lastKernelId": null
  },
  "kernelspec": {
   "display_name": "Julia 1.6.3",
   "language": "julia",
   "name": "julia-1.6"
  },
  "language_info": {
   "file_extension": ".jl",
   "mimetype": "application/julia",
   "name": "julia",
   "version": "1.6.3"
  }
 },
 "nbformat": 4,
 "nbformat_minor": 5
}
