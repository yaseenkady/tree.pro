{
 "cells": [
  {
   "cell_type": "code",
   "execution_count": 18,
   "id": "1151aaa0",
   "metadata": {},
   "outputs": [
    {
     "data": {
      "text/plain": [
       "\"../input/tree\""
      ]
     },
     "execution_count": 18,
     "metadata": {},
     "output_type": "execute_result"
    }
   ],
   "source": [
    "include(\"_.jl\")"
   ]
  },
  {
   "cell_type": "code",
   "execution_count": 19,
   "id": "98b9945a",
   "metadata": {},
   "outputs": [
    {
     "data": {
      "text/plain": [
       "Process(`\u001b[4mfind\u001b[24m \u001b[4m../input/tree\u001b[24m \u001b[4m-type\u001b[24m \u001b[4md\u001b[24m \u001b[4m-empty\u001b[24m \u001b[4m-delete\u001b[24m \u001b[4m-print\u001b[24m`, ProcessExited(0))"
      ]
     },
     "execution_count": 19,
     "metadata": {},
     "output_type": "execute_result"
    }
   ],
   "source": [
    "run(`find $TR -name .DS_Store -delete -print`)\n",
    "\n",
    "run(`find $TR -type d -empty -delete -print`)"
   ]
  },
  {
   "cell_type": "code",
   "execution_count": 20,
   "id": "ff96c461",
   "metadata": {
    "scrolled": false
   },
   "outputs": [
    {
     "name": "stdout",
     "output_type": "stream",
     "text": [
      "check description 36.vagina/1.low_vaginal_ph.md\n",
      "check description 36.vagina/2.high_vaginal_ph.md\n",
      "check description 4.vascular/1.thrombosis.md\n"
     ]
    },
    {
     "data": {
      "text/plain": [
       "811"
      ]
     },
     "execution_count": 20,
     "metadata": {},
     "output_type": "execute_result"
    }
   ],
   "source": [
    "for (ro, di_, fi_) in walk_up(TR)\n",
    "\n",
    "    if ro == TR\n",
    "\n",
    "        continue\n",
    "\n",
    "    end\n",
    "\n",
    "    sh = shorten(ro, \"tree\")\n",
    "\n",
    "    sp_ = splitpath(sh)\n",
    "\n",
    "    br = split(sp_[1], '.')[2]\n",
    "\n",
    "    if br == \"disease\"\n",
    "\n",
    "        mi = 3\n",
    "\n",
    "    else\n",
    "\n",
    "        mi = 2\n",
    "\n",
    "    end\n",
    "\n",
    "    if mi < length(sp_)\n",
    "\n",
    "        println(\"check depth \", sh)\n",
    "\n",
    "    end\n",
    "\n",
    "    na_ = [di_; fi_]\n",
    "\n",
    "    for na in na_\n",
    "\n",
    "        cl = clean(na)\n",
    "\n",
    "        if na != cl\n",
    "\n",
    "            move(joinpath(ro, na), joinpath(ro, cl))\n",
    "\n",
    "        end\n",
    "\n",
    "        if is_good_name(na)\n",
    "\n",
    "            if occursin(r\"^[0-9]\", split_name(na)[2])\n",
    "\n",
    "                println(\"check name \", na)\n",
    "\n",
    "            end\n",
    "\n",
    "        else\n",
    "\n",
    "            error(\"fix name \", na)\n",
    "\n",
    "        end\n",
    "\n",
    "    end\n",
    "\n",
    "    make_continuous(ro, na_)\n",
    "\n",
    "end\n",
    "\n",
    "ti_di = catalog(TR)\n",
    "\n",
    "length(ti_di)"
   ]
  },
  {
   "cell_type": "code",
   "execution_count": 63,
   "id": "8d5cfed6",
   "metadata": {
    "scrolled": false
   },
   "outputs": [],
   "source": [
    "se = \"\\n\\n\"\n",
    "\n",
    "for (ti, di) in ti_di\n",
    "    \n",
    "    write(di[\"md\"], join(string(bl, se, join(di[\"co\"][bl], se), se) for bl in [\"# =\", \"# .\", \"# <\", \"# >\"]))\n",
    "    \n",
    "end"
   ]
  },
  {
   "cell_type": "code",
   "execution_count": null,
   "id": "b7a22f07",
   "metadata": {},
   "outputs": [],
   "source": []
  }
 ],
 "metadata": {
  "@webio": {
   "lastCommId": null,
   "lastKernelId": null
  },
  "kernelspec": {
   "display_name": "Julia 1.6.3",
   "language": "julia",
   "name": "julia-1.6"
  },
  "language_info": {
   "file_extension": ".jl",
   "mimetype": "application/julia",
   "name": "julia",
   "version": "1.6.3"
  }
 },
 "nbformat": 4,
 "nbformat_minor": 5
}
