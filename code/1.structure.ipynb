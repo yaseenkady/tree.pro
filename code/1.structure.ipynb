{
 "cells": [
  {
   "cell_type": "code",
   "execution_count": 1,
   "id": "1151aaa0",
   "metadata": {},
   "outputs": [
    {
     "data": {
      "text/plain": [
       "\"../input/tree\""
      ]
     },
     "execution_count": 1,
     "metadata": {},
     "output_type": "execute_result"
    }
   ],
   "source": [
    "include(\"_.jl\")"
   ]
  },
  {
   "cell_type": "code",
   "execution_count": 2,
   "id": "071b6076",
   "metadata": {},
   "outputs": [
    {
     "data": {
      "text/plain": [
       "false"
      ]
     },
     "execution_count": 2,
     "metadata": {},
     "output_type": "execute_result"
    }
   ],
   "source": [
    "te = SE[\"testing\"]"
   ]
  },
  {
   "cell_type": "markdown",
   "id": "7620fb40",
   "metadata": {
    "scrolled": false
   },
   "source": [
    "## Enforce continuous `[0-9].[a-z0-9_](.md)`"
   ]
  },
  {
   "cell_type": "code",
   "execution_count": 3,
   "id": "09f65dba",
   "metadata": {
    "scrolled": false
   },
   "outputs": [
    {
     "name": "stdout",
     "output_type": "stream",
     "text": [
      "? 2.22q11_syndrome.md\n",
      "? 2.5a_reductase_deficiency.md\n",
      "? 2.46xx\n",
      "? 3.46xy\n"
     ]
    }
   ],
   "source": [
    "for (ro, di_, fi_) in walk_up(TR)\n",
    "\n",
    "    na_ = [di_; fi_]\n",
    "\n",
    "    for na in [di_; fi_]\n",
    "\n",
    "        cl = clean(na)\n",
    "\n",
    "        if na != cl\n",
    "\n",
    "            move(joinpath(ro, na), joinpath(ro, cl); te = te)\n",
    "\n",
    "        end\n",
    "\n",
    "        if is_good_name(na)\n",
    "\n",
    "            if occursin(r\"^[0-9]\", split_name(na)[2])\n",
    "\n",
    "                println(\"? \", na)\n",
    "\n",
    "            end\n",
    "\n",
    "        else\n",
    "\n",
    "            error(\"! \", name)\n",
    "\n",
    "        end\n",
    "\n",
    "    end\n",
    "\n",
    "    make_continuous(ro, na_; te = te)\n",
    "\n",
    "end"
   ]
  },
  {
   "cell_type": "markdown",
   "id": "1687e733",
   "metadata": {},
   "source": [
    "## Enforce `#._.md`"
   ]
  },
  {
   "cell_type": "code",
   "execution_count": 4,
   "id": "e1273da3",
   "metadata": {},
   "outputs": [],
   "source": [
    "for (ro, di_, fi_) in walk_up(TR)\n",
    "\n",
    "    for fi in fi_\n",
    "\n",
    "        sp_ = split_name(fi)\n",
    "\n",
    "        if sp_[2] == get_parent_title(ro)\n",
    "\n",
    "            sp_[2] = \"_\"\n",
    "\n",
    "            move(joinpath(ro, fi), joinpath(ro, join(sp_, \".\")); te = te)\n",
    "\n",
    "        end\n",
    "\n",
    "    end\n",
    "\n",
    "end"
   ]
  },
  {
   "cell_type": "markdown",
   "id": "4372d629",
   "metadata": {},
   "source": [
    "## Catalog"
   ]
  },
  {
   "cell_type": "code",
   "execution_count": 5,
   "id": "0bd81b44",
   "metadata": {},
   "outputs": [
    {
     "data": {
      "text/plain": [
       "Dict{String, Dict{String, Union{String, Vector{Int64}}}} with 1781 entries:\n",
       "  \"22q11_syndrome\"          => Dict(\"id\"=>[9, 17, 1, 1, 2], \"path\"=>\"../input/t…\n",
       "  \"methamphetamine\"         => Dict(\"id\"=>[9, 17, 19], \"path\"=>\"../input/tree/9…\n",
       "  \"aortic_aneurysm\"         => Dict(\"id\"=>[9, 1, 4, 1, 1], \"path\"=>\"../input/tr…\n",
       "  \"high_sun_exposure\"       => Dict(\"id\"=>[6, 5, 2], \"path\"=>\"../input/tree/6.s…\n",
       "  \"anhidrosis\"              => Dict(\"id\"=>[7, 3, 2, 1], \"path\"=>\"../input/tree/…\n",
       "  \"hla_b8\"                  => Dict(\"id\"=>[4, 5, 2], \"path\"=>\"../input/tree/4.g…\n",
       "  \"painless_goiter\"         => Dict(\"id\"=>[9, 6, 3, 2, 4], \"path\"=>\"../input/tr…\n",
       "  \"prkaria\"                 => Dict(\"id\"=>[4, 23], \"path\"=>\"../input/tree/4.gen…\n",
       "  \"chronic_encephalomyelit… => Dict(\"id\"=>[9, 10, 1, 11], \"path\"=>\"../input/tre…\n",
       "  \"acne\"                    => Dict(\"id\"=>[7, 3, 15, 1], \"path\"=>\"../input/tree…\n",
       "  \"pulmonary_langerhans_ce… => Dict(\"id\"=>[9, 2, 9, 4, 7], \"path\"=>\"../input/tr…\n",
       "  \"mucosal_neuroma\"         => Dict(\"id\"=>[9, 6, 9], \"path\"=>\"../input/tree/9.d…\n",
       "  \"high_serum_free_t4\"      => Dict(\"id\"=>[8, 2, 31], \"path\"=>\"../input/tree/8.…\n",
       "  \"peripartum\"              => Dict(\"id\"=>[2, 3, 2], \"path\"=>\"../input/tree/2.m…\n",
       "  \"homocystinuria\"          => Dict(\"id\"=>[9, 16, 1, 1, 1], \"path\"=>\"../input/t…\n",
       "  \"throat_pain\"             => Dict(\"id\"=>[7, 26, 1, 2], \"path\"=>\"../input/tree…\n",
       "  \"neuropathy\"              => Dict(\"id\"=>[9, 10, 5], \"path\"=>\"../input/tree/9.…\n",
       "  \"gardnerella_vaginalis\"   => Dict(\"id\"=>[9, 13, 2, 18], \"path\"=>\"../input/tre…\n",
       "  \"non_allergic_rhinitis\"   => Dict(\"id\"=>[9, 2, 1, 1, 1], \"path\"=>\"../input/tr…\n",
       "  \"polyarthritis\"           => Dict(\"id\"=>[9, 17, 34], \"path\"=>\"../input/tree/9…\n",
       "  \"tachypnea\"               => Dict(\"id\"=>[7, 1, 9, 4, 1], \"path\"=>\"../input/tr…\n",
       "  \"cervical_motion_tendern… => Dict(\"id\"=>[7, 39, 2], \"path\"=>\"../input/tree/7.…\n",
       "  \"arthralgia\"              => Dict(\"id\"=>[7, 7, 1], \"path\"=>\"../input/tree/7.p…\n",
       "  \"hyperestrogenism\"        => Dict(\"id\"=>[9, 12, 11, 1], \"path\"=>\"../input/tre…\n",
       "  \"endometritis\"            => Dict(\"id\"=>[9, 5, 1, 4, 8], \"path\"=>\"../input/tr…\n",
       "  ⋮                         => ⋮"
      ]
     },
     "execution_count": 5,
     "metadata": {},
     "output_type": "execute_result"
    }
   ],
   "source": [
    "ti_di = catalog(TR)"
   ]
  }
 ],
 "metadata": {
  "@webio": {
   "lastCommId": null,
   "lastKernelId": null
  },
  "kernelspec": {
   "display_name": "Julia 1.6.3",
   "language": "julia",
   "name": "julia-1.6"
  },
  "language_info": {
   "file_extension": ".jl",
   "mimetype": "application/julia",
   "name": "julia",
   "version": "1.6.3"
  }
 },
 "nbformat": 4,
 "nbformat_minor": 5
}
