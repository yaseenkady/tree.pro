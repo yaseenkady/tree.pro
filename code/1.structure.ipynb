{
 "cells": [
  {
   "cell_type": "code",
   "execution_count": 2,
   "id": "1151aaa0",
   "metadata": {},
   "outputs": [
    {
     "data": {
      "text/plain": [
       "\"../input/1.example.md\""
      ]
     },
     "execution_count": 2,
     "metadata": {},
     "output_type": "execute_result"
    }
   ],
   "source": [
    "include(\"_.jl\")"
   ]
  },
  {
   "cell_type": "code",
   "execution_count": 3,
   "id": "071b6076",
   "metadata": {},
   "outputs": [
    {
     "data": {
      "text/plain": [
       "false"
      ]
     },
     "execution_count": 3,
     "metadata": {},
     "output_type": "execute_result"
    }
   ],
   "source": [
    "te = SE[\"testing\"]"
   ]
  },
  {
   "cell_type": "markdown",
   "id": "7620fb40",
   "metadata": {
    "scrolled": false
   },
   "source": [
    "## Enforce continuous `[0-9].[a-z0-9_](.md)`"
   ]
  },
  {
   "cell_type": "code",
   "execution_count": 4,
   "id": "09f65dba",
   "metadata": {
    "scrolled": false
   },
   "outputs": [
    {
     "name": "stdout",
     "output_type": "stream",
     "text": [
      "(?) 10.80_and_older.md\n",
      "(1) 1.antibiotic/1.tetracycline\n",
      "(1) 3.medication/10.antihypertensive\n",
      "(1) 3.medication/15.analgesic\n",
      "(1) 3.medication/16.anaesthetic\n",
      "(1) 3.medication/20.antiglucocorticoid\n",
      "(1) 3.medication/21.serotoin_receptor_agonist\n",
      "(1) 3.medication/22.psychoactive\n",
      "(1) 3.medication/24.anticonvulsant\n",
      "(1) 3.medication/3.antifungal\n",
      "(1) 4.chemotherapy/1.alkylating_agent\n",
      "(1) 3.medication/5.glucocorticoid\n",
      "(1) 3.medication/6.non_steroidal_anti_inflammatory_drug\n",
      "(1) 3.medication/7.antiplatelet\n",
      "(1) 3.medication/8.beta_blocker\n",
      "(1) 3.medication/9.antiarrhythmic\n",
      "(1) 6.presentation/13.eyelid\n",
      "(1) 6.presentation/14.eye_muscle\n",
      "(1) 6.presentation/17.conjunctiva\n",
      "(1) 6.presentation/19.lens\n",
      "(1) 6.presentation/27.chest\n",
      "(1) 2.auscultation/2.diastole\n",
      "(1) 6.presentation/32.spleen\n",
      "(1) 6.presentation/33.liver\n",
      "(1) 6.presentation/39.uterus\n",
      "(1) 6.presentation/42.shoulder\n",
      "(1) 6.presentation/8.head\n",
      "(1) 1.systemic/13.ketone\n",
      "(1) 1.systemic/14.lactate\n",
      "(1) 1.systemic/15.lactate_dehydrogenease\n",
      "(1) 1.systemic/17.ferritin\n",
      "(1) 1.serum/14.parathyroid\n",
      "(1) 15.gonad/3.human_chorionic_gonadotropin\n",
      "(1) 2.lipid/1.triglyceride\n",
      "(1) 3.lipoprotein/1.high_density_lipoprotein\n",
      "(1) 3.lipoprotein/2.intermediate_density_lipoprotein\n",
      "(1) 3.lipoprotein/5.chylomicron\n",
      "(1) 2.lipid/4.lipase\n",
      "(1) 3.hematologic/2.interleukin_6\n",
      "(1) 3.hematologic/3.c_reactive_protein.md\n",
      "(1) 3.hematologic/4.rheumatoid_factor\n",
      "(1) 3.hematologic/5.immunoglobulin\n",
      "(1) 3.hematologic/6.m_protein\n",
      "(1) 4.muscle/2.creatinine\n",
      "(1) 4.muscle/3.troponin\n",
      "(1) 5.heart/1.atrial_natriuretic_peptide\n",
      "(1) 5.heart/2.brain_natriuretic_peptide\n",
      "(1) 6.intestinal_tract/1.secretin\n",
      "(1) 6.intestinal_tract/2.vasoactive_intestinal_peptide\n",
      "(1) 6.intestinal_tract/4.gastric_inhibitory_peptide\n",
      "(1) 6.intestinal_tract/5.cholecystokinin\n",
      "(1) 7.liver/2.alanine_transaminade\n",
      "(1) 7.liver/3.aspartate_aminotransferase\n",
      "(1) 7.liver/4.bilirubin\n",
      "(1) 7.liver/5.gamma_glutamyl_transferase\n",
      "(1) 7.liver/8.clotting_factor\n",
      "(1) 7.liver/9.a_fetoprotein\n",
      "(1) 8.pancreas/1.amylase\n",
      "(1) 9.kidney/2.erythropoietin\n",
      "(1) 4.urine/10.myoglobin\n",
      "(1) 4.urine/11.cortisol\n",
      "(1) 4.urine/12.catecholamine\n",
      "(1) 4.urine/13.homocysteine\n",
      "(1) 4.urine/6.phosphate\n",
      "(1) 4.urine/7.glucose\n",
      "(1) 4.urine/8.ketone\n",
      "(0) tree/8.disease\n"
     ]
    }
   ],
   "source": [
    "for (ro, di_, fi_) in walk_up(TR)\n",
    "\n",
    "    na_ = [di_; fi_]\n",
    "\n",
    "    n_na = length(na_)\n",
    "\n",
    "    if n_na < 2\n",
    "\n",
    "        println(\"(\", n_na, \") \", shorten(ro, 1))\n",
    "\n",
    "    end\n",
    "\n",
    "    for na in [di_; fi_]\n",
    "\n",
    "        cl = clean(na)\n",
    "\n",
    "        if na != cl\n",
    "\n",
    "            move(joinpath(ro, na), joinpath(ro, cl); te = te)\n",
    "\n",
    "        end\n",
    "\n",
    "        if is_good_name(na)\n",
    "\n",
    "            if occursin(r\"^[0-9]\", split_name(na)[2])\n",
    "\n",
    "                println(\"(?) \", na)\n",
    "\n",
    "            end\n",
    "\n",
    "        else\n",
    "\n",
    "            error(\"not a good name: \", joinpath(ro, na))\n",
    "\n",
    "        end\n",
    "\n",
    "    end\n",
    "\n",
    "    make_continuous(ro, na_; te = te)\n",
    "\n",
    "end"
   ]
  },
  {
   "cell_type": "markdown",
   "id": "1687e733",
   "metadata": {},
   "source": [
    "## Enforce `#._.md`"
   ]
  },
  {
   "cell_type": "code",
   "execution_count": 5,
   "id": "e1273da3",
   "metadata": {},
   "outputs": [],
   "source": [
    "for (ro, di_, fi_) in walk_up(TR)\n",
    "\n",
    "    for fi in fi_\n",
    "\n",
    "        sp_ = split_name(fi)\n",
    "\n",
    "        if sp_[2] == get_parent_title(ro)\n",
    "\n",
    "            sp_[2] = \"_\"\n",
    "\n",
    "            move(joinpath(ro, fi), joinpath(ro, join(sp_, \".\")); te = te)\n",
    "\n",
    "        end\n",
    "\n",
    "    end\n",
    "\n",
    "end"
   ]
  },
  {
   "cell_type": "markdown",
   "id": "4372d629",
   "metadata": {},
   "source": [
    "## Catalog"
   ]
  },
  {
   "cell_type": "code",
   "execution_count": 6,
   "id": "0bd81b44",
   "metadata": {},
   "outputs": [
    {
     "data": {
      "text/plain": [
       "629"
      ]
     },
     "execution_count": 6,
     "metadata": {},
     "output_type": "execute_result"
    }
   ],
   "source": [
    "ti_di = catalog(TR)\n",
    "\n",
    "length(ti_di)"
   ]
  }
 ],
 "metadata": {
  "@webio": {
   "lastCommId": null,
   "lastKernelId": null
  },
  "kernelspec": {
   "display_name": "Julia 1.6.3",
   "language": "julia",
   "name": "julia-1.6"
  },
  "language_info": {
   "file_extension": ".jl",
   "mimetype": "application/julia",
   "name": "julia",
   "version": "1.6.3"
  }
 },
 "nbformat": 4,
 "nbformat_minor": 5
}
