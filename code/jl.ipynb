{
 "cells": [
  {
   "cell_type": "code",
   "execution_count": 1,
   "id": "d98e8624",
   "metadata": {},
   "outputs": [
    {
     "data": {
      "application/vnd.webio.node+json": {
       "children": [],
       "instanceArgs": {
        "namespace": "html",
        "tag": "div"
       },
       "nodeType": "DOM",
       "props": {},
       "type": "node"
      },
      "text/html": [
       "<div style=\"padding: 1em; background-color: #f8d6da; border: 1px solid #f5c6cb; font-weight: bold;\">\n",
       "<p>The WebIO Jupyter extension was not detected. See the\n",
       "<a href=\"https://juliagizmos.github.io/WebIO.jl/latest/providers/ijulia/\" target=\"_blank\">\n",
       "    WebIO Jupyter integration documentation\n",
       "</a>\n",
       "for more information.\n",
       "</div>\n"
      ],
      "text/plain": [
       "WebIO._IJuliaInit()"
      ]
     },
     "metadata": {
      "application/vnd.webio.node+json": {
       "kernelId": "69459907-0156-4998-9410-4ada7fb427de"
      }
     },
     "output_type": "display_data"
    }
   ],
   "source": [
    "using Revise\n",
    "using BenchmarkTools\n",
    "\n",
    "using Kwat"
   ]
  },
  {
   "cell_type": "code",
   "execution_count": 2,
   "id": "d3a172dc",
   "metadata": {},
   "outputs": [
    {
     "data": {
      "text/plain": [
       "\"../tree/\""
      ]
     },
     "execution_count": 2,
     "metadata": {},
     "output_type": "execute_result"
    }
   ],
   "source": [
    "tr = joinpath(\"..\", \"tree\", \"\")"
   ]
  },
  {
   "cell_type": "code",
   "execution_count": 3,
   "id": "059dc749",
   "metadata": {},
   "outputs": [
    {
     "data": {
      "text/plain": [
       "is_good_structure (generic function with 1 method)"
      ]
     },
     "execution_count": 3,
     "metadata": {},
     "output_type": "execute_result"
    }
   ],
   "source": [
    "using Kwat.path: clean\n",
    "\n",
    "function is_good_structure(na::String)::Bool\n",
    "    \n",
    "    if na != clean(na)\n",
    "        \n",
    "        error(na)\n",
    "        \n",
    "    end\n",
    "    \n",
    "    return occursin(r\"^[0-9]+\\.[_0-9a-z]+(\\.md$|$)\", na)\n",
    "    \n",
    "end"
   ]
  },
  {
   "cell_type": "code",
   "execution_count": 4,
   "id": "e9453956",
   "metadata": {},
   "outputs": [
    {
     "data": {
      "text/plain": [
       "split_for_sorting (generic function with 1 method)"
      ]
     },
     "execution_count": 4,
     "metadata": {},
     "output_type": "execute_result"
    }
   ],
   "source": [
    "function split_for_sorting(na::String)::Vector{Union{String,Float64}}\n",
    "\n",
    "    pa_ = Vector{Union{String,Float64}}()\n",
    "\n",
    "    for sp in split(na, \".\")\n",
    "\n",
    "        sp = string(sp)\n",
    "\n",
    "        pu = tryparse(Float64, sp)\n",
    "\n",
    "        if pu === nothing\n",
    "\n",
    "            pu = sp\n",
    "\n",
    "        end\n",
    "\n",
    "        push!(pa_, pu)\n",
    "\n",
    "    end\n",
    "\n",
    "    return pa_\n",
    "\n",
    "end"
   ]
  },
  {
   "cell_type": "code",
   "execution_count": 5,
   "id": "0f25ca53",
   "metadata": {
    "scrolled": false
   },
   "outputs": [],
   "source": [
    "for (ro, di_, fi_) in walkdir(tr; topdown = false)\n",
    "\n",
    "    fi_ = [fi for fi in fi_ if !startswith(fi, \".\")]\n",
    "    \n",
    "    go_ = Vector{String}()\n",
    "\n",
    "    ba_ = Vector{String}()\n",
    "\n",
    "    for na in [di_; fi_]\n",
    "\n",
    "        if is_good_structure(na)\n",
    "\n",
    "            push!(go_, na)\n",
    "\n",
    "        else\n",
    "\n",
    "            push!(ba_, na)\n",
    "\n",
    "        end\n",
    "\n",
    "    end\n",
    "\n",
    "    sort!(go_; by = split_for_sorting)\n",
    "\n",
    "    for (id, na) in enumerate([go_; ba_])\n",
    "\n",
    "        pa1 = joinpath(ro, na)\n",
    "\n",
    "        if is_good_structure(na)\n",
    "\n",
    "            pa2 = joinpath(ro, string(id, \".\", split(na, \".\"; limit = 2)[2]))\n",
    "\n",
    "        else\n",
    "\n",
    "            pa2 = joinpath(ro, string(id, \".\", na))\n",
    "\n",
    "        end\n",
    "\n",
    "        if pa1 != pa2\n",
    "\n",
    "            println(pa1, \" ==> \", pa2)\n",
    "\n",
    "            mv(pa1, pa2)\n",
    "\n",
    "        end\n",
    "\n",
    "    end\n",
    "\n",
    "end"
   ]
  }
 ],
 "metadata": {
  "@webio": {
   "lastCommId": "1ba1fcd294b9432993f957a644145d12",
   "lastKernelId": "69459907-0156-4998-9410-4ada7fb427de"
  },
  "kernelspec": {
   "display_name": "Julia 1.6.3",
   "language": "julia",
   "name": "julia-1.6"
  },
  "language_info": {
   "file_extension": ".jl",
   "mimetype": "application/julia",
   "name": "julia",
   "version": "1.6.3"
  }
 },
 "nbformat": 4,
 "nbformat_minor": 5
}
