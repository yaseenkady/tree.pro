{
 "cells": [
  {
   "cell_type": "code",
   "execution_count": 1,
   "id": "1151aaa0",
   "metadata": {},
   "outputs": [
    {
     "data": {
      "application/vnd.webio.node+json": {
       "children": [],
       "instanceArgs": {
        "namespace": "html",
        "tag": "div"
       },
       "nodeType": "DOM",
       "props": {},
       "type": "node"
      },
      "text/html": [
       "<div style=\"padding: 1em; background-color: #f8d6da; border: 1px solid #f5c6cb; font-weight: bold;\">\n",
       "<p>The WebIO Jupyter extension was not detected. See the\n",
       "<a href=\"https://juliagizmos.github.io/WebIO.jl/latest/providers/ijulia/\" target=\"_blank\">\n",
       "    WebIO Jupyter integration documentation\n",
       "</a>\n",
       "for more information.\n",
       "</div>\n"
      ],
      "text/plain": [
       "WebIO._IJuliaInit()"
      ]
     },
     "metadata": {
      "application/vnd.webio.node+json": {
       "kernelId": "3bab167e-c790-4dd0-a5e0-ba12c0423605"
      }
     },
     "output_type": "display_data"
    },
    {
     "name": "stdout",
     "output_type": "stream",
     "text": [
      "./1.example.md ==> ../input/1.example.md\n",
      "./hierarchy/ ==> ../input/hierarchy/\n"
     ]
    },
    {
     "data": {
      "text/plain": [
       "make_id (generic function with 1 method)"
      ]
     },
     "execution_count": 1,
     "metadata": {},
     "output_type": "execute_result"
    }
   ],
   "source": [
    "include(\"_.jl\")"
   ]
  },
  {
   "cell_type": "code",
   "execution_count": 2,
   "id": "d3a172dc",
   "metadata": {},
   "outputs": [
    {
     "data": {
      "text/plain": [
       "\"../input/hierarchy/\""
      ]
     },
     "execution_count": 2,
     "metadata": {},
     "output_type": "execute_result"
    }
   ],
   "source": [
    "tr = SE[\"hierarchy\"]"
   ]
  },
  {
   "cell_type": "code",
   "execution_count": 3,
   "id": "090f6033",
   "metadata": {},
   "outputs": [
    {
     "data": {
      "text/plain": [
       "3-element Vector{String}:\n",
       " \"# .\"\n",
       " \"# <\"\n",
       " \"# >\""
      ]
     },
     "execution_count": 3,
     "metadata": {},
     "output_type": "execute_result"
    }
   ],
   "source": [
    "em = SE[\"example_md\"]\n",
    "\n",
    "he_ = [li for li in readlines(em) if li != \"\"]"
   ]
  },
  {
   "cell_type": "code",
   "execution_count": 4,
   "id": "cc702f07",
   "metadata": {
    "scrolled": false
   },
   "outputs": [
    {
     "name": "stdout",
     "output_type": "stream",
     "text": [
      "Enforcing name format\n",
      "Bad name? 2.22q11_syndrome.md\n",
      "Bad name? 2.5a_reductase_deficiency.md\n",
      "Bad name? 2.46xx\n",
      "Bad name? 3.46xy\n"
     ]
    }
   ],
   "source": [
    "println(\"Enforcing name format\")\n",
    "\n",
    "for (ro, di_, fi_) in walk_up(tr)\n",
    "\n",
    "    for na in [di_; fi_]\n",
    "\n",
    "        cl = Kwat.path.clean(na)\n",
    "\n",
    "        if na != cl\n",
    "\n",
    "            move(joinpath(ro, na), joinpath(ro, cl))\n",
    "\n",
    "        end\n",
    "        \n",
    "        if occursin(r\"^[0-9]+\\.[0-9]+[_0-9a-z]+(\\.md$|$)\", na)\n",
    "\n",
    "            println(\"Bad name? \", na)\n",
    "            \n",
    "        end\n",
    "        \n",
    "    end\n",
    "\n",
    "end"
   ]
  },
  {
   "cell_type": "code",
   "execution_count": 5,
   "id": "0b18154a",
   "metadata": {
    "scrolled": false
   },
   "outputs": [
    {
     "name": "stdout",
     "output_type": "stream",
     "text": [
      "Enforcing name numbering\n"
     ]
    }
   ],
   "source": [
    "println(\"Enforcing name numbering\")\n",
    "\n",
    "for (ro, di_, fi_) in walk_up(tr)\n",
    "\n",
    "    go_ = Vector{String}()\n",
    "\n",
    "    ba_ = Vector{String}()\n",
    "\n",
    "    for na in [di_; fi_]\n",
    "\n",
    "        if is_good_structure(na)\n",
    "\n",
    "            push!(go_, na)\n",
    "\n",
    "        else\n",
    "\n",
    "            push!(ba_, na)\n",
    "\n",
    "        end\n",
    "\n",
    "    end\n",
    "\n",
    "    sort!(go_; by = split_good_structure)\n",
    "\n",
    "    n_go = length(go_)\n",
    "\n",
    "    for (id, na) in enumerate([go_; ba_])\n",
    "\n",
    "        pa1 = joinpath(ro, na)\n",
    "\n",
    "        if id <= n_go\n",
    "\n",
    "            pa2 = joinpath(ro, join([id; split_good_structure(na)[2:end]], \".\"))\n",
    "\n",
    "        else\n",
    "\n",
    "            pa2 = joinpath(ro, join([id, na], \".\"))\n",
    "\n",
    "        end\n",
    "\n",
    "        if pa1 != pa2\n",
    "\n",
    "            move(pa1, pa2)\n",
    "\n",
    "        end\n",
    "\n",
    "    end\n",
    "\n",
    "end"
   ]
  },
  {
   "cell_type": "code",
   "execution_count": 6,
   "id": "7277d538",
   "metadata": {},
   "outputs": [
    {
     "name": "stdout",
     "output_type": "stream",
     "text": [
      "Enforcing 1._.md\n"
     ]
    }
   ],
   "source": [
    "println(\"Enforcing 1._.md\")\n",
    "\n",
    "for (ro, di_, fi_) in walk_up(tr)\n",
    "\n",
    "    for fi in fi_\n",
    "\n",
    "        id, ti = split(fi, \".\")\n",
    "\n",
    "        pa1 = joinpath(ro, fi)\n",
    "\n",
    "        pa2 = joinpath(ro, string(\"1._.md\"))\n",
    "\n",
    "        if ti == split(splitdir(ro)[2], \".\")[2] || ti == \"_\" && id != \"1\"\n",
    "\n",
    "            move(pa1, pa2)\n",
    "\n",
    "        end\n",
    "\n",
    "    end\n",
    "\n",
    "end"
   ]
  },
  {
   "cell_type": "code",
   "execution_count": 7,
   "id": "457b122a",
   "metadata": {},
   "outputs": [
    {
     "name": "stdout",
     "output_type": "stream",
     "text": [
      "Checking .md content\n"
     ]
    }
   ],
   "source": [
    "println(\"Checking .md content\")\n",
    "\n",
    "for (ro, di_, fi_) in walk_up(tr)\n",
    "\n",
    "    for fi in fi_\n",
    "\n",
    "        pa = joinpath(ro, fi)\n",
    "\n",
    "        li_ = readlines(pa)\n",
    "\n",
    "        if length(li_) == 0\n",
    "\n",
    "            println(\"Is empty (populating): \", pa)\n",
    "\n",
    "            cp(em, pa; force = true)\n",
    "\n",
    "        elseif !all(he in li_ for he in he_)\n",
    "\n",
    "            #error(\"Is missing at least 1 required header: \", pa)\n",
    "\n",
    "        elseif !all(0 .< diff([findfirst(li_ .== he) for he in he_]))\n",
    "\n",
    "            error(\"Has incorrectly ordered headers: \", pa)\n",
    "\n",
    "        end\n",
    "\n",
    "    end\n",
    "\n",
    "end"
   ]
  },
  {
   "cell_type": "code",
   "execution_count": 8,
   "id": "dfe26d40",
   "metadata": {
    "scrolled": false
   },
   "outputs": [
    {
     "name": "stdout",
     "output_type": "stream",
     "text": [
      "IDing .md\n"
     ]
    }
   ],
   "source": [
    "println(\"IDing .md\")\n",
    "\n",
    "ti_id = Dict{String,Vector{Int64}}()\n",
    "\n",
    "hi = splitdir(dirname(tr))[2]\n",
    "\n",
    "for (ro, di_, fi_) in walk_up(tr)\n",
    "\n",
    "    for fi in fi_\n",
    "\n",
    "        id, ti = split(fi, \".\")\n",
    "\n",
    "        if ti == \"_\"\n",
    "\n",
    "            if id != \"1\"\n",
    "\n",
    "                error(\"ID is not 1: \", fi)\n",
    "\n",
    "            end\n",
    "\n",
    "            ti = split(splitdir(ro)[2], \".\")[2]\n",
    "\n",
    "        end\n",
    "\n",
    "        pa = joinpath(ro, fi)\n",
    "\n",
    "        if haskey(ti_id, ti)\n",
    "\n",
    "            error(\"Duplicated: \", ti_id[ti], \" and \", pa)\n",
    "\n",
    "        else\n",
    "            \n",
    "            ti_id[ti] = make_id(pa, hi)\n",
    "\n",
    "        end\n",
    "\n",
    "    end\n",
    "\n",
    "end"
   ]
  },
  {
   "cell_type": "code",
   "execution_count": 9,
   "id": "5d527c53",
   "metadata": {},
   "outputs": [
    {
     "data": {
      "text/plain": [
       "1779-element Vector{String}:\n",
       " \"22q11_syndrome\"\n",
       " \"46xx\"\n",
       " \"46xy\"\n",
       " \"5a_reductase_deficiency\"\n",
       " \"a_antitrypsin_deficiency\"\n",
       " \"abdominal_distension\"\n",
       " \"abdominal_obesity\"\n",
       " \"abdominal_pain\"\n",
       " \"abruptio_placenta\"\n",
       " \"absent_axillary_hair\"\n",
       " \"absent_pubic_hair\"\n",
       " \"acalculous_cholecystitis\"\n",
       " \"acetaminophen\"\n",
       " ⋮\n",
       " \"xanthelasma\"\n",
       " \"xanthogranulomatous_pyelonephritis\"\n",
       " \"xanthoma\"\n",
       " \"xxy\"\n",
       " \"yellow_fever_virus\"\n",
       " \"yersinia_pestis\"\n",
       " \"yolk_sac_tumor\"\n",
       " \"young_adult\"\n",
       " \"zenker_diverticulum\"\n",
       " \"zika_virus\"\n",
       " \"ziprasidone\"\n",
       " \"zollinger_ellison_syndrome\""
      ]
     },
     "execution_count": 9,
     "metadata": {},
     "output_type": "execute_result"
    }
   ],
   "source": [
    "na_ = sort(collect(keys(ti_id)))"
   ]
  },
  {
   "cell_type": "code",
   "execution_count": 10,
   "id": "757a8272",
   "metadata": {
    "scrolled": false
   },
   "outputs": [
    {
     "name": "stdout",
     "output_type": "stream",
     "text": [
      "Checking name\n",
      "--------------------------------------------------------------------------------\n",
      "decreased_appetite\n",
      "decreased_breath_sound\n",
      "decreased_heart_sound\n",
      "decreased_sexual_drive\n",
      "decreased_weight\n",
      "\n",
      "--------------------------------------------------------------------------------\n",
      "increased_weight\n",
      "\n",
      "--------------------------------------------------------------------------------\n",
      "low_bone_density\n",
      "low_diet_ca\n",
      "low_diet_carbohydrate\n",
      "low_diet_fe\n",
      "low_diet_i\n",
      "low_diet_k\n",
      "low_diet_vitamin_b1\n",
      "low_diet_vitamin_b12\n",
      "low_diet_vitamin_b3\n",
      "low_diet_vitamin_b6\n",
      "low_diet_vitamin_b9\n",
      "low_diet_vitamin_d\n",
      "low_hemoglobin_a1c\n",
      "low_pulse_pressure\n",
      "low_serum_acth\n",
      "low_serum_adh\n",
      "low_serum_aldosterone\n",
      "low_serum_bicarbonate\n",
      "low_serum_ca\n",
      "low_serum_cholecystokinin\n",
      "low_serum_cholesterol\n",
      "low_serum_clotting_factor\n",
      "low_serum_cortisol\n",
      "low_serum_crh\n",
      "low_serum_ferritin\n",
      "low_serum_free_t4\n",
      "low_serum_fsh\n",
      "low_serum_gastric_inhibitory_peptide\n",
      "low_serum_gastrin\n",
      "low_serum_gh\n",
      "low_serum_glucagon\n",
      "low_serum_hdl\n",
      "low_serum_hemoglobin\n",
      "low_serum_igf1\n",
      "low_serum_insulin\n",
      "low_serum_k\n",
      "low_serum_ldl\n",
      "low_serum_lh\n",
      "low_serum_na\n",
      "low_serum_osmolality\n",
      "low_serum_ph\n",
      "low_serum_po4\n",
      "low_serum_prolactin\n",
      "low_serum_pth\n",
      "low_serum_renin\n",
      "low_serum_secretin\n",
      "low_serum_testosterone\n",
      "low_serum_tsh\n",
      "low_serum_vitamin_d\n",
      "low_sun_exposure\n",
      "low_urine_ca\n",
      "low_urine_osmolality\n",
      "low_urine_specific_gravity\n",
      "low_voltage_qrs\n",
      "\n",
      "--------------------------------------------------------------------------------\n",
      "high_diet_ca\n",
      "high_diet_i\n",
      "high_diet_k\n",
      "high_diet_protein\n",
      "high_diet_vitamin_d\n",
      "high_esr\n",
      "high_hematocrit\n",
      "high_pulse_pressure\n",
      "high_serum_acth\n",
      "high_serum_adh\n",
      "high_serum_afp\n",
      "high_serum_albumin\n",
      "high_serum_aldosterone\n",
      "high_serum_alkaline_phosphatase\n",
      "high_serum_alt\n",
      "high_serum_amylase\n",
      "high_serum_androgen\n",
      "high_serum_anp\n",
      "high_serum_ast\n",
      "high_serum_bhcg\n",
      "high_serum_bilirubin\n",
      "high_serum_bnp\n",
      "high_serum_bvldl\n",
      "high_serum_ca\n",
      "high_serum_calcitonin\n",
      "high_serum_calcitriol\n",
      "high_serum_catecholamine\n",
      "high_serum_cholesterol\n",
      "high_serum_chylomicron\n",
      "high_serum_cortisol\n",
      "high_serum_creatine\n",
      "high_serum_creatinine\n",
      "high_serum_crp\n",
      "high_serum_epo\n",
      "high_serum_free_t3\n",
      "high_serum_free_t4\n",
      "high_serum_fsh\n",
      "high_serum_gastrin\n",
      "high_serum_gh\n",
      "high_serum_gh_after_glucose\n",
      "high_serum_glucagon\n",
      "high_serum_glucose\n",
      "high_serum_grh\n",
      "high_serum_hemoglobin_a1c\n",
      "high_serum_idl\n",
      "high_serum_igf1\n",
      "high_serum_il6\n",
      "high_serum_immunoglobulin\n",
      "high_serum_inr\n",
      "high_serum_insulin\n",
      "high_serum_k\n",
      "high_serum_ketone\n",
      "high_serum_lactate\n",
      "high_serum_ldh\n",
      "high_serum_ldl\n",
      "high_serum_lh\n",
      "high_serum_lipase\n",
      "high_serum_na\n",
      "high_serum_osmolality\n",
      "high_serum_ph\n",
      "high_serum_po4\n",
      "high_serum_prolactin\n",
      "high_serum_pth\n",
      "high_serum_renin\n",
      "high_serum_rf\n",
      "high_serum_somatostatin\n",
      "high_serum_triglyceride\n",
      "high_serum_troponin\n",
      "high_serum_tsh\n",
      "high_serum_urea_nitrogen\n",
      "high_serum_vip\n",
      "high_serum_vitamin_d\n",
      "high_serum_vldl\n",
      "high_sexual_activity\n",
      "high_sun_exposure\n",
      "high_urine_catecholamine\n",
      "high_urine_cortisol\n",
      "high_urine_glucose\n",
      "high_urine_homocysteine\n",
      "high_urine_ketone\n",
      "high_urine_na\n",
      "high_urine_osmolality\n",
      "high_urine_specific_gravity\n",
      "\n",
      "--------------------------------------------------------------------------------\n",
      "poor_hygiene\n",
      "poor_sleep_hygiene\n",
      "poor_wound_healing\n",
      "\n",
      "--------------------------------------------------------------------------------\n",
      "prolonged_expiratory_phase\n",
      "\n",
      "--------------------------------------------------------------------------------\n",
      "auditory_deficit\n",
      "neurological_focal_deficit\n",
      "olfactory_deficit\n",
      "speech_deficit\n",
      "visual_deficit\n",
      "\n",
      "--------------------------------------------------------------------------------\n",
      "atrial_septal_defect\n",
      "hand_defect\n",
      "midline_defect\n",
      "ventricular_septal_defect\n",
      "\n"
     ]
    }
   ],
   "source": [
    "println(\"Checking name\")\n",
    "\n",
    "for wo in SE[\"words_to_check\"]\n",
    "    \n",
    "    println(\"-\" ^ 80)\n",
    "    \n",
    "    for na in na_\n",
    "        \n",
    "        if occursin(Regex(\"(?<![a-z])$wo(?![a-z])\"), na)\n",
    "\n",
    "            println(na)\n",
    "\n",
    "        end\n",
    "        \n",
    "    end\n",
    "    \n",
    "    println()\n",
    "\n",
    "end"
   ]
  },
  {
   "cell_type": "code",
   "execution_count": 11,
   "id": "8e954399",
   "metadata": {},
   "outputs": [
    {
     "data": {
      "text/plain": [
       "Dict{String, String} with 1 entry:\n",
       "  \"\" => \"\""
      ]
     },
     "execution_count": 11,
     "metadata": {},
     "output_type": "execute_result"
    }
   ],
   "source": [
    "be_af = Dict(be => af for (be, af) in SE[\"renaming_pairs\"])"
   ]
  }
 ],
 "metadata": {
  "@webio": {
   "lastCommId": "ddf0730b85dd433f8203aa8c1ec313e8",
   "lastKernelId": "3bab167e-c790-4dd0-a5e0-ba12c0423605"
  },
  "kernelspec": {
   "display_name": "Julia 1.6.3",
   "language": "julia",
   "name": "julia-1.6"
  },
  "language_info": {
   "file_extension": ".jl",
   "mimetype": "application/julia",
   "name": "julia",
   "version": "1.6.3"
  }
 },
 "nbformat": 4,
 "nbformat_minor": 5
}
