{
 "cells": [
  {
   "cell_type": "code",
   "execution_count": null,
   "id": "c4c2f610",
   "metadata": {},
   "outputs": [],
   "source": [
    "include(\"_.jl\")"
   ]
  },
  {
   "cell_type": "code",
   "execution_count": null,
   "id": "d3a172dc",
   "metadata": {},
   "outputs": [],
   "source": [
    "tr = SE[\"tree\"]\n",
    "\n",
    "isdir(tr)"
   ]
  },
  {
   "cell_type": "code",
   "execution_count": null,
   "id": "090f6033",
   "metadata": {},
   "outputs": [],
   "source": [
    "em = SE[\"example_md\"]\n",
    "\n",
    "he_ = [li for li in readlines(em) if li != \"\"]"
   ]
  },
  {
   "cell_type": "code",
   "execution_count": null,
   "id": "cc702f07",
   "metadata": {},
   "outputs": [],
   "source": [
    "println(\"Renaming .md\")\n",
    "\n",
    "for (ro, di_, fi_) in walk_up(tr)\n",
    "\n",
    "    for fi in fi_\n",
    "\n",
    "        cl = Kwat.path.clean(fi)\n",
    "\n",
    "        if fi != cl\n",
    "\n",
    "            println(fi, \" ==> \", cl)\n",
    "\n",
    "            mv(joinpath(ro, fi), joinpath(ro, cl))\n",
    "\n",
    "        end\n",
    "\n",
    "    end\n",
    "\n",
    "end"
   ]
  },
  {
   "cell_type": "code",
   "execution_count": null,
   "id": "0b18154a",
   "metadata": {
    "scrolled": false
   },
   "outputs": [],
   "source": [
    "println(\"Numbering / and .md\")\n",
    "\n",
    "for (ro, di_, fi_) in walk_up(tr)\n",
    "\n",
    "    go_ = Vector{String}()\n",
    "\n",
    "    ba_ = Vector{String}()\n",
    "\n",
    "    for na in [di_; fi_]\n",
    "\n",
    "        if is_good_structure(na)\n",
    "\n",
    "            push!(go_, na)\n",
    "\n",
    "        else\n",
    "\n",
    "            push!(ba_, na)\n",
    "\n",
    "        end\n",
    "\n",
    "    end\n",
    "\n",
    "    sort!(go_; by = split_good_structure)\n",
    "\n",
    "    n_go = length(go_)\n",
    "\n",
    "    for (id, na) in enumerate([go_; ba_])\n",
    "\n",
    "        pa1 = joinpath(ro, na)\n",
    "\n",
    "        if id <= n_go\n",
    "\n",
    "            pa2 = joinpath(ro, join([id; split_good_structure(na)[2:end]], \".\"))\n",
    "\n",
    "        else\n",
    "\n",
    "            pa2 = joinpath(ro, join([id, na], \".\"))\n",
    "\n",
    "        end\n",
    "\n",
    "        if pa1 != pa2\n",
    "\n",
    "            println(splitdir(pa1)[2], \" ==> \", splitdir(pa2)[2])\n",
    "\n",
    "            mv(pa1, pa2)\n",
    "\n",
    "        end\n",
    "\n",
    "    end\n",
    "\n",
    "end"
   ]
  },
  {
   "cell_type": "code",
   "execution_count": null,
   "id": "457b122a",
   "metadata": {},
   "outputs": [],
   "source": [
    "println(\"Checking .md content\")\n",
    "\n",
    "for (ro, di_, fi_) in walk_up(tr)\n",
    "\n",
    "    for fi in fi_\n",
    "\n",
    "        pa = joinpath(ro, fi)\n",
    "\n",
    "        li_ = readlines(pa)\n",
    "\n",
    "        if length(li_) == 0\n",
    "\n",
    "            println(\"Is empty (populating): \", pa)\n",
    "\n",
    "            cp(em, pa; force = true)\n",
    "\n",
    "        elseif !all(he in li_ for he in he_)\n",
    "\n",
    "            #error(\"Is missing at least 1 required header: \", pa)\n",
    "\n",
    "        elseif !all(0 .< diff([findfirst(li_ .== he) for he in he_]))\n",
    "\n",
    "            error(\"Has incorrectly ordered headers: \", pa)\n",
    "\n",
    "        end\n",
    "\n",
    "    end\n",
    "\n",
    "end"
   ]
  },
  {
   "cell_type": "code",
   "execution_count": null,
   "id": "dfe26d40",
   "metadata": {
    "scrolled": false
   },
   "outputs": [],
   "source": [
    "println(\"IDing .md\")\n",
    "\n",
    "fi_id = Dict{String, Vector{Int64}}()\n",
    "\n",
    "for (ro, di_, fi_) in walk_up(tr)\n",
    "   \n",
    "    for fi in fi_\n",
    "        \n",
    "        if occursin(r\"^[0-9]+\\._.md$\", fi)\n",
    "            \n",
    "            fi = replace(fi, \"_\" => split(splitdir(ro)[2], \".\")[2])\n",
    "            \n",
    "        end\n",
    "        \n",
    "        pa = joinpath(ro, fi)\n",
    "        \n",
    "        if haskey(fi_id, fi)\n",
    "            \n",
    "            error(\"Duplicated: \", pa)\n",
    "            \n",
    "        else\n",
    "            \n",
    "            fi_id[fi] = make_id(pa)\n",
    "            \n",
    "        end\n",
    "        \n",
    "    end\n",
    "    \n",
    "end"
   ]
  }
 ],
 "metadata": {
  "@webio": {
   "lastCommId": null,
   "lastKernelId": null
  },
  "kernelspec": {
   "display_name": "Julia 1.6.3",
   "language": "julia",
   "name": "julia-1.6"
  },
  "language_info": {
   "file_extension": ".jl",
   "mimetype": "application/julia",
   "name": "julia",
   "version": "1.6.3"
  }
 },
 "nbformat": 4,
 "nbformat_minor": 5
}
