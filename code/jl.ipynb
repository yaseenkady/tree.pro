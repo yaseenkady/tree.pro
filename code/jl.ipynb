{
 "cells": [
  {
   "cell_type": "code",
   "execution_count": null,
   "id": "1151aaa0",
   "metadata": {},
   "outputs": [],
   "source": [
    "include(\"_.jl\")"
   ]
  },
  {
   "cell_type": "code",
   "execution_count": null,
   "id": "d3a172dc",
   "metadata": {},
   "outputs": [],
   "source": [
    "tr = SE[\"hierarchy\"]"
   ]
  },
  {
   "cell_type": "code",
   "execution_count": null,
   "id": "090f6033",
   "metadata": {},
   "outputs": [],
   "source": [
    "em = SE[\"example_md\"]\n",
    "\n",
    "he_ = [li for li in readlines(em) if li != \"\"]"
   ]
  },
  {
   "cell_type": "code",
   "execution_count": null,
   "id": "cc702f07",
   "metadata": {
    "scrolled": false
   },
   "outputs": [],
   "source": [
    "println(\"Enforcing name format\")\n",
    "\n",
    "for (ro, di_, fi_) in walk_up(tr)\n",
    "\n",
    "    for na in [di_; fi_]\n",
    "\n",
    "        cl = Kwat.path.clean(na)\n",
    "\n",
    "        if na != cl\n",
    "\n",
    "            move(joinpath(ro, na), joinpath(ro, cl))\n",
    "\n",
    "        end\n",
    "        \n",
    "        if occursin(r\"^[0-9]+\\.[0-9]+[_0-9a-z]+(\\.md$|$)\", na)\n",
    "\n",
    "            println(\"Bad name? \", na)\n",
    "            \n",
    "        end\n",
    "        \n",
    "    end\n",
    "\n",
    "end"
   ]
  },
  {
   "cell_type": "code",
   "execution_count": null,
   "id": "0b18154a",
   "metadata": {
    "scrolled": false
   },
   "outputs": [],
   "source": [
    "println(\"Enforcing name numbering\")\n",
    "\n",
    "for (ro, di_, fi_) in walk_up(tr)\n",
    "\n",
    "    go_ = Vector{String}()\n",
    "\n",
    "    ba_ = Vector{String}()\n",
    "\n",
    "    for na in [di_; fi_]\n",
    "\n",
    "        if is_good_structure(na)\n",
    "\n",
    "            push!(go_, na)\n",
    "\n",
    "        else\n",
    "\n",
    "            push!(ba_, na)\n",
    "\n",
    "        end\n",
    "\n",
    "    end\n",
    "\n",
    "    sort!(go_; by = split_good_structure)\n",
    "\n",
    "    n_go = length(go_)\n",
    "\n",
    "    for (id, na) in enumerate([go_; ba_])\n",
    "\n",
    "        pa1 = joinpath(ro, na)\n",
    "\n",
    "        if id <= n_go\n",
    "\n",
    "            pa2 = joinpath(ro, join([id; split_good_structure(na)[2:end]], \".\"))\n",
    "\n",
    "        else\n",
    "\n",
    "            pa2 = joinpath(ro, join([id, na], \".\"))\n",
    "\n",
    "        end\n",
    "\n",
    "        if pa1 != pa2\n",
    "\n",
    "            move(pa1, pa2)\n",
    "\n",
    "        end\n",
    "\n",
    "    end\n",
    "\n",
    "end"
   ]
  },
  {
   "cell_type": "code",
   "execution_count": null,
   "id": "7277d538",
   "metadata": {},
   "outputs": [],
   "source": [
    "println(\"Enforcing 1._.md\")\n",
    "\n",
    "for (ro, di_, fi_) in walk_up(tr)\n",
    "\n",
    "    for fi in fi_\n",
    "\n",
    "        id, ti = split(fi, \".\")\n",
    "\n",
    "        pa1 = joinpath(ro, fi)\n",
    "\n",
    "        pa2 = joinpath(ro, string(\"1._.md\"))\n",
    "\n",
    "        if ti == split(splitdir(ro)[2], \".\")[2] || ti == \"_\" && id != \"1\"\n",
    "\n",
    "            move(pa1, pa2)\n",
    "\n",
    "        end\n",
    "\n",
    "    end\n",
    "\n",
    "end"
   ]
  },
  {
   "cell_type": "code",
   "execution_count": null,
   "id": "457b122a",
   "metadata": {},
   "outputs": [],
   "source": [
    "println(\"Checking .md content\")\n",
    "\n",
    "for (ro, di_, fi_) in walk_up(tr)\n",
    "\n",
    "    for fi in fi_\n",
    "\n",
    "        pa = joinpath(ro, fi)\n",
    "\n",
    "        li_ = readlines(pa)\n",
    "\n",
    "        if length(li_) == 0\n",
    "\n",
    "            println(\"Is empty (populating): \", pa)\n",
    "\n",
    "            cp(em, pa; force = true)\n",
    "\n",
    "        elseif !all(he in li_ for he in he_)\n",
    "\n",
    "            #error(\"Is missing at least 1 required header: \", pa)\n",
    "\n",
    "        elseif !all(0 .< diff([findfirst(li_ .== he) for he in he_]))\n",
    "\n",
    "            error(\"Has incorrectly ordered headers: \", pa)\n",
    "\n",
    "        end\n",
    "\n",
    "    end\n",
    "\n",
    "end"
   ]
  },
  {
   "cell_type": "code",
   "execution_count": null,
   "id": "dfe26d40",
   "metadata": {
    "scrolled": false
   },
   "outputs": [],
   "source": [
    "println(\"IDing .md\")\n",
    "\n",
    "ti_id = Dict{String,Vector{Int64}}()\n",
    "\n",
    "hi = splitdir(dirname(tr))[2]\n",
    "\n",
    "for (ro, di_, fi_) in walk_up(tr)\n",
    "\n",
    "    for fi in fi_\n",
    "\n",
    "        id, ti = split(fi, \".\")\n",
    "\n",
    "        if ti == \"_\"\n",
    "\n",
    "            if id != \"1\"\n",
    "\n",
    "                error(\"ID is not 1: \", fi)\n",
    "\n",
    "            end\n",
    "\n",
    "            ti = split(splitdir(ro)[2], \".\")[2]\n",
    "\n",
    "        end\n",
    "\n",
    "        pa = joinpath(ro, fi)\n",
    "\n",
    "        if haskey(ti_id, ti)\n",
    "\n",
    "            error(\"Duplicated: \", ti_id[ti], \" and \", pa)\n",
    "\n",
    "        else\n",
    "\n",
    "            ti_id[ti] = make_id(pa, hi)\n",
    "\n",
    "        end\n",
    "\n",
    "    end\n",
    "\n",
    "end"
   ]
  },
  {
   "cell_type": "code",
   "execution_count": null,
   "id": "5d527c53",
   "metadata": {},
   "outputs": [],
   "source": [
    "na_ = sort(collect(keys(ti_id)))"
   ]
  },
  {
   "cell_type": "code",
   "execution_count": null,
   "id": "757a8272",
   "metadata": {
    "scrolled": false
   },
   "outputs": [],
   "source": [
    "println(\"Checking name\")\n",
    "\n",
    "for wo in SE[\"words_to_check\"]\n",
    "    \n",
    "    println(\"-\" ^ 80)\n",
    "    \n",
    "    for na in na_\n",
    "        \n",
    "        if occursin(Regex(\"(?<![a-z])$wo(?![a-z])\"), na)\n",
    "\n",
    "            println(na)\n",
    "\n",
    "        end\n",
    "        \n",
    "    end\n",
    "    \n",
    "    println()\n",
    "\n",
    "end"
   ]
  },
  {
   "cell_type": "code",
   "execution_count": null,
   "id": "8e954399",
   "metadata": {},
   "outputs": [],
   "source": [
    "be_af = Dict(be => af for (be, af) in SE[\"renaming_pairs\"])"
   ]
  }
 ],
 "metadata": {
  "@webio": {
   "lastCommId": null,
   "lastKernelId": null
  },
  "kernelspec": {
   "display_name": "Julia 1.6.3",
   "language": "julia",
   "name": "julia-1.6"
  },
  "language_info": {
   "file_extension": ".jl",
   "mimetype": "application/julia",
   "name": "julia",
   "version": "1.6.3"
  }
 },
 "nbformat": 4,
 "nbformat_minor": 5
}
