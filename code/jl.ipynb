{
 "cells": [
  {
   "cell_type": "code",
   "execution_count": null,
   "id": "d98e8624",
   "metadata": {},
   "outputs": [],
   "source": [
    "using Revise\n",
    "using BenchmarkTools\n",
    "\n",
    "using Kwat"
   ]
  },
  {
   "cell_type": "code",
   "execution_count": null,
   "id": "d3a172dc",
   "metadata": {},
   "outputs": [],
   "source": [
    "tr = joinpath(\"..\", \"tree\", \"\")\n",
    "\n",
    ";"
   ]
  },
  {
   "cell_type": "code",
   "execution_count": null,
   "id": "090f6033",
   "metadata": {},
   "outputs": [],
   "source": [
    "em = \"1.empty.md\"\n",
    "\n",
    "he_ = [li for li in readlines(em) if li != \"\"]\n",
    "\n",
    ";"
   ]
  },
  {
   "cell_type": "code",
   "execution_count": null,
   "id": "059dc749",
   "metadata": {},
   "outputs": [],
   "source": [
    "using Kwat.path: clean\n",
    "\n",
    "function is_good_structure(na::String)::Bool\n",
    "    \n",
    "    return occursin(r\"^([0-9]+\\.){1,2}[_0-9a-z]+(\\.md$|$)\", na)\n",
    "    \n",
    "end"
   ]
  },
  {
   "cell_type": "code",
   "execution_count": null,
   "id": "e9453956",
   "metadata": {},
   "outputs": [],
   "source": [
    "function split_good_structre_for_sorting(na::String)::Vector{Union{Float64,String}}\n",
    "\n",
    "    sp_ = split(splitext(na)[1], \".\"; limit = 3)\n",
    "\n",
    "    return [parse(Float64, join(sp_[1:end-1], \".\")), string(sp_[end])]\n",
    "\n",
    "end"
   ]
  },
  {
   "cell_type": "code",
   "execution_count": null,
   "id": "0f25ca53",
   "metadata": {
    "scrolled": false
   },
   "outputs": [],
   "source": [
    "for (ro, di_, fi_) in walkdir(tr; topdown = false)\n",
    "\n",
    "    fi_ = [fi for fi in fi_ if !startswith(fi, \".\")]\n",
    "    \n",
    "    for fi in fi_\n",
    "        \n",
    "        cl = clean(na)\n",
    "        \n",
    "        if na != cl\n",
    "\n",
    "            println(na \" ==> \", cl)\n",
    "            \n",
    "            mv(joinpath(ro, fi), joinpath(ro, cl))\n",
    "            \n",
    "        end\n",
    "            \n",
    "    end\n",
    "\n",
    "    for fi in fi_\n",
    "\n",
    "        pa = joinpath(ro, fi)\n",
    "\n",
    "        li_ = readlines(pa)\n",
    "\n",
    "        if length(li_) == 0\n",
    "\n",
    "            println(\"Is empty (populating): \", pa)\n",
    "\n",
    "            cp(em, pa; force = true)\n",
    "\n",
    "        elseif !all(he in li_ for he in he_)\n",
    "\n",
    "            error(\"Is missing at least 1 required header: \", pa)\n",
    "\n",
    "        elseif !all(0 .< diff([findfirst(li_ .== he) for he in he_]))\n",
    "\n",
    "            error(\"Has incorrectly ordered headers: \", pa)\n",
    "\n",
    "        end\n",
    "\n",
    "    end\n",
    "\n",
    "    go_ = Vector{String}()\n",
    "\n",
    "    ba_ = Vector{String}()\n",
    "\n",
    "    for na in [di_; fi_]\n",
    "\n",
    "        if is_good_structure(na)\n",
    "\n",
    "            push!(go_, na)\n",
    "\n",
    "        else\n",
    "\n",
    "            push!(ba_, na)\n",
    "\n",
    "        end\n",
    "\n",
    "    end\n",
    "\n",
    "    sort!(go_; by = split_good_structre_for_sorting)\n",
    "\n",
    "    for (id, na) in enumerate([go_; ba_])\n",
    "\n",
    "        pa1 = joinpath(ro, na)\n",
    "\n",
    "        if is_good_structure(na)\n",
    "\n",
    "            pa2 = joinpath(ro, string(id, \".\", split(na, \".\"; limit = 2)[2]))\n",
    "\n",
    "        else\n",
    "\n",
    "            pa2 = joinpath(ro, string(id, \".\", na))\n",
    "\n",
    "        end\n",
    "\n",
    "        if pa1 != pa2\n",
    "\n",
    "            println(splitdir(pa1)[2], \" ==> \", splitdir(pa2)[2])\n",
    "\n",
    "            mv(pa1, pa2)\n",
    "\n",
    "        end\n",
    "\n",
    "    end\n",
    "\n",
    "end"
   ]
  }
 ],
 "metadata": {
  "@webio": {
   "lastCommId": "9be971750e1b428db5d6152807ae9a01",
   "lastKernelId": "69459907-0156-4998-9410-4ada7fb427de"
  },
  "kernelspec": {
   "display_name": "Julia 1.6.3",
   "language": "julia",
   "name": "julia-1.6"
  },
  "language_info": {
   "file_extension": ".jl",
   "mimetype": "application/julia",
   "name": "julia",
   "version": "1.6.3"
  }
 },
 "nbformat": 4,
 "nbformat_minor": 5
}
