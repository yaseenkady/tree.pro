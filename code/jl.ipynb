{
 "cells": [
  {
   "cell_type": "code",
   "execution_count": 1,
   "id": "1151aaa0",
   "metadata": {},
   "outputs": [
    {
     "data": {
      "application/vnd.webio.node+json": {
       "children": [],
       "instanceArgs": {
        "namespace": "html",
        "tag": "div"
       },
       "nodeType": "DOM",
       "props": {},
       "type": "node"
      },
      "text/html": [
       "<div style=\"padding: 1em; background-color: #f8d6da; border: 1px solid #f5c6cb; font-weight: bold;\">\n",
       "<p>The WebIO Jupyter extension was not detected. See the\n",
       "<a href=\"https://juliagizmos.github.io/WebIO.jl/latest/providers/ijulia/\" target=\"_blank\">\n",
       "    WebIO Jupyter integration documentation\n",
       "</a>\n",
       "for more information.\n",
       "</div>\n"
      ],
      "text/plain": [
       "WebIO._IJuliaInit()"
      ]
     },
     "metadata": {
      "application/vnd.webio.node+json": {
       "kernelId": "69459907-0156-4998-9410-4ada7fb427de"
      }
     },
     "output_type": "display_data"
    },
    {
     "name": "stdout",
     "output_type": "stream",
     "text": [
      "./tree/ ==> ../input/tree/\n",
      "./1.example.md ==> ../input/1.example.md\n"
     ]
    },
    {
     "data": {
      "text/plain": [
       "make_id (generic function with 1 method)"
      ]
     },
     "execution_count": 1,
     "metadata": {},
     "output_type": "execute_result"
    }
   ],
   "source": [
    "include(\"_.jl\")"
   ]
  },
  {
   "cell_type": "code",
   "execution_count": 10,
   "id": "d3a172dc",
   "metadata": {},
   "outputs": [
    {
     "data": {
      "text/plain": [
       "true"
      ]
     },
     "execution_count": 10,
     "metadata": {},
     "output_type": "execute_result"
    }
   ],
   "source": [
    "tr = SE[\"tree\"]\n",
    "\n",
    "isdir(tr)"
   ]
  },
  {
   "cell_type": "code",
   "execution_count": 11,
   "id": "090f6033",
   "metadata": {},
   "outputs": [
    {
     "data": {
      "text/plain": [
       "3-element Vector{String}:\n",
       " \"# .\"\n",
       " \"# <\"\n",
       " \"# >\""
      ]
     },
     "execution_count": 11,
     "metadata": {},
     "output_type": "execute_result"
    }
   ],
   "source": [
    "em = SE[\"example_md\"]\n",
    "\n",
    "he_ = [li for li in readlines(em) if li != \"\"]"
   ]
  },
  {
   "cell_type": "code",
   "execution_count": 12,
   "id": "cc702f07",
   "metadata": {},
   "outputs": [
    {
     "name": "stdout",
     "output_type": "stream",
     "text": [
      "Renaming .md\n"
     ]
    }
   ],
   "source": [
    "println(\"Renaming .md\")\n",
    "\n",
    "for (ro, di_, fi_) in walk_up(tr)\n",
    "\n",
    "    for fi in fi_\n",
    "\n",
    "        cl = Kwat.path.clean(fi)\n",
    "\n",
    "        if fi != cl\n",
    "\n",
    "            println(fi, \" ==> \", cl)\n",
    "\n",
    "            mv(joinpath(ro, fi), joinpath(ro, cl))\n",
    "\n",
    "        end\n",
    "\n",
    "    end\n",
    "\n",
    "end"
   ]
  },
  {
   "cell_type": "code",
   "execution_count": 13,
   "id": "0b18154a",
   "metadata": {
    "scrolled": false
   },
   "outputs": [
    {
     "name": "stdout",
     "output_type": "stream",
     "text": [
      "Numbering / and .md\n"
     ]
    }
   ],
   "source": [
    "println(\"Numbering / and .md\")\n",
    "\n",
    "for (ro, di_, fi_) in walk_up(tr)\n",
    "\n",
    "    go_ = Vector{String}()\n",
    "\n",
    "    ba_ = Vector{String}()\n",
    "\n",
    "    for na in [di_; fi_]\n",
    "\n",
    "        if is_good_structure(na)\n",
    "\n",
    "            push!(go_, na)\n",
    "\n",
    "        else\n",
    "\n",
    "            push!(ba_, na)\n",
    "\n",
    "        end\n",
    "\n",
    "    end\n",
    "\n",
    "    sort!(go_; by = split_good_structure)\n",
    "\n",
    "    n_go = length(go_)\n",
    "\n",
    "    for (id, na) in enumerate([go_; ba_])\n",
    "\n",
    "        pa1 = joinpath(ro, na)\n",
    "\n",
    "        if id <= n_go\n",
    "\n",
    "            pa2 = joinpath(ro, join([id; split_good_structure(na)[2:end]], \".\"))\n",
    "\n",
    "        else\n",
    "\n",
    "            pa2 = joinpath(ro, join([id, na], \".\"))\n",
    "\n",
    "        end\n",
    "\n",
    "        if pa1 != pa2\n",
    "\n",
    "            println(splitdir(pa1)[2], \" ==> \", splitdir(pa2)[2])\n",
    "\n",
    "            mv(pa1, pa2)\n",
    "\n",
    "        end\n",
    "\n",
    "    end\n",
    "\n",
    "end"
   ]
  },
  {
   "cell_type": "code",
   "execution_count": 14,
   "id": "457b122a",
   "metadata": {},
   "outputs": [
    {
     "name": "stdout",
     "output_type": "stream",
     "text": [
      "Checking .md content\n"
     ]
    }
   ],
   "source": [
    "println(\"Checking .md content\")\n",
    "\n",
    "for (ro, di_, fi_) in walk_up(tr)\n",
    "\n",
    "    for fi in fi_\n",
    "\n",
    "        pa = joinpath(ro, fi)\n",
    "\n",
    "        li_ = readlines(pa)\n",
    "\n",
    "        if length(li_) == 0\n",
    "\n",
    "            println(\"Is empty (populating): \", pa)\n",
    "\n",
    "            cp(em, pa; force = true)\n",
    "\n",
    "        elseif !all(he in li_ for he in he_)\n",
    "\n",
    "            #error(\"Is missing at least 1 required header: \", pa)\n",
    "\n",
    "        elseif !all(0 .< diff([findfirst(li_ .== he) for he in he_]))\n",
    "\n",
    "            error(\"Has incorrectly ordered headers: \", pa)\n",
    "\n",
    "        end\n",
    "\n",
    "    end\n",
    "\n",
    "end"
   ]
  },
  {
   "cell_type": "code",
   "execution_count": 15,
   "id": "dfe26d40",
   "metadata": {
    "scrolled": false
   },
   "outputs": [
    {
     "name": "stdout",
     "output_type": "stream",
     "text": [
      "IDing .md\n"
     ]
    }
   ],
   "source": [
    "println(\"IDing .md\")\n",
    "\n",
    "ti_id = Dict{String, Vector{Int64}}()\n",
    "\n",
    "for (ro, di_, fi_) in walk_up(tr)\n",
    "   \n",
    "    for fi in fi_\n",
    "        \n",
    "        ti = split(fi, \".\")[2]\n",
    "        \n",
    "        if ti == \"_\"\n",
    "            \n",
    "            ti = split(splitdir(ro)[2], \".\")[2]\n",
    "            \n",
    "        end\n",
    "        \n",
    "        pa = joinpath(ro, fi)\n",
    "        \n",
    "        if haskey(ti_id, ti)\n",
    "            \n",
    "            error(\"Duplicated: \", ti_id[ti], \" and \", pa)\n",
    "            \n",
    "        else\n",
    "            \n",
    "            ti_id[ti] = make_id(pa)\n",
    "            \n",
    "        end\n",
    "        \n",
    "    end\n",
    "    \n",
    "end"
   ]
  }
 ],
 "metadata": {
  "@webio": {
   "lastCommId": "54f8aebf2b7448c582c9f2a783b49c3a",
   "lastKernelId": "69459907-0156-4998-9410-4ada7fb427de"
  },
  "kernelspec": {
   "display_name": "Julia 1.6.3",
   "language": "julia",
   "name": "julia-1.6"
  },
  "language_info": {
   "file_extension": ".jl",
   "mimetype": "application/julia",
   "name": "julia",
   "version": "1.6.3"
  }
 },
 "nbformat": 4,
 "nbformat_minor": 5
}
