{
 "cells": [
  {
   "cell_type": "code",
   "execution_count": null,
   "id": "d98e8624",
   "metadata": {},
   "outputs": [],
   "source": [
    "using Revise\n",
    "using BenchmarkTools\n",
    "\n",
    "using Kwat"
   ]
  },
  {
   "cell_type": "code",
   "execution_count": null,
   "id": "d3a172dc",
   "metadata": {},
   "outputs": [],
   "source": [
    "tr = joinpath(\"..\", \"tree\", \"\")"
   ]
  },
  {
   "cell_type": "code",
   "execution_count": null,
   "id": "059dc749",
   "metadata": {},
   "outputs": [],
   "source": [
    "function is_good_structure(na::String)::Bool\n",
    "    \n",
    "    if na != Kwat.path.clean(na)\n",
    "        \n",
    "        error(na)\n",
    "        \n",
    "    end\n",
    "    \n",
    "    return occursin(r\"^[0-9]+\\.[_0-9a-z]+(\\.md$|$)\", na)\n",
    "    \n",
    "end"
   ]
  },
  {
   "cell_type": "code",
   "execution_count": null,
   "id": "e9453956",
   "metadata": {},
   "outputs": [],
   "source": [
    "function split_for_sorting(na::String)::Vector{Union{String,Float64}}\n",
    "\n",
    "    pa_ = Vector{Union{String,Float64}}()\n",
    "\n",
    "    for sp in split(na, \".\")\n",
    "\n",
    "        sp = string(sp)\n",
    "\n",
    "        pu = tryparse(Float64, sp)\n",
    "\n",
    "        if pu === nothing\n",
    "\n",
    "            pu = sp\n",
    "\n",
    "        end\n",
    "\n",
    "        push!(pa_, pu)\n",
    "\n",
    "    end\n",
    "\n",
    "    return pa_\n",
    "\n",
    "end"
   ]
  },
  {
   "cell_type": "code",
   "execution_count": null,
   "id": "0f25ca53",
   "metadata": {
    "scrolled": false
   },
   "outputs": [],
   "source": [
    "for (ro, di_, fi_) in walkdir(tr; topdown = false)\n",
    "\n",
    "    fi_ = [fi for fi in fi_ if !startswith(fi, \".\")]\n",
    "\n",
    "    go_ = Vector{String}()\n",
    "\n",
    "    ba_ = Vector{String}()\n",
    "\n",
    "    for na in [di_; fi_]\n",
    "\n",
    "        if is_good_structure(na)\n",
    "\n",
    "            push!(go_, na)\n",
    "\n",
    "        else\n",
    "\n",
    "            push!(ba_, na)\n",
    "\n",
    "        end\n",
    "\n",
    "    end\n",
    "\n",
    "    sort!(go_; by = split_for_sorting)\n",
    "\n",
    "    for (id, na) in enumerate([go_; ba_])\n",
    "\n",
    "        pa1 = joinpath(ro, na)\n",
    "\n",
    "        if is_good_structure(na)\n",
    "\n",
    "            pa2 = joinpath(ro, string(id, \".\", split(na, \".\"; limit = 2)[2]))\n",
    "\n",
    "        else\n",
    "\n",
    "            pa2 = joinpath(ro, string(id, \".\", na))\n",
    "\n",
    "        end\n",
    "\n",
    "        if pa1 != pa2\n",
    "\n",
    "            println(pa1, \" ==> \", pa2)\n",
    "\n",
    "            mv(pa1, pa2)\n",
    "\n",
    "        end\n",
    "\n",
    "    end\n",
    "\n",
    "end"
   ]
  }
 ],
 "metadata": {
  "@webio": {
   "lastCommId": "d6d7019a6bb840cb8efda1b9a9886b91",
   "lastKernelId": "69459907-0156-4998-9410-4ada7fb427de"
  },
  "kernelspec": {
   "display_name": "Julia 1.6.3",
   "language": "julia",
   "name": "julia-1.6"
  },
  "language_info": {
   "file_extension": ".jl",
   "mimetype": "application/julia",
   "name": "julia",
   "version": "1.6.3"
  }
 },
 "nbformat": 4,
 "nbformat_minor": 5
}
