{
 "cells": [
  {
   "cell_type": "code",
   "execution_count": null,
   "id": "1151aaa0",
   "metadata": {},
   "outputs": [],
   "source": [
    "include(\"_.jl\")"
   ]
  },
  {
   "cell_type": "code",
   "execution_count": null,
   "id": "6662c9f9",
   "metadata": {},
   "outputs": [],
   "source": [
    "te = SE[\"testing\"]\n",
    "\n",
    "he_ = [li for li in readlines(EX) if li != \"\"]"
   ]
  },
  {
   "cell_type": "markdown",
   "id": "92e998df",
   "metadata": {},
   "source": [
    "## Catalog"
   ]
  },
  {
   "cell_type": "code",
   "execution_count": null,
   "id": "071b6076",
   "metadata": {},
   "outputs": [],
   "source": [
    "ti_di = catalog(TR)\n",
    "\n",
    ";"
   ]
  },
  {
   "cell_type": "markdown",
   "id": "694bb34e",
   "metadata": {},
   "source": [
    "## Check content"
   ]
  },
  {
   "cell_type": "code",
   "execution_count": null,
   "id": "457b122a",
   "metadata": {
    "scrolled": false
   },
   "outputs": [],
   "source": [
    "for (ti, di) in ti_di\n",
    "\n",
    "    pa = di[\"path\"]\n",
    "\n",
    "    sh = shorten(pa, 1)\n",
    "\n",
    "    li_ = [li for li in readlines(pa) if li != \"\"]\n",
    "\n",
    "    if length(li_) == 0\n",
    "\n",
    "        println(\"0 \", sh)\n",
    "\n",
    "        cp(EX, pa; force = true)\n",
    "\n",
    "    elseif !all(he in li_ for he in he_)\n",
    "\n",
    "        println(\"x \", sh)\n",
    "\n",
    "    elseif !all(0 .< diff([findfirst(li_ .== he) for he in he_]))\n",
    "\n",
    "        error(\"^ \", sh)\n",
    "\n",
    "    elseif occursin('.', li_[2])\n",
    "\n",
    "        println(\". \", pa)\n",
    "\n",
    "    end\n",
    "\n",
    "end"
   ]
  }
 ],
 "metadata": {
  "@webio": {
   "lastCommId": null,
   "lastKernelId": null
  },
  "kernelspec": {
   "display_name": "Julia 1.6.3",
   "language": "julia",
   "name": "julia-1.6"
  },
  "language_info": {
   "file_extension": ".jl",
   "mimetype": "application/julia",
   "name": "julia",
   "version": "1.6.3"
  }
 },
 "nbformat": 4,
 "nbformat_minor": 5
}
