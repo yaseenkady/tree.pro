{
 "cells": [
  {
   "cell_type": "code",
   "execution_count": 7,
   "id": "1151aaa0",
   "metadata": {},
   "outputs": [
    {
     "data": {
      "text/plain": [
       "\"../input/1.example.md\""
      ]
     },
     "execution_count": 7,
     "metadata": {},
     "output_type": "execute_result"
    }
   ],
   "source": [
    "include(\"_.jl\")"
   ]
  },
  {
   "cell_type": "code",
   "execution_count": 8,
   "id": "6662c9f9",
   "metadata": {},
   "outputs": [
    {
     "data": {
      "text/plain": [
       "3-element Vector{String}:\n",
       " \"# .\"\n",
       " \"# <\"\n",
       " \"# >\""
      ]
     },
     "execution_count": 8,
     "metadata": {},
     "output_type": "execute_result"
    }
   ],
   "source": [
    "te = SE[\"testing\"]\n",
    "\n",
    "he_ = [li for li in readlines(EX) if li != \"\"]"
   ]
  },
  {
   "cell_type": "markdown",
   "id": "92e998df",
   "metadata": {},
   "source": [
    "## Catalog"
   ]
  },
  {
   "cell_type": "code",
   "execution_count": 9,
   "id": "071b6076",
   "metadata": {},
   "outputs": [],
   "source": [
    "ti_di = catalog(TR)\n",
    "\n",
    ";"
   ]
  },
  {
   "cell_type": "markdown",
   "id": "694bb34e",
   "metadata": {},
   "source": [
    "## Check content"
   ]
  },
  {
   "cell_type": "code",
   "execution_count": 12,
   "id": "457b122a",
   "metadata": {},
   "outputs": [
    {
     "name": "stdout",
     "output_type": "stream",
     "text": [
      "x 2.bacterium/18.gardnerella_vaginalis.md\n",
      "x 5.virus/18.influenza_virus.md\n",
      "x 3.fungus/4.candida_albicans.md\n",
      "x 2.herpes_simplex_virus/3.herpes_simplex_virus_2.md\n",
      "x 8.streptococcus/1._.md\n",
      "x 2.cestode/5.taenia_saginata.md\n",
      "x 3.fungus/1._.md\n",
      "=> 25.tongue/3.protuberant_tongue.md\n",
      "x 5.virus/8.astrovirus.md\n",
      "x 3.protozoan/8.plasmodium_falciparum.md\n",
      "x 3.spirochaete/4.treponema_pallidum.md\n",
      "x 5.picorna_virus/3.hepatitis_a_virus.md\n",
      "x 2.bacterium/11.bordetella_pertussis.md\n",
      "x 4.paramyxo_virus/4.respiratory_syncytial_virus.md\n",
      "x 4.parasite/1._.md\n",
      "x 8.streptococcus/3.streptococcus_bovis.md\n",
      "x 7.salmonella/1._.md\n",
      "x 5.virus/15.human_immunodeficiency_virus.md\n",
      "x 8.streptococcus/5.streptococcus_pyogenes.md\n",
      "x 3.protozoan/1._.md\n",
      "x 5.virus/12.hepatitis_b_virus.md\n",
      "x 5.liver/11.congenital_hepatic_fibrosis.md\n",
      "x 5.virus/20.parvovirus.md\n",
      "x 5.picorna_virus/4.rhinovirus.md\n",
      "x 3.protozoan/9.toxoplasma_gondii.md\n",
      "x 3.protozoan/2.babesia_microti.md\n",
      "x 5.virus/7.adenovirus.md\n",
      "x 5.mycobacteria/3.mycobacteria_leprae.md\n",
      "x 2.bacterium/12.campylobacter_jejuni.md\n",
      "x 3.fungus/9.paracoccidioides.md\n",
      "x 3.fungus/6.cryptococcus_neoformans.md\n",
      "x 3.protozoan/10.trichomonas_vaginalis.md\n",
      "x 1.breast/4.gyneocmastia.md\n",
      "x 2.bacterium/31.vibrio_cholerae.md\n",
      "x 2.cestode/6.taenia_solium.md\n",
      "x 2.bacterium/28.mycoplasma_pneumonia.md\n",
      "x 3.fungus/10.sporothrix.md\n",
      "x 5.virus/17.human_t_lymphotropic_virus_1.md\n",
      "x 3.fungus/7.dermatophyte.md\n",
      "x 4.paramyxo_virus/3.parainfluenza_virus.md\n",
      "x 2.flavi_virus/1._.md\n",
      "x 3.fungus/2.aspergillus_fumigatus.md\n",
      "x 3.spirochaete/1._.md\n",
      "x 3.herpesviridae/1._.md\n",
      "x 2.bacterium/25.legionella_pneumophila.md\n",
      "x 2.flavi_virus/2.dengue_virus.md\n",
      "x 3.fungus/5.coccidioides.md\n",
      "x 5.virus/19.norovirus.md\n",
      "x 4.paramyxo_virus/2.metapneumovirus.md\n",
      "x 4.paramyxo_virus/1._.md\n",
      "x 2.herpes_simplex_virus/2.herpes_simplex_virus_1.md\n",
      "x 3.protozoan/3.cryptosporidium.md\n",
      "x 6.vagina/3.hypersensitivity_vaginitis.md\n",
      "x 3.beta/3.cytomegalovirus.md\n",
      "x 3.protozoan/6.leishmania.md\n",
      "x 7.salmonella/3.salmonella_typhi.md\n",
      "x 3.protozoan/7.naegleria_fowleri.md\n",
      "x 5.mycobacteria/2.mycobacteria_avium_complex.md\n",
      "x 5.virus/13.hepatitis_d_virus.md\n",
      "x 2.bacterium/27.moraxella_catarrhalis.md\n",
      "x 2.bacterium/19.haemophilus.md\n",
      "x 8.streptococcus/6.streptococcus_viridans.md\n",
      "x 3.protozoan/11.trypanosoma_brucei.md\n",
      "x 5.virus/9.coronavirus.md\n",
      "x 5.virus/14.hepatitis_e_virus.md\n",
      "x 4.gram_positive/1.staphylococcus_aureus.md\n",
      "x 2.bacterium/30.shigella.md\n",
      "x 5.mycobacteria/1._.md\n",
      "x 2.bacterium/21.haemophilus_influenza.md\n",
      "x 7.salmonella/2.salmonella_gastroenteritis.md\n",
      "x 8.streptococcus/4.streptococcus_pneumonia.md\n",
      "x 2.bacterium/20.haemophilus_ducreyi.md\n",
      "x 5.virus/11.esptein_barr_virus.md\n",
      "x 5.virus/22.rotavirus.md\n",
      "x 5.virus/1._.md\n",
      "x 2.bacterium/1._.md\n",
      "x 3.fungus/8.histoplasma.md\n",
      "x 3.protozoan/5.giardia_lamblia.md\n",
      "x 3.fungus/3.blastomyces.md\n",
      "x 2.flavi_virus/3.hepatitis_c_virus.md\n",
      "x 5.mycobacteria/4.mycobacteria_tuberculosis.md\n",
      "x 2.helminth/1._.md\n"
     ]
    }
   ],
   "source": [
    "for (ti, di) in ti_di\n",
    "\n",
    "    pa = di[\"path\"]\n",
    "\n",
    "    sh = shorten(pa, 1)\n",
    "\n",
    "    li_ = readlines(pa)\n",
    "\n",
    "    if length(li_) == 0\n",
    "\n",
    "        println(\"=> \", sh)\n",
    "\n",
    "        cp(EX, pa; force = true)\n",
    "\n",
    "    elseif !all(he in li_ for he in he_)\n",
    "\n",
    "        println(\"x \", sh)\n",
    "\n",
    "    elseif !all(0 .< diff([findfirst(li_ .== he) for he in he_]))\n",
    "\n",
    "        error(\"^ \", sh)\n",
    "\n",
    "    end\n",
    "\n",
    "end"
   ]
  }
 ],
 "metadata": {
  "@webio": {
   "lastCommId": "81cddf85b41140beb9a7e5fcc906f50f",
   "lastKernelId": "7d6a1975-fdbf-4116-86f0-a8fb85d0a143"
  },
  "kernelspec": {
   "display_name": "Julia 1.6.3",
   "language": "julia",
   "name": "julia-1.6"
  },
  "language_info": {
   "file_extension": ".jl",
   "mimetype": "application/julia",
   "name": "julia",
   "version": "1.6.3"
  }
 },
 "nbformat": 4,
 "nbformat_minor": 5
}
