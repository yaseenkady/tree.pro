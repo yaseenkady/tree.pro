{
 "cells": [
  {
   "cell_type": "code",
   "execution_count": null,
   "id": "1151aaa0",
   "metadata": {},
   "outputs": [],
   "source": [
    "include(\"_.jl\")"
   ]
  },
  {
   "cell_type": "code",
   "execution_count": null,
   "id": "6662c9f9",
   "metadata": {},
   "outputs": [],
   "source": [
    "hi = SE[\"hierarchy\"]\n",
    "\n",
    "ex = SE[\"example_md\"]\n",
    "\n",
    "he_ = [li for li in readlines(ex) if li != \"\"]"
   ]
  },
  {
   "cell_type": "code",
   "execution_count": null,
   "id": "071b6076",
   "metadata": {},
   "outputs": [],
   "source": [
    "println(\"Cataloging\")\n",
    "\n",
    "ti_di = catalog(hi)"
   ]
  },
  {
   "cell_type": "code",
   "execution_count": null,
   "id": "457b122a",
   "metadata": {},
   "outputs": [],
   "source": [
    "println(\"Checking .md content\")\n",
    "\n",
    "for (ti, di) in ti_di\n",
    "\n",
    "    pa = di[\"path\"]\n",
    "\n",
    "    sh = shorten_path(pa, 1)\n",
    "\n",
    "    li_ = readlines(pa)\n",
    "\n",
    "    if length(li_) == 0\n",
    "\n",
    "        println(\"=> \", sh)\n",
    "\n",
    "        cp(ex, pa; force = true)\n",
    "\n",
    "    elseif !all(he in li_ for he in he_)\n",
    "\n",
    "        println(\"x \", sh)\n",
    "\n",
    "    elseif !all(0 .< diff([findfirst(li_ .== he) for he in he_]))\n",
    "\n",
    "        error(\"^ \", sh)\n",
    "\n",
    "    end\n",
    "\n",
    "end"
   ]
  }
 ],
 "metadata": {
  "@webio": {
   "lastCommId": null,
   "lastKernelId": null
  },
  "kernelspec": {
   "display_name": "Julia 1.6.3",
   "language": "julia",
   "name": "julia-1.6"
  },
  "language_info": {
   "file_extension": ".jl",
   "mimetype": "application/julia",
   "name": "julia",
   "version": "1.6.3"
  }
 },
 "nbformat": 4,
 "nbformat_minor": 5
}
