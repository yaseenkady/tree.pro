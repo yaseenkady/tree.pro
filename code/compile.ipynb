{
 "cells": [
  {
   "cell_type": "code",
   "execution_count": 1,
   "id": "087ab023-f8f0-4266-a372-e1f21f531be9",
   "metadata": {},
   "outputs": [],
   "source": [
    "%load_ext autoreload\n",
    "%autoreload 2"
   ]
  },
  {
   "cell_type": "code",
   "execution_count": 2,
   "id": "b2e07a49-a68b-4a6e-a1b5-1ed2b3af0520",
   "metadata": {},
   "outputs": [],
   "source": [
    "import kraft"
   ]
  },
  {
   "cell_type": "code",
   "execution_count": 3,
   "id": "a1cb802a-57c4-4e5d-a3d9-b50d2223dd37",
   "metadata": {},
   "outputs": [],
   "source": [
    "di = \"../raw/\""
   ]
  },
  {
   "cell_type": "markdown",
   "id": "1d6067cc-143b-4594-9390-21807356f0b7",
   "metadata": {},
   "source": [
    "## Check raw"
   ]
  },
  {
   "cell_type": "code",
   "execution_count": 4,
   "id": "8aab5edb-2670-4654-822f-c7d2d3deee7c",
   "metadata": {},
   "outputs": [
    {
     "data": {
      "text/plain": [
       "507"
      ]
     },
     "execution_count": 4,
     "metadata": {},
     "output_type": "execute_result"
    }
   ],
   "source": [
    "na_pa = {}\n",
    "\n",
    "for pa in kraft.path.get_child(di):\n",
    "\n",
    "    if pa[-3:] != \".md\":\n",
    "\n",
    "        continue\n",
    "\n",
    "    na = pa.split(\"/\")[-1][: -len(\".md\")]\n",
    "\n",
    "    assert na == kraft.string.untitle(na), na\n",
    "\n",
    "    na_pa[na] = pa\n",
    "\n",
    "    se_ = [\".\", \"<\", \">\"]\n",
    "\n",
    "    with open(pa) as io:\n",
    "\n",
    "        for ie, li in enumerate(io):\n",
    "\n",
    "            li = li.strip()\n",
    "\n",
    "            er = \"{}: {}\".format(na, li)\n",
    "\n",
    "            if ie % 2 == 1:\n",
    "\n",
    "                assert li == \"\", er\n",
    "\n",
    "            elif li[0] == \"#\":\n",
    "\n",
    "                se = li[2]\n",
    "\n",
    "                assert se == se_.pop(0), er\n",
    "\n",
    "            elif se == \".\":\n",
    "\n",
    "                assert li[-1] == \".\", er\n",
    "\n",
    "len(na_pa)"
   ]
  },
  {
   "cell_type": "markdown",
   "id": "9aea0b0a-4413-449c-b568-dcdf27f6a256",
   "metadata": {},
   "source": [
    "## Read raw"
   ]
  },
  {
   "cell_type": "code",
   "execution_count": 5,
   "id": "c6acab93-0dc9-4bbc-87ac-0a50161bb6a5",
   "metadata": {},
   "outputs": [],
   "source": [
    "na_se_li_ = {}\n",
    "\n",
    "for na, pa in na_pa.items():\n",
    "\n",
    "    se_li_ = {\n",
    "        \".\": [],\n",
    "        \"<\": [],\n",
    "        \">\": [],\n",
    "    }\n",
    "\n",
    "    with open(pa) as io:\n",
    "\n",
    "        for li in io.readlines()[0::2]:\n",
    "\n",
    "            li = li.strip()\n",
    "\n",
    "            if li[0] == \"#\":\n",
    "\n",
    "                se = li[2]\n",
    "\n",
    "            else:\n",
    "\n",
    "                se_li_[se].append(li)\n",
    "\n",
    "    na_se_li_[na] = se_li_"
   ]
  },
  {
   "cell_type": "markdown",
   "id": "0d450072-d3cb-44a0-ac54-5078952ffe9c",
   "metadata": {},
   "source": [
    "## Link .md"
   ]
  },
  {
   "cell_type": "code",
   "execution_count": 6,
   "id": "25603929-ee05-4442-bbea-d316b432e057",
   "metadata": {},
   "outputs": [],
   "source": [
    "for se_li_ in na_se_li_.values():\n",
    "\n",
    "    se_li_[\"md<\"] = []\n",
    "\n",
    "    se_li_[\">md\"] = []\n",
    "\n",
    "for na, se_li_ in na_se_li_.items():\n",
    "\n",
    "    for li in list(se_li_[\">\"]):\n",
    "\n",
    "        li2 = kraft.string.untitle(li)\n",
    "\n",
    "        if li2 in na_se_li_:\n",
    "\n",
    "            se_li_[\">\"].remove(li)\n",
    "\n",
    "            se_li_[\">md\"].append(li2)\n",
    "\n",
    "            na_se_li_[li2][\"md<\"].append(na)"
   ]
  },
  {
   "cell_type": "markdown",
   "id": "4c6fa9ae-6373-472e-b6ed-e8fa701c12a0",
   "metadata": {},
   "source": [
    "## Check collision"
   ]
  },
  {
   "cell_type": "code",
   "execution_count": 7,
   "id": "8f144cc4-ebec-40de-a85b-556d2cb8ed18",
   "metadata": {},
   "outputs": [],
   "source": [
    "def combine_future(se_li_):\n",
    "\n",
    "    return se_li_[\">\"] + kraft.iterable.flatten(\n",
    "        [na_se_li_[li][\">\"] for li in se_li_[\">md\"]]\n",
    "    )"
   ]
  },
  {
   "cell_type": "code",
   "execution_count": 8,
   "id": "eadbdbab-5ae9-4880-b90e-ddab8dca9163",
   "metadata": {},
   "outputs": [],
   "source": [
    "import pandas as pd"
   ]
  },
  {
   "cell_type": "code",
   "execution_count": 9,
   "id": "7dd56dca-fdca-48eb-8b34-8a471d5ca498",
   "metadata": {},
   "outputs": [],
   "source": [
    "for na, se_li_ in na_se_li_.items():\n",
    "\n",
    "    for li, n_re in pd.value_counts(combine_future(se_li_)).items():\n",
    "\n",
    "        if 1 < n_re:\n",
    "\n",
    "            so_ = [na]\n",
    "\n",
    "            so_ += [li2 for li2 in se_li_[\">md\"] if li in na_se_li_[li2][\">\"]]\n",
    "\n",
    "            # print(\"{}:\\n\\t{}\\n\".format(li, \"\\n\\t\".join(so_)))"
   ]
  },
  {
   "cell_type": "markdown",
   "id": "11c32320-7c21-4b3f-9faa-dc54fce59a30",
   "metadata": {},
   "source": [
    "## Read feature"
   ]
  },
  {
   "cell_type": "code",
   "execution_count": null,
   "id": "aafda256-4b11-413a-876a-635717911800",
   "metadata": {},
   "outputs": [],
   "source": [
    "se = pd.Series(fe_pr).sort_values(key=order)\n",
    "\n",
    "se.index.name = \"Feature\"\n",
    "\n",
    "se.name = \"Priority\"\n",
    "\n",
    "se.to_csv(\"../feature.tsv\", \"\\t\")"
   ]
  },
  {
   "cell_type": "code",
   "execution_count": 26,
   "id": "8f05162a-4b98-4529-8f99-29dc1f534fe3",
   "metadata": {},
   "outputs": [],
   "source": [
    "for pa in kraft.path.list(\"../feature/\"):\n",
    "    \n",
    "    a.drop(\"Priority\", 1).to_csv(pa, \"\\t\")"
   ]
  },
  {
   "cell_type": "code",
   "execution_count": 10,
   "id": "9df9bfff-5033-49bc-b90a-0fd6c7bb70e6",
   "metadata": {},
   "outputs": [],
   "source": [
    "fe_pr = pd.read_csv(\n",
    "    \"../feature.tsv\", \"\\t\", index_col=0, squeeze=True, dtype=str\n",
    ").to_dict()"
   ]
  },
  {
   "cell_type": "markdown",
   "id": "63630a67-44e9-4c52-a7c9-2137a59c2959",
   "metadata": {},
   "source": [
    "## Check extra feature "
   ]
  },
  {
   "cell_type": "code",
   "execution_count": 11,
   "id": "f08fdea9-7fa7-44d3-b49b-2480b926dec9",
   "metadata": {},
   "outputs": [],
   "source": [
    "fe_ = []\n",
    "\n",
    "for se_li_ in na_se_li_.values():\n",
    "\n",
    "    fe_ += se_li_[\"<\"] + se_li_[\">\"]"
   ]
  },
  {
   "cell_type": "code",
   "execution_count": 12,
   "id": "3c0f0a67-f862-4aea-84d6-330e542aaea0",
   "metadata": {},
   "outputs": [],
   "source": [
    "ex_ = []\n",
    "\n",
    "for fe in fe_pr.keys():\n",
    "\n",
    "    if fe not in fe_:\n",
    "\n",
    "        ex_.append(fe)\n",
    "\n",
    "assert len(ex_) == 0, ex_"
   ]
  },
  {
   "cell_type": "markdown",
   "id": "29f965d9-4815-4c25-88cc-c32e6e7a65e5",
   "metadata": {},
   "source": [
    "## Check missing feature"
   ]
  },
  {
   "cell_type": "code",
   "execution_count": 13,
   "id": "1c559dff-268b-4bc8-b852-ae8a6e369de2",
   "metadata": {},
   "outputs": [
    {
     "ename": "AssertionError",
     "evalue": "\nVirus\nHematuria\nUnilateral leg swelling\nSystolic crescendo decrescendo murmur\nNon-steroidal antiinflammatory drug\nChronic kidney disease\nMuscle atrophy\nSepsis\nLoss of vibration\nHypokalemia\nSerum hyperviscosity\nBlood M\nAndidepressant\nDiabetic diarrhea\nHigh blood troponin\nSystemic lupus erythromatous\nPolyarthritis\nCardiac hypertrophy\nMitral valve regurgitation\nMultiple myeloma\nautoimmunity\nLoss of pressure\nTriptan\nDark tarry stool\nAntiarrhythmic\nElderly female\nLoss of temperature\nSystolic murmur\nHemochromatosis\nCyanosis\nPulmonary embolism\nLow hemoglobin A1C\nRectal bleeding\nElevated jagular vein distention\nPeaked T\nAspirin\nPersistent chest pain\nVentricular arrhythmia\nclubbing\nAntibody for myosin\nBorrelia burgborferi\nHigh blood IL6\nLateral chest pain\nStridor\nDeep breath with normal respiratory rate\nAzole\nHypocalcemia\nVentricular aneurysm\nBuring abdominal pain\nDuodenal ulcer\nShooting pain\nEmbolism\nSupravalvular aortic stenosis\nRight heart neoplasm\nHear failure\nOsteomyelitis\nHyperphosphaturia\nCentral nervous system disease\nT inversion\nSystolic dysfunction\nAssymmetric arm blood pressure\nBreast cancer\nCarditis\nMicroangiopathic hemolytic anemia\nNephrolithiasis\nPulsus paradoxus\nSeptic arterial embolism\nFriction rub\nCheyne stroke respiration\nChest pain radiating to back\nUrinary ugency\nDry mouth\nDressler syndrome\nB blockedr\nright ventricular hypertrophy\nAtorvastatin\nEndocardial fibroelastosis\nAfrian American\nHigh blood lipase\nthoracic aortic dissection\nMultiple endocrine neoplasia 1\nUnilateral chest pain\nPeptic ulcer\nMexican American\nMid-systolic click\nHypocalciuria\nHypercalciuria\nHypophosphatemia\nLong PR\nAcute kidney injury\naortic regurgitation\nContinuous machine-like murmur\nThyrotoxicosis\nWide QRS\nNail-bed hemorrhage\nAortic valve dysfunction\nDecreased heart sound\nHeart murmur\npalor\nLate-systolic murmur\nBrachial femoral delay\nDiabetic mellitus\nUremia\nAntiemetic\nAntipsychotic\nPrecipitation\nHolosystolic murmur\nMitral stenosis\nCold and clammy skin\nPost radiation fibrosis\nUrinary tract infection\nLong QT\nOccult blood in stool\nPleuritic chest pain\nAsymmetric chest wall expansion\nLaryngitis\nNon-radiating chest pain\nNarrow QRS\nAnorectal dysfunction\nAsymmetric muscle weakness\nMitral valve dysfunction\nRight ventricle hypertrophy\nLow voltage QRS\nMultiple endocrine neoplasia 2A\nAddision disease\nCalcium carbonate\nCoronary artery disease\nChildren\nConstant PR and a drop\nRoth spot\nRespiratory tract infction\nSydenham chorea\nMouth ulcer\nMissing P\nMurmur\nhyperphosphatemia\nDehydration\nNon-pleuritic chest pain\nMetoprolol\nHepatic encephalopathy\nInflammation\nParoxysmal nocturnal dyspnea\nElectric alteran\nAbdominal pain radiating to back\nAortic valve regurgitation\nPapillary muscle rupture\nQ wave\ntricyclic antidepressant\nDiffuse crackle\nWorse at night\nHypoxia\nBicuspid aortic valve\nIrregularly irregular rhythm\nNon-exertional chest pain\nPR depression\nPulmonary artery stenosis\nSeptic pulmonary empolism\nChest wall tenderness\nLoss of pain\nArteriosclerosis\nTurner syndrome\nHemoptysis\nHygerglycemia\nOverriding aorta\nKidney injury\nCoarse crackle\nProlonged expiratory phase\nBack pain\nPulmonary infundiular stenosis\nArtial septal defect\nDiastolic dysfunction\nAtrioventricular septal defect\nArteriovenous malformation\nNight sweat\nHEART ATTACK\nArm ischemia\nCardiac dilation\nNo identifiable wave\nUnilateral hyperresonance\ntricuspid regurgitation\nHaloperidol\nJaneway lesion\nRecurring chest pain\nOndansetron\nLoss of ankle reflex\nThrombosis\nRecurring epistaxis\nACE inhibitor\nInfectino\nOsler node\nAntibody for M\nTricuspid valve\nHeart surgery\nHigh marrow plasmacytosis\nST elevation myocardial infarction\nBright red stool\nPositional chest pain\nMitral regurgitation\npancreatitis\nHigh blood calcitriol\nAntifungal\nCongenital heart defect\nRegularly irregular\nHemorrhage\nHypertension\nVisual deficit.\nHigh hemoglobin A1C\nFine crackle\nArrhythmia\nAntibody for DNase B\nHispanic\nEpigastric tenderness\nD tranposition of great vessels\nosteitis fibrosa cysica\nST elevation in V1 and V2\nZiprasidone\nRetinopathy\nLow blood O2\nChronic cough\nSore tongue\nHyperresonance\nSawtooth\nCoxsackie B virus\nDiabetes mellitus\nSkin nodule\nHigh blood immunoglobulin\nCrackle\nFRACTURE\nEncephalopathy\nCerebrovascular disease\nExertional chest pain\nNormocytic anemia\nAcute chest pain\nSharp chest pain\nTruncus arteriosus\nAnaphylaxis\nExlampsia\nFixed split S2\nConstrictive pericarditis\nUnconsciousness\nMyocardial infarction\nSubsternal chest pain\nSharp pain\nChest pain radiating to trapezius ridge\nAsian\nTakayasu arteritis\nAntibody for insulin\nHypomagnesimia\nUnintentional weight loss\nIon channelopathy\nmarfan syndrome\nDecreased breath sound\nBlood in stool\nNew chest pain\nNon-pluritic chest pain\nD wave\nEndocarditis\nRight heart failure\nPeripheral edema\nOsteolytic metastasis\nSarcoidosis\nGastrointestinal bleeding\nArm paresthesia\nWet beriberi\nHypolpigmentation\nExposure to CO\nTreponema pallidum\nPeripheral vascular disease\nSystolic regurgitation murmur\nSmall volume urination\nPostmenopausal status\nVentricular tachyarrhythmia\nMacroalbuminuria\nARRHYTHMIA\nHeart failure\nThiazide diuretic\nbradyarrhythmia\nBurn\nLengething PR and a drop\nDeceleration\nAssymmetric arm systolic blood pressure\nPapilledema\nChagas disease\nWeakness\nRheumatoid arthritis\nLytic bone\nIrregularly spaced QRS\nTearing chest pain\nTelangiectasia\nDry skin\nPressure chest pain\nMacrolide\nGlomerulonephritis\nTension pneumothorax\nNative American\nWarm and dry skin\nAnuria\nCARDIAC HYPERTROPHY\nAtria beat faster than ventricles\nPostprandial chest pain\nFluoroquinolone\nShort PR\nAntibody for streptolysin O\nCeliac Sprue\nRight ventricular hypertrophy\nPulmonary edema\nCerebral aneurysm\nPica\nCerebral hemorrhage\nArm pain\nDullness to percussion\nHigh blood amylase\nChest pain radiating to either arm or jaw\nConnective tissue disease\nRestrictive cardiomyopathy\nAcute myocardial infarction\nTachypnea\nDiastolic heart murmur\nHypertensive nephropathy\nNeck vein distention\nHydrochlorothiazide\nNEPHROPATHY\nDyslipidemia\nLow blood CO2\nCardiac tamponade\nStroke\nValvular dysfunction\nLeft ventricle hypertrophy\nalcohol",
     "output_type": "error",
     "traceback": [
      "\u001b[0;31m---------------------------------------------------------------------------\u001b[0m",
      "\u001b[0;31mAssertionError\u001b[0m                            Traceback (most recent call last)",
      "\u001b[0;32m<ipython-input-13-85ceb32d9ec1>\u001b[0m in \u001b[0;36m<module>\u001b[0;34m\u001b[0m\n\u001b[1;32m      9\u001b[0m             \u001b[0mmi_\u001b[0m\u001b[0;34m.\u001b[0m\u001b[0mappend\u001b[0m\u001b[0;34m(\u001b[0m\u001b[0mli\u001b[0m\u001b[0;34m)\u001b[0m\u001b[0;34m\u001b[0m\u001b[0;34m\u001b[0m\u001b[0m\n\u001b[1;32m     10\u001b[0m \u001b[0;34m\u001b[0m\u001b[0m\n\u001b[0;32m---> 11\u001b[0;31m \u001b[0;32massert\u001b[0m \u001b[0mlen\u001b[0m\u001b[0;34m(\u001b[0m\u001b[0mmi_\u001b[0m\u001b[0;34m)\u001b[0m \u001b[0;34m==\u001b[0m \u001b[0;36m0\u001b[0m\u001b[0;34m,\u001b[0m \u001b[0;34m\"\\n\"\u001b[0m \u001b[0;34m+\u001b[0m \u001b[0;34m\"\\n\"\u001b[0m\u001b[0;34m.\u001b[0m\u001b[0mjoin\u001b[0m\u001b[0;34m(\u001b[0m\u001b[0mset\u001b[0m\u001b[0;34m(\u001b[0m\u001b[0mmi_\u001b[0m\u001b[0;34m)\u001b[0m\u001b[0;34m)\u001b[0m\u001b[0;34m\u001b[0m\u001b[0;34m\u001b[0m\u001b[0m\n\u001b[0m",
      "\u001b[0;31mAssertionError\u001b[0m: \nVirus\nHematuria\nUnilateral leg swelling\nSystolic crescendo decrescendo murmur\nNon-steroidal antiinflammatory drug\nChronic kidney disease\nMuscle atrophy\nSepsis\nLoss of vibration\nHypokalemia\nSerum hyperviscosity\nBlood M\nAndidepressant\nDiabetic diarrhea\nHigh blood troponin\nSystemic lupus erythromatous\nPolyarthritis\nCardiac hypertrophy\nMitral valve regurgitation\nMultiple myeloma\nautoimmunity\nLoss of pressure\nTriptan\nDark tarry stool\nAntiarrhythmic\nElderly female\nLoss of temperature\nSystolic murmur\nHemochromatosis\nCyanosis\nPulmonary embolism\nLow hemoglobin A1C\nRectal bleeding\nElevated jagular vein distention\nPeaked T\nAspirin\nPersistent chest pain\nVentricular arrhythmia\nclubbing\nAntibody for myosin\nBorrelia burgborferi\nHigh blood IL6\nLateral chest pain\nStridor\nDeep breath with normal respiratory rate\nAzole\nHypocalcemia\nVentricular aneurysm\nBuring abdominal pain\nDuodenal ulcer\nShooting pain\nEmbolism\nSupravalvular aortic stenosis\nRight heart neoplasm\nHear failure\nOsteomyelitis\nHyperphosphaturia\nCentral nervous system disease\nT inversion\nSystolic dysfunction\nAssymmetric arm blood pressure\nBreast cancer\nCarditis\nMicroangiopathic hemolytic anemia\nNephrolithiasis\nPulsus paradoxus\nSeptic arterial embolism\nFriction rub\nCheyne stroke respiration\nChest pain radiating to back\nUrinary ugency\nDry mouth\nDressler syndrome\nB blockedr\nright ventricular hypertrophy\nAtorvastatin\nEndocardial fibroelastosis\nAfrian American\nHigh blood lipase\nthoracic aortic dissection\nMultiple endocrine neoplasia 1\nUnilateral chest pain\nPeptic ulcer\nMexican American\nMid-systolic click\nHypocalciuria\nHypercalciuria\nHypophosphatemia\nLong PR\nAcute kidney injury\naortic regurgitation\nContinuous machine-like murmur\nThyrotoxicosis\nWide QRS\nNail-bed hemorrhage\nAortic valve dysfunction\nDecreased heart sound\nHeart murmur\npalor\nLate-systolic murmur\nBrachial femoral delay\nDiabetic mellitus\nUremia\nAntiemetic\nAntipsychotic\nPrecipitation\nHolosystolic murmur\nMitral stenosis\nCold and clammy skin\nPost radiation fibrosis\nUrinary tract infection\nLong QT\nOccult blood in stool\nPleuritic chest pain\nAsymmetric chest wall expansion\nLaryngitis\nNon-radiating chest pain\nNarrow QRS\nAnorectal dysfunction\nAsymmetric muscle weakness\nMitral valve dysfunction\nRight ventricle hypertrophy\nLow voltage QRS\nMultiple endocrine neoplasia 2A\nAddision disease\nCalcium carbonate\nCoronary artery disease\nChildren\nConstant PR and a drop\nRoth spot\nRespiratory tract infction\nSydenham chorea\nMouth ulcer\nMissing P\nMurmur\nhyperphosphatemia\nDehydration\nNon-pleuritic chest pain\nMetoprolol\nHepatic encephalopathy\nInflammation\nParoxysmal nocturnal dyspnea\nElectric alteran\nAbdominal pain radiating to back\nAortic valve regurgitation\nPapillary muscle rupture\nQ wave\ntricyclic antidepressant\nDiffuse crackle\nWorse at night\nHypoxia\nBicuspid aortic valve\nIrregularly irregular rhythm\nNon-exertional chest pain\nPR depression\nPulmonary artery stenosis\nSeptic pulmonary empolism\nChest wall tenderness\nLoss of pain\nArteriosclerosis\nTurner syndrome\nHemoptysis\nHygerglycemia\nOverriding aorta\nKidney injury\nCoarse crackle\nProlonged expiratory phase\nBack pain\nPulmonary infundiular stenosis\nArtial septal defect\nDiastolic dysfunction\nAtrioventricular septal defect\nArteriovenous malformation\nNight sweat\nHEART ATTACK\nArm ischemia\nCardiac dilation\nNo identifiable wave\nUnilateral hyperresonance\ntricuspid regurgitation\nHaloperidol\nJaneway lesion\nRecurring chest pain\nOndansetron\nLoss of ankle reflex\nThrombosis\nRecurring epistaxis\nACE inhibitor\nInfectino\nOsler node\nAntibody for M\nTricuspid valve\nHeart surgery\nHigh marrow plasmacytosis\nST elevation myocardial infarction\nBright red stool\nPositional chest pain\nMitral regurgitation\npancreatitis\nHigh blood calcitriol\nAntifungal\nCongenital heart defect\nRegularly irregular\nHemorrhage\nHypertension\nVisual deficit.\nHigh hemoglobin A1C\nFine crackle\nArrhythmia\nAntibody for DNase B\nHispanic\nEpigastric tenderness\nD tranposition of great vessels\nosteitis fibrosa cysica\nST elevation in V1 and V2\nZiprasidone\nRetinopathy\nLow blood O2\nChronic cough\nSore tongue\nHyperresonance\nSawtooth\nCoxsackie B virus\nDiabetes mellitus\nSkin nodule\nHigh blood immunoglobulin\nCrackle\nFRACTURE\nEncephalopathy\nCerebrovascular disease\nExertional chest pain\nNormocytic anemia\nAcute chest pain\nSharp chest pain\nTruncus arteriosus\nAnaphylaxis\nExlampsia\nFixed split S2\nConstrictive pericarditis\nUnconsciousness\nMyocardial infarction\nSubsternal chest pain\nSharp pain\nChest pain radiating to trapezius ridge\nAsian\nTakayasu arteritis\nAntibody for insulin\nHypomagnesimia\nUnintentional weight loss\nIon channelopathy\nmarfan syndrome\nDecreased breath sound\nBlood in stool\nNew chest pain\nNon-pluritic chest pain\nD wave\nEndocarditis\nRight heart failure\nPeripheral edema\nOsteolytic metastasis\nSarcoidosis\nGastrointestinal bleeding\nArm paresthesia\nWet beriberi\nHypolpigmentation\nExposure to CO\nTreponema pallidum\nPeripheral vascular disease\nSystolic regurgitation murmur\nSmall volume urination\nPostmenopausal status\nVentricular tachyarrhythmia\nMacroalbuminuria\nARRHYTHMIA\nHeart failure\nThiazide diuretic\nbradyarrhythmia\nBurn\nLengething PR and a drop\nDeceleration\nAssymmetric arm systolic blood pressure\nPapilledema\nChagas disease\nWeakness\nRheumatoid arthritis\nLytic bone\nIrregularly spaced QRS\nTearing chest pain\nTelangiectasia\nDry skin\nPressure chest pain\nMacrolide\nGlomerulonephritis\nTension pneumothorax\nNative American\nWarm and dry skin\nAnuria\nCARDIAC HYPERTROPHY\nAtria beat faster than ventricles\nPostprandial chest pain\nFluoroquinolone\nShort PR\nAntibody for streptolysin O\nCeliac Sprue\nRight ventricular hypertrophy\nPulmonary edema\nCerebral aneurysm\nPica\nCerebral hemorrhage\nArm pain\nDullness to percussion\nHigh blood amylase\nChest pain radiating to either arm or jaw\nConnective tissue disease\nRestrictive cardiomyopathy\nAcute myocardial infarction\nTachypnea\nDiastolic heart murmur\nHypertensive nephropathy\nNeck vein distention\nHydrochlorothiazide\nNEPHROPATHY\nDyslipidemia\nLow blood CO2\nCardiac tamponade\nStroke\nValvular dysfunction\nLeft ventricle hypertrophy\nalcohol"
     ]
    }
   ],
   "source": [
    "mi_ = []\n",
    "\n",
    "for na, se_li_ in na_se_li_.items():\n",
    "\n",
    "    for li in se_li_[\"<\"] + se_li_[\">\"]:\n",
    "\n",
    "        if li not in fe_pr:\n",
    "\n",
    "            mi_.append(li)\n",
    "\n",
    "assert len(mi_) == 0, \"\\n\" + \"\\n\".join(set(mi_))"
   ]
  },
  {
   "cell_type": "markdown",
   "id": "c26fe5f5-d5bd-4810-b245-91ee7b50bb8a",
   "metadata": {},
   "source": [
    "## Rename feature"
   ]
  },
  {
   "cell_type": "code",
   "execution_count": null,
   "id": "5e4991f2-e201-442d-b4d1-49e6a7d43449",
   "metadata": {},
   "outputs": [],
   "source": [
    "def number(pr):\n",
    "\n",
    "    return [int(it) for it in pr.split(\".\")]"
   ]
  },
  {
   "cell_type": "code",
   "execution_count": null,
   "id": "6d84b0ac-d516-4204-a5c9-2ca894e57f2d",
   "metadata": {},
   "outputs": [],
   "source": [
    "def order(se):\n",
    "\n",
    "    return [number(pr) + [fe] for fe, pr in se.items()]"
   ]
  },
  {
   "cell_type": "code",
   "execution_count": null,
   "id": "ecf12e15-6124-4f7e-be8c-500e846a08b7",
   "metadata": {},
   "outputs": [],
   "source": [
    "se = pd.Series(fe_pr).sort_values(key=order)\n",
    "\n",
    "se.index.name = \"Feature\"\n",
    "\n",
    "se.name = \"Priority\"\n",
    "\n",
    "se.to_csv(\"../feature.tsv\", \"\\t\")"
   ]
  },
  {
   "cell_type": "markdown",
   "id": "d0e26557-7b47-4468-910b-e2cf94e0206d",
   "metadata": {},
   "source": [
    "## Rewrite"
   ]
  },
  {
   "cell_type": "code",
   "execution_count": null,
   "id": "f57d3644-adb5-4e01-971e-c924adac3f4f",
   "metadata": {},
   "outputs": [],
   "source": [
    "def prioritize(fe):\n",
    "\n",
    "    if fe.endswith(\".\") or kraft.string.untitle(fe) in na_se_li_:\n",
    "\n",
    "        return number(\"0.0.0\") + [fe]\n",
    "\n",
    "    pr = fe_pr.get(fe, \"1000.1000.1000\")\n",
    "\n",
    "    return number(pr) + [fe]"
   ]
  },
  {
   "cell_type": "code",
   "execution_count": null,
   "id": "4f55c99f-782d-488d-814e-28bed5204c9f",
   "metadata": {},
   "outputs": [],
   "source": [
    "def sort(li_):\n",
    "\n",
    "    return sorted(li_, key=prioritize)"
   ]
  },
  {
   "cell_type": "code",
   "execution_count": null,
   "id": "57af5d06-ae1a-499d-938e-fd6ea2fdb316",
   "metadata": {},
   "outputs": [],
   "source": [
    "for na, se_li_ in na_se_li_.items():\n",
    "\n",
    "    with open(na_pa[na], \"w\") as io:\n",
    "\n",
    "        ti_li_ = {\n",
    "            \".\": se_li_[\".\"],\n",
    "            \"<\": se_li_[\"<\"],\n",
    "            \">\": se_li_[\">\"] + [kraft.string.title(li).upper() for li in se_li_[\">md\"]],\n",
    "        }\n",
    "\n",
    "        for ti, li_ in ti_li_.items():\n",
    "\n",
    "            if ti != \".\":\n",
    "\n",
    "                io.write(\"\\n\")\n",
    "\n",
    "            io.write(\"# {}\\n\".format(ti))\n",
    "\n",
    "            if 0 < len(li_):\n",
    "\n",
    "                io.write(\"\\n\")\n",
    "\n",
    "                io.write(\"\\n\\n\".join(sort(li_)) + \"\\n\")"
   ]
  },
  {
   "cell_type": "markdown",
   "id": "f755e6cc-4262-462f-99db-ce1385fd3de6",
   "metadata": {},
   "source": [
    "## Clean"
   ]
  },
  {
   "cell_type": "code",
   "execution_count": null,
   "id": "31dfab6c-fa99-4ba3-a496-8ed5195790fe",
   "metadata": {},
   "outputs": [],
   "source": [
    "import os\n",
    "import shutil"
   ]
  },
  {
   "cell_type": "code",
   "execution_count": null,
   "id": "a826f63e-59ae-4ab4-a44a-aea322d07606",
   "metadata": {},
   "outputs": [],
   "source": [
    "di2 = \"../clean/\"\n",
    "\n",
    "if os.path.isdir(di2):\n",
    "\n",
    "    shutil.rmtree(di2)"
   ]
  },
  {
   "cell_type": "code",
   "execution_count": null,
   "id": "d4cb878f-19fd-4533-b72e-34e844324a78",
   "metadata": {},
   "outputs": [],
   "source": [
    "for na, se_li_ in na_se_li_.items():\n",
    "\n",
    "    pa = na_pa[na].replace(di, di2)\n",
    "\n",
    "    kraft.path.make(pa, pr=False)\n",
    "\n",
    "    with open(pa, \"w\") as io:\n",
    "\n",
    "        ti_li_ = {\n",
    "            \"Comment\": se_li_[\".\"],\n",
    "            \"Epidemiology\": [],\n",
    "            \"Cause\": [kraft.string.title(li) for li in se_li_[\"md<\"]],\n",
    "            \"Symptom\": [],\n",
    "            \"Sign\": [],\n",
    "            \"Diagnostic\": [],\n",
    "            # \"Treatment and Management\": [],\n",
    "        }\n",
    "\n",
    "        for li in se_li_[\"<\"]:\n",
    "\n",
    "            try:\n",
    "                nu_ = number(fe_pr[li])\n",
    "            except:\n",
    "                continue\n",
    "\n",
    "            if [2, 0, 0] <= nu_ < [6, 0, 0]:\n",
    "\n",
    "                ti_li_[\"Epidemiology\"].append(li)\n",
    "\n",
    "        for li in combine_future(se_li_):\n",
    "\n",
    "            try:\n",
    "                nu_ = number(fe_pr[li])\n",
    "            except:\n",
    "                continue\n",
    "\n",
    "            if [1, 0, 0] <= nu_ < [2, 0, 0]:\n",
    "\n",
    "                ti_li_[\"Symptom\"].append(li)\n",
    "\n",
    "            elif [6, 0, 0] <= nu_ < [7, 0, 0]:\n",
    "\n",
    "                ti_li_[\"Sign\"].append(li)\n",
    "\n",
    "            elif [7, 0, 0] <= nu_:\n",
    "\n",
    "                ti_li_[\"Diagnostic\"].append(li)\n",
    "\n",
    "        for ti, li_ in ti_li_.items():\n",
    "\n",
    "            if 0 < len(li_):\n",
    "\n",
    "                if ti != \"Comment\":\n",
    "\n",
    "                    io.write(\"\\n\")\n",
    "\n",
    "                io.write(\"# {}\\n\".format(ti))\n",
    "\n",
    "                io.write(\"\\n\")\n",
    "\n",
    "                io.write(\"\\n\\n\".join(sort(li_)) + \"\\n\")"
   ]
  },
  {
   "cell_type": "markdown",
   "id": "03defc1e-d072-405b-9d06-9a598e9a7b3c",
   "metadata": {},
   "source": [
    "## Plan physical exam"
   ]
  }
 ],
 "metadata": {
  "kernelspec": {
   "display_name": "Python 3",
   "language": "python",
   "name": "python3"
  },
  "language_info": {
   "codemirror_mode": {
    "name": "ipython",
    "version": 3
   },
   "file_extension": ".py",
   "mimetype": "text/x-python",
   "name": "python",
   "nbconvert_exporter": "python",
   "pygments_lexer": "ipython3",
   "version": "3.8.9"
  }
 },
 "nbformat": 4,
 "nbformat_minor": 5
}
