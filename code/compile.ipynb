{
 "cells": [
  {
   "cell_type": "code",
   "execution_count": null,
   "id": "087ab023-f8f0-4266-a372-e1f21f531be9",
   "metadata": {},
   "outputs": [],
   "source": [
    "%load_ext autoreload\n",
    "%autoreload 2"
   ]
  },
  {
   "cell_type": "code",
   "execution_count": null,
   "id": "b2e07a49-a68b-4a6e-a1b5-1ed2b3af0520",
   "metadata": {},
   "outputs": [],
   "source": [
    "import kraft"
   ]
  },
  {
   "cell_type": "code",
   "execution_count": null,
   "id": "c6acab93-0dc9-4bbc-87ac-0a50161bb6a5",
   "metadata": {},
   "outputs": [],
   "source": [
    "na_pa = {}\n",
    "\n",
    "na_se_li_ = {}\n",
    "\n",
    "for pa in kraft.path.get_child(\"../raw/\"):\n",
    "\n",
    "    if pa[-3:] != \".md\":\n",
    "\n",
    "        continue\n",
    "\n",
    "    na = pa.split(\"/\")[-1][: -len(\".md\")]\n",
    "\n",
    "    assert na == kraft.string.untitle(na)\n",
    "\n",
    "    na_pa[na] = pa\n",
    "\n",
    "    se_ = [\".\", \"<\", \">\"]\n",
    "\n",
    "    se_li_ = {se: [] for se in se_}\n",
    "\n",
    "    with open(pa) as io:\n",
    "\n",
    "        for li in io:\n",
    "\n",
    "            li = li.strip()\n",
    "\n",
    "            if li == \"\":\n",
    "\n",
    "                continue\n",
    "\n",
    "            if li[0] == \"#\":\n",
    "\n",
    "                se = li[2]\n",
    "\n",
    "                assert se_.pop(0) == se\n",
    "\n",
    "                continue\n",
    "\n",
    "            # TODO: remove ()\n",
    "            if li[0] == \"(\":\n",
    "\n",
    "                assert li[-2] == \".\"\n",
    "\n",
    "            se_li_[se].append(li)\n",
    "\n",
    "    na_se_li_[na] = se_li_\n",
    "\n",
    "len(na_se_li_)"
   ]
  },
  {
   "cell_type": "code",
   "execution_count": null,
   "id": "add1ec40-bf2e-4508-8cac-ce4a79807bad",
   "metadata": {},
   "outputs": [],
   "source": [
    "for na, se_li_ in na_se_li_.items():\n",
    "\n",
    "    for li in se_li_[\"<\"]:\n",
    "\n",
    "        assert kraft.string.untitle(li) not in na_se_li_, \"{}: {}\".format(na, li)"
   ]
  },
  {
   "cell_type": "code",
   "execution_count": null,
   "id": "5d21316c-2e65-45b5-83ec-8f644f273888",
   "metadata": {},
   "outputs": [],
   "source": [
    "import pandas as pd"
   ]
  },
  {
   "cell_type": "code",
   "execution_count": null,
   "id": "c1e59b98-c1d3-47bd-9a4a-d0a69633008a",
   "metadata": {},
   "outputs": [],
   "source": [
    "fe_pr = pd.read_csv(\n",
    "    \"../feature.tsv\", \"\\t\", index_col=0, squeeze=True, dtype=str\n",
    ").to_dict()"
   ]
  },
  {
   "cell_type": "code",
   "execution_count": null,
   "id": "bf75a68e-f514-497f-8bb4-1f8df032d0e1",
   "metadata": {},
   "outputs": [],
   "source": [
    "for se_li_ in na_se_li_.values():\n",
    "\n",
    "    se_li_[\"md<\"] = []\n",
    "\n",
    "    se_li_[\">md\"] = []\n",
    "\n",
    "for na, se_li_ in na_se_li_.items():\n",
    "\n",
    "    for li in list(se_li_[\">\"]):\n",
    "\n",
    "        limi = kraft.string.untitle(li)\n",
    "\n",
    "        if limi in na_se_li_:\n",
    "\n",
    "            assert li not in fe_pr, li\n",
    "\n",
    "            se_li_[\">\"].remove(li)\n",
    "\n",
    "            se_li_[\">md\"].append(li)\n",
    "\n",
    "            na_se_li_[limi][\"md<\"].append(na)"
   ]
  },
  {
   "cell_type": "code",
   "execution_count": null,
   "id": "ec546a3d-1d70-4b74-be00-a28134d6a402",
   "metadata": {},
   "outputs": [],
   "source": [
    "def combine_right(se_li_):\n",
    "\n",
    "    return se_li_[\">\"] + kraft.iterable.flatten(\n",
    "        [na_se_li_[kraft.string.untitle(li)][\">\"] for li in se_li_[\">md\"]]\n",
    "    )"
   ]
  },
  {
   "cell_type": "code",
   "execution_count": null,
   "id": "a5017661-4dcf-49d3-8f33-55b73b857405",
   "metadata": {},
   "outputs": [],
   "source": [
    "for na, se_li_ in na_se_li_.items():\n",
    "\n",
    "    for li, n in pd.value_counts(combine_right(se_li_)).items():\n",
    "\n",
    "        if 1 < n:\n",
    "\n",
    "            so_ = [na]\n",
    "\n",
    "            so_ += [\n",
    "                liri\n",
    "                for liri in se_li_[\">md\"]\n",
    "                if li in na_se_li_[kraft.string.untitle(liri)][\">\"]\n",
    "            ]\n",
    "\n",
    "            print(\"{}:\\n\\t{}\\n\".format(li, \"\\n\\t\".join(so_)))"
   ]
  },
  {
   "cell_type": "code",
   "execution_count": null,
   "id": "79b07828-b9d2-4b67-adb6-f9fdc1c02f84",
   "metadata": {},
   "outputs": [],
   "source": [
    "fe_ = []\n",
    "\n",
    "for se_li_ in na_se_li_.values():\n",
    "\n",
    "    fe_ += se_li_[\"<\"] + se_li_[\">\"]"
   ]
  },
  {
   "cell_type": "code",
   "execution_count": null,
   "id": "fc5b28d6-3b22-4c66-8ee9-48e72a86ba20",
   "metadata": {},
   "outputs": [],
   "source": [
    "mi_ = []\n",
    "\n",
    "for fe in fe_pr.keys():\n",
    "\n",
    "    if fe not in fe_:\n",
    "\n",
    "        mi_.append(fe)\n",
    "\n",
    "mi_"
   ]
  },
  {
   "cell_type": "code",
   "execution_count": null,
   "id": "1e963eb2-639e-45cd-aebd-b3aec9a08c57",
   "metadata": {},
   "outputs": [],
   "source": [
    "ne_ = []\n",
    "\n",
    "for na, se_li_ in na_se_li_.items():\n",
    "\n",
    "    for fe in se_li_[\"<\"] + se_li_[\">\"]:\n",
    "\n",
    "        if fe not in fe_pr:\n",
    "\n",
    "            ne_.append([na, fe])\n",
    "\n",
    "assert len(ne_) == 0, ne_"
   ]
  },
  {
   "cell_type": "code",
   "execution_count": null,
   "id": "f5f02d5c-8cc0-4a3a-9456-64c335aede0f",
   "metadata": {},
   "outputs": [],
   "source": [
    "import os\n",
    "import shutil"
   ]
  },
  {
   "cell_type": "code",
   "execution_count": null,
   "id": "e70d28ef-8090-48d7-8238-ffff8f22908f",
   "metadata": {},
   "outputs": [],
   "source": [
    "de = \"\\n\\n\""
   ]
  },
  {
   "cell_type": "code",
   "execution_count": null,
   "id": "8ba4b6d0-c991-4f66-aff4-1a6d0e7fe3ca",
   "metadata": {},
   "outputs": [],
   "source": [
    "def number(pr):\n",
    "\n",
    "    return [int(it) for it in pr.split(\".\")]"
   ]
  },
  {
   "cell_type": "code",
   "execution_count": null,
   "id": "8e5d1309-f7f3-4efc-bd73-4535776d5102",
   "metadata": {},
   "outputs": [],
   "source": [
    "def order(se):\n",
    "\n",
    "    return [number(pr) + [fe] for fe, pr in se.items()]"
   ]
  },
  {
   "cell_type": "code",
   "execution_count": null,
   "id": "4bca050e-5bcc-41c7-b6e2-3b01fb21b9dc",
   "metadata": {},
   "outputs": [],
   "source": [
    "na_na2 = {}"
   ]
  },
  {
   "cell_type": "code",
   "execution_count": null,
   "id": "720e2108-dea4-4154-b590-0c0504a29a3b",
   "metadata": {},
   "outputs": [],
   "source": [
    "for na, na2 in na_na2.items():\n",
    "\n",
    "    fe_pr[na2] = fe_pr[na]"
   ]
  },
  {
   "cell_type": "code",
   "execution_count": null,
   "id": "3db8c0b3-8d40-44c8-91a4-27ff6d803542",
   "metadata": {},
   "outputs": [],
   "source": [
    "se = pd.Series(fe_pr).sort_values(key=order)\n",
    "\n",
    "se.index.name = \"Feature\"\n",
    "\n",
    "se.name = \"Priority\"\n",
    "\n",
    "se.to_csv(\"../feature.tsv\", \"\\t\")"
   ]
  },
  {
   "cell_type": "code",
   "execution_count": null,
   "id": "0a8b8aca-5649-4f48-a3ef-03f79f586085",
   "metadata": {},
   "outputs": [],
   "source": [
    "di = \"../raw/\"\n",
    "\n",
    "for na, se_li_ in na_se_li_.items():\n",
    "\n",
    "    pa = na_pa[na].replace(\"../raw/\", di)\n",
    "\n",
    "    kraft.path.make(pa, pr=False)\n",
    "\n",
    "    with open(pa, \"w\") as io:\n",
    "\n",
    "        ti_li_ = {\n",
    "            \".\": [],\n",
    "            \"<\": [],\n",
    "            \">\": [],\n",
    "        }\n",
    "\n",
    "        for li in se_li_[\".\"]:\n",
    "\n",
    "            ti_li_[\".\"].append(li)\n",
    "\n",
    "        for li in se_li_[\"<\"]:\n",
    "\n",
    "            ti_li_[\"<\"].append(na_na2.get(li, li))\n",
    "\n",
    "        for li in se_li_[\">\"] + se_li_[\">md\"]:\n",
    "\n",
    "            ti_li_[\">\"].append(na_na2.get(li, li))\n",
    "\n",
    "        for ti, li_ in ti_li_.items():\n",
    "\n",
    "            io.write(\"# {}\".format(ti) + de)\n",
    "\n",
    "            if len(li_) == 0:\n",
    "\n",
    "                continue\n",
    "\n",
    "            io.write(de.join(li_) + de)"
   ]
  },
  {
   "cell_type": "code",
   "execution_count": null,
   "id": "57569ad2-72b9-4b46-b42e-abddc60556c9",
   "metadata": {},
   "outputs": [],
   "source": [
    "def prioritize(fe):\n",
    "\n",
    "    if fe.endswith(\".\") or kraft.string.untitle(fe) in na_se_li_:\n",
    "\n",
    "        return number(\"0.0.0\") + [fe]\n",
    "\n",
    "    return number(fe_pr[fe]) + [fe]"
   ]
  },
  {
   "cell_type": "code",
   "execution_count": null,
   "id": "1ae17612-f604-4856-aa26-40a3c48740ec",
   "metadata": {},
   "outputs": [],
   "source": [
    "di = \"../compiled/\"\n",
    "\n",
    "if os.path.isdir(di):\n",
    "\n",
    "    shutil.rmtree(di)\n",
    "\n",
    "for na, se_li_ in na_se_li_.items():\n",
    "\n",
    "    pa = na_pa[na].replace(\"../raw/\", di)\n",
    "\n",
    "    kraft.path.make(pa, pr=False)\n",
    "\n",
    "    with open(pa, \"w\") as io:\n",
    "\n",
    "        ti_li_ = {\n",
    "            \"Comment\": [],\n",
    "            \"Epidemiology\": [],\n",
    "            \"Cause\": [],\n",
    "            \"Symptom\": [],\n",
    "            \"Sign\": [],\n",
    "            \"Diagnostic\": [],\n",
    "            # \"Treatment and Management\": [],\n",
    "        }\n",
    "\n",
    "        for li in se_li_[\".\"]:\n",
    "\n",
    "            ti_li_[\"Comment\"].append(li)\n",
    "\n",
    "        for li in se_li_[\"<\"]:\n",
    "\n",
    "            if 2 <= number(fe_pr[li])[0] <= 5:\n",
    "\n",
    "                ti_li_[\"Epidemiology\"].append(li)\n",
    "\n",
    "        for li in se_li_[\"md<\"]:\n",
    "\n",
    "            ti_li_[\"Cause\"].append(kraft.string.title(li))\n",
    "\n",
    "        for li in combine_right(se_li_):\n",
    "\n",
    "            if number(fe_pr[li])[0] == 1:\n",
    "\n",
    "                ti_li_[\"Symptom\"].append(li)\n",
    "\n",
    "            elif number(fe_pr[li])[0] == 6:\n",
    "\n",
    "                ti_li_[\"Sign\"].append(li)\n",
    "\n",
    "            elif 7 <= number(fe_pr[li])[0]:\n",
    "\n",
    "                ti_li_[\"Diagnostic\"].append(li)\n",
    "\n",
    "        for ti, li_ in ti_li_.items():\n",
    "\n",
    "            io.write(\"# {}\".format(ti) + de)\n",
    "\n",
    "            if len(li_) == 0:\n",
    "\n",
    "                continue\n",
    "\n",
    "            io.write(de.join(sorted(li_, key=prioritize)) + de)"
   ]
  }
 ],
 "metadata": {
  "kernelspec": {
   "display_name": "Python 3",
   "language": "python",
   "name": "python3"
  },
  "language_info": {
   "codemirror_mode": {
    "name": "ipython",
    "version": 3
   },
   "file_extension": ".py",
   "mimetype": "text/x-python",
   "name": "python",
   "nbconvert_exporter": "python",
   "pygments_lexer": "ipython3",
   "version": "3.8.9"
  }
 },
 "nbformat": 4,
 "nbformat_minor": 5
}
