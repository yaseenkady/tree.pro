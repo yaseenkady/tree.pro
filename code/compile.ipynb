{
 "cells": [
  {
   "cell_type": "code",
   "execution_count": 1,
   "id": "087ab023-f8f0-4266-a372-e1f21f531be9",
   "metadata": {},
   "outputs": [],
   "source": [
    "%load_ext autoreload\n",
    "%autoreload 2"
   ]
  },
  {
   "cell_type": "code",
   "execution_count": 2,
   "id": "9d651de1-7af2-42c2-b3b0-7455475f15e3",
   "metadata": {},
   "outputs": [],
   "source": [
    "import kraft"
   ]
  },
  {
   "cell_type": "code",
   "execution_count": 3,
   "id": "c6acab93-0dc9-4bbc-87ac-0a50161bb6a5",
   "metadata": {},
   "outputs": [
    {
     "data": {
      "text/plain": [
       "242"
      ]
     },
     "execution_count": 3,
     "metadata": {},
     "output_type": "execute_result"
    }
   ],
   "source": [
    "na_pa = {}\n",
    "\n",
    "na_se_li_ = {}\n",
    "\n",
    "for pa in kraft.path.get_child(\"../raw/\"):\n",
    "\n",
    "    if pa[-3:] != \".md\":\n",
    "\n",
    "        continue\n",
    "\n",
    "    na = pa.split(\"/\")[-1][: -len(\".md\")]\n",
    "\n",
    "    assert na == kraft.string.untitle(na)\n",
    "\n",
    "    na_pa[na] = pa\n",
    "\n",
    "    se_li_ = {\n",
    "        \".\": [],\n",
    "        \"<\": [],\n",
    "        \">\": [],\n",
    "    }\n",
    "\n",
    "    se_ = []\n",
    "\n",
    "    with open(pa) as io:\n",
    "\n",
    "        for li in io:\n",
    "\n",
    "            li = li.strip()\n",
    "\n",
    "            if li == \"\":\n",
    "\n",
    "                continue\n",
    "\n",
    "            if li[0] == \"#\":\n",
    "\n",
    "                se = li[2]\n",
    "\n",
    "                se_.append(se)\n",
    "\n",
    "                continue\n",
    "\n",
    "            if li[0] == \"(\":\n",
    "\n",
    "                assert li[-2] == \".\"\n",
    "\n",
    "            se_li_[se].append(li)\n",
    "\n",
    "    assert all(se in se_ for se in se_li_.keys())\n",
    "\n",
    "    na_se_li_[na] = se_li_\n",
    "\n",
    "len(na_se_li_)"
   ]
  },
  {
   "cell_type": "code",
   "execution_count": 4,
   "id": "add1ec40-bf2e-4508-8cac-ce4a79807bad",
   "metadata": {},
   "outputs": [],
   "source": [
    "for na, se_li_ in na_se_li_.items():\n",
    "\n",
    "    for li in se_li_[\"<\"]:\n",
    "\n",
    "        assert kraft.string.untitle(li) not in na_se_li_, \"{}: {}\".format(na, li)"
   ]
  },
  {
   "cell_type": "code",
   "execution_count": 5,
   "id": "f8176e69-bf3c-481b-92b8-a675404b5cd6",
   "metadata": {},
   "outputs": [],
   "source": [
    "import os\n",
    "import shutil"
   ]
  },
  {
   "cell_type": "code",
   "execution_count": 6,
   "id": "0f3d35ba-5d96-4896-bb30-c3f2df3805c5",
   "metadata": {},
   "outputs": [],
   "source": [
    "for se_li_ in na_se_li_.values():\n",
    "\n",
    "    se_li_[\"md<\"] = []\n",
    "\n",
    "    se_li_[\">md\"] = []"
   ]
  },
  {
   "cell_type": "code",
   "execution_count": 7,
   "id": "3183a9ef-7719-40fe-b747-7806e771fc94",
   "metadata": {},
   "outputs": [],
   "source": [
    "for na, se_li_ in na_se_li_.items():\n",
    "\n",
    "    for li in list(se_li_[\">\"]):\n",
    "\n",
    "        limi = kraft.string.untitle(li)\n",
    "\n",
    "        if limi in na_se_li_:\n",
    "\n",
    "            se_li_[\">\"].remove(li)\n",
    "\n",
    "            se_li_[\">md\"].append(limi)\n",
    "\n",
    "            na_se_li_[limi][\"md<\"].append(na)"
   ]
  },
  {
   "cell_type": "code",
   "execution_count": 8,
   "id": "13f03a35-dd24-40c8-a506-9a6d5d49ee21",
   "metadata": {},
   "outputs": [],
   "source": [
    "import pandas as pd"
   ]
  },
  {
   "cell_type": "code",
   "execution_count": 9,
   "id": "5470d381-2461-47e8-9ba3-325b00bf18c1",
   "metadata": {},
   "outputs": [],
   "source": [
    "na_na2 = pd.read_csv(\"../rename.tsv\", \"\\t\", index_col=0, squeeze=True).to_dict()"
   ]
  },
  {
   "cell_type": "code",
   "execution_count": 10,
   "id": "093e9dce-8dd9-4355-8c58-f337069eac15",
   "metadata": {},
   "outputs": [
    {
     "ename": "SyntaxError",
     "evalue": "invalid syntax (<ipython-input-10-f032007e578f>, line 19)",
     "output_type": "error",
     "traceback": [
      "\u001b[0;36m  File \u001b[0;32m\"<ipython-input-10-f032007e578f>\"\u001b[0;36m, line \u001b[0;32m19\u001b[0m\n\u001b[0;31m    for li in se_li_[\"<\"]\u001b[0m\n\u001b[0m                         ^\u001b[0m\n\u001b[0;31mSyntaxError\u001b[0m\u001b[0;31m:\u001b[0m invalid syntax\n"
     ]
    }
   ],
   "source": [
    "de = \"\\n\\n\"\n",
    "\n",
    "for na, se_li_ in na_se_li_.items():\n",
    "\n",
    "    kraft.path.make(pa, pr=False)\n",
    "\n",
    "    with open(pa, \"w\") as io:\n",
    "\n",
    "        ti_li_ = {\n",
    "            \".\": [],\n",
    "            \"<\": [],\n",
    "            \">\": [],\n",
    "        }\n",
    "\n",
    "        for li in se_li_[\".\"]:\n",
    "\n",
    "            ti_li_[\".\"].append(li)\n",
    "\n",
    "        for li in se_li_[\"<\"]:\n",
    "\n",
    "            ti_li_[\"<\"].append(na_na2.get(li, li))\n",
    "\n",
    "        for li in se_li_[\">\"] + se_li_[\">md\"]:\n",
    "\n",
    "            ti_li_[\">\"].append(na_na2.get(li, li))\n",
    "\n",
    "        for ti, li_ in ti_li_.items():\n",
    "\n",
    "            io.write(\"# {}\".format(ti) + de)\n",
    "\n",
    "            if len(li_) == 0:\n",
    "\n",
    "                continue\n",
    "\n",
    "            io.write(de.join(li_) + de)"
   ]
  },
  {
   "cell_type": "code",
   "execution_count": null,
   "id": "fdf3f8de-ac9f-49df-84bb-4eb1f68cd1de",
   "metadata": {},
   "outputs": [],
   "source": [
    "fe_ = []\n",
    "\n",
    "for na, se_li_ in na_se_li_.items():\n",
    "\n",
    "    fe_ += se_li_[\"<\"]\n",
    "\n",
    "    fe_ += se_li_[\">\"]\n",
    "\n",
    "pd.DataFrame(index=sorted(set(fe_)), columns=[\"Phase\"]).to_csv(\"../feature.tsv\", \"\\t\")"
   ]
  },
  {
   "cell_type": "code",
   "execution_count": null,
   "id": "1ae17612-f604-4856-aa26-40a3c48740ec",
   "metadata": {},
   "outputs": [],
   "source": [
    "di = \"../compiled/\"\n",
    "\n",
    "if os.path.isdir(di):\n",
    "\n",
    "    shutil.rmtree(di)\n",
    "\n",
    "de = \"\\n\\n\"\n",
    "\n",
    "for na, se_li_ in na_se_li_.items():\n",
    "\n",
    "    pa = na_pa[na].replace(\"../raw/\", di)\n",
    "\n",
    "    kraft.path.make(pa, pr=False)\n",
    "\n",
    "    with open(pa, \"w\") as io:\n",
    "\n",
    "        ti_li_ = {\n",
    "            \"Comment\": [],\n",
    "            \"Epidemiology\": [],\n",
    "            \"Cause\": [],\n",
    "            \"Symptom\": [],\n",
    "            \"Sign\": [],\n",
    "            \"Diagnostic\": [],\n",
    "            \"Treatment and Management\": [],\n",
    "        }\n",
    "\n",
    "        for li in se_li_[\".\"]:\n",
    "\n",
    "            ti_li_[\"Comment\"].append(li)\n",
    "\n",
    "        for li in se_li_[\"<\"]:\n",
    "\n",
    "            ti_li_[\"Epidemiology\"].append(li)\n",
    "\n",
    "        for li in se_li_[\"md<\"]:\n",
    "\n",
    "            ti_li_[\"Cause\"].append(li)\n",
    "\n",
    "        for li in se_li_[\">\"] + kraft.iterable.flatten(\n",
    "            [na_se_li_[li][\">\"] for li in se_li_[\">md\"]]\n",
    "        ):\n",
    "\n",
    "            if 1:\n",
    "\n",
    "                ti_li_[\"Symptom\"].append(li)\n",
    "\n",
    "            elif 2:\n",
    "\n",
    "                ti_li_[\"Sign\"].append(li)\n",
    "\n",
    "            elif 3:\n",
    "\n",
    "                ti_li_[\"Diagnostic\"].append(li)\n",
    "\n",
    "        for ti, li_ in ti_li_.items():\n",
    "\n",
    "            io.write(\"# {}\".format(ti) + de)\n",
    "\n",
    "            if len(li_) == 0:\n",
    "\n",
    "                continue\n",
    "\n",
    "            for li, n in pd.value_counts(li_).items():\n",
    "\n",
    "                if 1 < n:\n",
    "\n",
    "                    so_ = [na]\n",
    "\n",
    "                    so_ += [\n",
    "                        liri for liri in se_li_[\">md\"] if li in na_se_li_[liri][\">\"]\n",
    "                    ]\n",
    "\n",
    "                    print(\"{}:\\n\\t{}\\n\".format(li, \"\\n\\t\".join(so_)))\n",
    "\n",
    "            io.write(de.join(li_) + de)"
   ]
  }
 ],
 "metadata": {
  "kernelspec": {
   "display_name": "Python 3",
   "language": "python",
   "name": "python3"
  },
  "language_info": {
   "codemirror_mode": {
    "name": "ipython",
    "version": 3
   },
   "file_extension": ".py",
   "mimetype": "text/x-python",
   "name": "python",
   "nbconvert_exporter": "python",
   "pygments_lexer": "ipython3",
   "version": "3.8.9"
  }
 },
 "nbformat": 4,
 "nbformat_minor": 5
}
