{
 "cells": [
  {
   "cell_type": "code",
   "execution_count": 1,
   "id": "d84e8381-6301-4239-9e3a-490f4762a51a",
   "metadata": {},
   "outputs": [],
   "source": [
    "%load_ext autoreload\n",
    "%autoreload 2"
   ]
  },
  {
   "cell_type": "code",
   "execution_count": 2,
   "id": "b2e07a49-a68b-4a6e-a1b5-1ed2b3af0520",
   "metadata": {},
   "outputs": [],
   "source": [
    "import kraft"
   ]
  },
  {
   "cell_type": "code",
   "execution_count": 3,
   "id": "a1cb802a-57c4-4e5d-a3d9-b50d2223dd37",
   "metadata": {},
   "outputs": [],
   "source": [
    "di = \"../raw/\""
   ]
  },
  {
   "cell_type": "markdown",
   "id": "1d6067cc-143b-4594-9390-21807356f0b7",
   "metadata": {},
   "source": [
    "## Check raw"
   ]
  },
  {
   "cell_type": "code",
   "execution_count": 4,
   "id": "8aab5edb-2670-4654-822f-c7d2d3deee7c",
   "metadata": {},
   "outputs": [
    {
     "data": {
      "text/plain": [
       "565"
      ]
     },
     "execution_count": 4,
     "metadata": {},
     "output_type": "execute_result"
    }
   ],
   "source": [
    "na_pa = {}\n",
    "\n",
    "for pa in kraft.path.get_child(di):\n",
    "\n",
    "    if pa[-3:] != \".md\":\n",
    "\n",
    "        continue\n",
    "\n",
    "    na = pa.split(\"/\")[-1][: -len(\".md\")]\n",
    "\n",
    "    assert na == kraft.string.untitle(na), na\n",
    "\n",
    "    assert na not in na_pa, \"\\n{}\\n{}\".format(na_pa[na], pa)\n",
    "\n",
    "    na_pa[na] = pa\n",
    "\n",
    "    se_ = [\".\", \"<\", \">\"]\n",
    "\n",
    "    with open(pa) as io:\n",
    "\n",
    "        for ie, li in enumerate(io):\n",
    "\n",
    "            li = li.strip()\n",
    "\n",
    "            er = \"{}: {}\".format(na, li)\n",
    "\n",
    "            if ie % 2 == 1:\n",
    "\n",
    "                assert li == \"\", er\n",
    "\n",
    "            elif li[0] == \"#\":\n",
    "\n",
    "                se = li[2]\n",
    "\n",
    "                assert se == se_.pop(0), er\n",
    "\n",
    "            elif se == \".\":\n",
    "\n",
    "                assert li[-1] == \".\", er\n",
    "\n",
    "len(na_pa)"
   ]
  },
  {
   "cell_type": "markdown",
   "id": "9aea0b0a-4413-449c-b568-dcdf27f6a256",
   "metadata": {},
   "source": [
    "## Read raw"
   ]
  },
  {
   "cell_type": "code",
   "execution_count": 5,
   "id": "c6acab93-0dc9-4bbc-87ac-0a50161bb6a5",
   "metadata": {},
   "outputs": [],
   "source": [
    "na_se_li_ = {}\n",
    "\n",
    "for na, pa in na_pa.items():\n",
    "\n",
    "    se_li_ = {\n",
    "        \".\": [],\n",
    "        \"<\": [],\n",
    "        \">\": [],\n",
    "    }\n",
    "\n",
    "    with open(pa) as io:\n",
    "\n",
    "        for li in io.readlines()[0::2]:\n",
    "\n",
    "            li = li.strip()\n",
    "\n",
    "            if li[0] == \"#\":\n",
    "\n",
    "                se = li[2]\n",
    "\n",
    "            else:\n",
    "\n",
    "                li_ = se_li_[se]\n",
    "\n",
    "                assert li not in li_, \"{}: {}\".format(na, li)\n",
    "\n",
    "                li_.append(li)\n",
    "\n",
    "    na_se_li_[na] = se_li_"
   ]
  },
  {
   "cell_type": "markdown",
   "id": "0d450072-d3cb-44a0-ac54-5078952ffe9c",
   "metadata": {},
   "source": [
    "## Link .md"
   ]
  },
  {
   "cell_type": "code",
   "execution_count": 6,
   "id": "25603929-ee05-4442-bbea-d316b432e057",
   "metadata": {},
   "outputs": [],
   "source": [
    "for se_li_ in na_se_li_.values():\n",
    "\n",
    "    se_li_[\"md<\"] = []\n",
    "\n",
    "    se_li_[\">md\"] = []\n",
    "\n",
    "for na, se_li_ in na_se_li_.items():\n",
    "\n",
    "    for li in list(se_li_[\"<\"]):\n",
    "\n",
    "        li2 = kraft.string.untitle(li)\n",
    "\n",
    "        if li2 in na_se_li_:\n",
    "\n",
    "            print(na, li2)\n",
    "\n",
    "            se_li_[\"<\"].remove(li)\n",
    "\n",
    "            na_se_li_[li2][\">md\"].append(na)\n",
    "\n",
    "    for li in list(se_li_[\">\"]):\n",
    "\n",
    "        li2 = kraft.string.untitle(li)\n",
    "\n",
    "        if li2 in na_se_li_:\n",
    "\n",
    "            se_li_[\">\"].remove(li)\n",
    "\n",
    "            se_li_[\">md\"].append(li2)\n",
    "\n",
    "            na_se_li_[li2][\"md<\"].append(na)"
   ]
  },
  {
   "cell_type": "code",
   "execution_count": 7,
   "id": "7c81aa09-2697-45c6-a4d1-a0d201c6f8ef",
   "metadata": {},
   "outputs": [],
   "source": [
    "for na, se_li_ in na_se_li_.items():\n",
    "\n",
    "    for se in [\".\", \"<\", \"md<\", \">\", \">md\"]:\n",
    "\n",
    "        se_li_[se] = list(set(se_li_[se]))"
   ]
  },
  {
   "cell_type": "markdown",
   "id": "4c6fa9ae-6373-472e-b6ed-e8fa701c12a0",
   "metadata": {},
   "source": [
    "## Check collision"
   ]
  },
  {
   "cell_type": "code",
   "execution_count": 8,
   "id": "8f144cc4-ebec-40de-a85b-556d2cb8ed18",
   "metadata": {},
   "outputs": [],
   "source": [
    "def combine_future(se_li_):\n",
    "\n",
    "    return se_li_[\">\"] + kraft.iterable.flatten(\n",
    "        [na_se_li_[li][\">\"] for li in se_li_[\">md\"]]\n",
    "    )"
   ]
  },
  {
   "cell_type": "code",
   "execution_count": 9,
   "id": "eadbdbab-5ae9-4880-b90e-ddab8dca9163",
   "metadata": {},
   "outputs": [],
   "source": [
    "import pandas as pd"
   ]
  },
  {
   "cell_type": "code",
   "execution_count": 10,
   "id": "7dd56dca-fdca-48eb-8b34-8a471d5ca498",
   "metadata": {},
   "outputs": [],
   "source": [
    "for na, se_li_ in na_se_li_.items():\n",
    "\n",
    "    for li, n_re in pd.value_counts(combine_future(se_li_)).items():\n",
    "\n",
    "        if 1 < n_re:\n",
    "\n",
    "            so_ = [na]\n",
    "\n",
    "            so_ += [li2 for li2 in se_li_[\">md\"] if li in na_se_li_[li2][\">\"]]\n",
    "\n",
    "            # print(\"{}:\\n\\t{}\\n\".format(li, \"\\n\\t\".join(so_)))"
   ]
  },
  {
   "cell_type": "markdown",
   "id": "11c32320-7c21-4b3f-9faa-dc54fce59a30",
   "metadata": {},
   "source": [
    "## Read feature"
   ]
  },
  {
   "cell_type": "code",
   "execution_count": 11,
   "id": "8f05162a-4b98-4529-8f99-29dc1f534fe3",
   "metadata": {},
   "outputs": [],
   "source": [
    "fe_pr = {}\n",
    "\n",
    "for pa in kraft.path.list(\"../feature/\"):\n",
    "\n",
    "    pr = []\n",
    "\n",
    "    for na in pa.split(\"/\"):\n",
    "\n",
    "        fi = na.split(\"_\")[0]\n",
    "\n",
    "        if fi.isdigit():\n",
    "\n",
    "            pr.append(int(fi))\n",
    "\n",
    "    fe_ = pd.read_csv(pa, \"\\t\", index_col=0, comment=\"#\").index\n",
    "\n",
    "    assert not fe_.has_duplicates, \"\\n\".join(fe_[fe_.duplicated()])\n",
    "\n",
    "    for ie, fe in enumerate(fe_):\n",
    "\n",
    "        fe_pr[fe] = pr + [ie]"
   ]
  },
  {
   "cell_type": "markdown",
   "id": "63630a67-44e9-4c52-a7c9-2137a59c2959",
   "metadata": {},
   "source": [
    "## Check extra feature "
   ]
  },
  {
   "cell_type": "code",
   "execution_count": 12,
   "id": "f08fdea9-7fa7-44d3-b49b-2480b926dec9",
   "metadata": {},
   "outputs": [],
   "source": [
    "fe_ = []\n",
    "\n",
    "for se_li_ in na_se_li_.values():\n",
    "\n",
    "    fe_ += se_li_[\"<\"] + se_li_[\">\"]"
   ]
  },
  {
   "cell_type": "code",
   "execution_count": 13,
   "id": "3c0f0a67-f862-4aea-84d6-330e542aaea0",
   "metadata": {},
   "outputs": [
    {
     "name": "stdout",
     "output_type": "stream",
     "text": [
      "7\n",
      "Holo-systolic murmur\n",
      "Post-prandial chest pain\n",
      "Left upper quadrant abdominal pain\n",
      "Bloody diarrhea\n",
      "Dysmenorrhea\n",
      "Thombosis\n",
      "Menopause\n"
     ]
    }
   ],
   "source": [
    "ex_ = []\n",
    "\n",
    "for fe in fe_pr.keys():\n",
    "\n",
    "    if fe not in fe_:\n",
    "\n",
    "        assert kraft.string.untitle(fe) not in na_se_li_, fe\n",
    "\n",
    "        ex_.append(fe)\n",
    "\n",
    "print(len(ex_))\n",
    "\n",
    "print(\"\\n\".join(ex_))"
   ]
  },
  {
   "cell_type": "markdown",
   "id": "29f965d9-4815-4c25-88cc-c32e6e7a65e5",
   "metadata": {},
   "source": [
    "## Check missing feature"
   ]
  },
  {
   "cell_type": "code",
   "execution_count": 14,
   "id": "bbbd9160-a53d-4a65-b721-8194e24490be",
   "metadata": {},
   "outputs": [
    {
     "name": "stdout",
     "output_type": "stream",
     "text": [
      "8\n",
      "High serum ALT\n",
      "High serum AST\n",
      "High serum BNP\n",
      "High serum INR\n",
      "High serum bilirubin\n",
      "High serum creatinine\n",
      "High serum lactate\n",
      "High serum troponin\n"
     ]
    }
   ],
   "source": [
    "mi_ = []\n",
    "\n",
    "for na, se_li_ in na_se_li_.items():\n",
    "\n",
    "    for li in se_li_[\"<\"] + se_li_[\">\"]:\n",
    "\n",
    "        if li not in fe_pr:\n",
    "\n",
    "            mi_.append(li)\n",
    "\n",
    "mi_ = set(mi_)\n",
    "\n",
    "print(len(mi_))\n",
    "\n",
    "print(\"\\n\".join(sorted(mi_)))"
   ]
  },
  {
   "cell_type": "markdown",
   "id": "f189bea9-55f4-484d-a766-561d15cb14b7",
   "metadata": {},
   "source": [
    "## Rewrite"
   ]
  },
  {
   "cell_type": "code",
   "execution_count": 15,
   "id": "f57d3644-adb5-4e01-971e-c924adac3f4f",
   "metadata": {},
   "outputs": [],
   "source": [
    "def prioritize(fe):\n",
    "\n",
    "    return fe_pr.get(fe, [0]) + [fe]"
   ]
  },
  {
   "cell_type": "code",
   "execution_count": 16,
   "id": "4f55c99f-782d-488d-814e-28bed5204c9f",
   "metadata": {},
   "outputs": [],
   "source": [
    "def sort(li_):\n",
    "\n",
    "    return sorted(li_, key=prioritize)"
   ]
  },
  {
   "cell_type": "code",
   "execution_count": 17,
   "id": "57af5d06-ae1a-499d-938e-fd6ea2fdb316",
   "metadata": {},
   "outputs": [],
   "source": [
    "for na, se_li_ in na_se_li_.items():\n",
    "\n",
    "    with open(na_pa[na], \"w\") as io:\n",
    "\n",
    "        ti_li_ = {\n",
    "            \".\": se_li_[\".\"],\n",
    "            \"<\": se_li_[\"<\"],\n",
    "            \">\": se_li_[\">\"] + [kraft.string.title(li).upper() for li in se_li_[\">md\"]],\n",
    "        }\n",
    "\n",
    "        for ti, li_ in ti_li_.items():\n",
    "\n",
    "            if ti != \".\":\n",
    "\n",
    "                io.write(\"\\n\")\n",
    "\n",
    "            io.write(\"# {}\\n\".format(ti))\n",
    "\n",
    "            if 0 < len(li_):\n",
    "\n",
    "                io.write(\"\\n\")\n",
    "\n",
    "                io.write(\"\\n\\n\".join(sort(li_)) + \"\\n\")"
   ]
  },
  {
   "cell_type": "markdown",
   "id": "f755e6cc-4262-462f-99db-ce1385fd3de6",
   "metadata": {},
   "source": [
    "## Clean"
   ]
  },
  {
   "cell_type": "code",
   "execution_count": 18,
   "id": "31dfab6c-fa99-4ba3-a496-8ed5195790fe",
   "metadata": {},
   "outputs": [],
   "source": [
    "import os\n",
    "import shutil"
   ]
  },
  {
   "cell_type": "code",
   "execution_count": 19,
   "id": "a826f63e-59ae-4ab4-a44a-aea322d07606",
   "metadata": {},
   "outputs": [],
   "source": [
    "di2 = \"../clean/\"\n",
    "\n",
    "if os.path.isdir(di2):\n",
    "\n",
    "    shutil.rmtree(di2)"
   ]
  },
  {
   "cell_type": "code",
   "execution_count": 20,
   "id": "d4cb878f-19fd-4533-b72e-34e844324a78",
   "metadata": {},
   "outputs": [
    {
     "ename": "KeyError",
     "evalue": "'High serum BNP'",
     "output_type": "error",
     "traceback": [
      "\u001b[0;31m---------------------------------------------------------------------------\u001b[0m",
      "\u001b[0;31mKeyError\u001b[0m                                  Traceback (most recent call last)",
      "\u001b[0;32m<ipython-input-20-587d4052af29>\u001b[0m in \u001b[0;36m<module>\u001b[0;34m\u001b[0m\n\u001b[1;32m     27\u001b[0m         \u001b[0;32mfor\u001b[0m \u001b[0mli\u001b[0m \u001b[0;32min\u001b[0m \u001b[0mcombine_future\u001b[0m\u001b[0;34m(\u001b[0m\u001b[0mse_li_\u001b[0m\u001b[0;34m)\u001b[0m\u001b[0;34m:\u001b[0m\u001b[0;34m\u001b[0m\u001b[0;34m\u001b[0m\u001b[0m\n\u001b[1;32m     28\u001b[0m \u001b[0;34m\u001b[0m\u001b[0m\n\u001b[0;32m---> 29\u001b[0;31m             \u001b[0mnu_\u001b[0m \u001b[0;34m=\u001b[0m \u001b[0mfe_pr\u001b[0m\u001b[0;34m[\u001b[0m\u001b[0mli\u001b[0m\u001b[0;34m]\u001b[0m\u001b[0;34m\u001b[0m\u001b[0;34m\u001b[0m\u001b[0m\n\u001b[0m\u001b[1;32m     30\u001b[0m \u001b[0;34m\u001b[0m\u001b[0m\n\u001b[1;32m     31\u001b[0m             \u001b[0;32mif\u001b[0m \u001b[0;34m[\u001b[0m\u001b[0;36m1\u001b[0m\u001b[0;34m,\u001b[0m \u001b[0;36m0\u001b[0m\u001b[0;34m,\u001b[0m \u001b[0;36m0\u001b[0m\u001b[0;34m]\u001b[0m \u001b[0;34m<=\u001b[0m \u001b[0mnu_\u001b[0m \u001b[0;34m<\u001b[0m \u001b[0;34m[\u001b[0m\u001b[0;36m2\u001b[0m\u001b[0;34m,\u001b[0m \u001b[0;36m0\u001b[0m\u001b[0;34m,\u001b[0m \u001b[0;36m0\u001b[0m\u001b[0;34m]\u001b[0m\u001b[0;34m:\u001b[0m\u001b[0;34m\u001b[0m\u001b[0;34m\u001b[0m\u001b[0m\n",
      "\u001b[0;31mKeyError\u001b[0m: 'High serum BNP'"
     ]
    }
   ],
   "source": [
    "for na, se_li_ in na_se_li_.items():\n",
    "\n",
    "    pa = na_pa[na].replace(di, di2)\n",
    "\n",
    "    kraft.path.make(pa, pr=False)\n",
    "\n",
    "    with open(pa, \"w\") as io:\n",
    "\n",
    "        ti_li_ = {\n",
    "            \"Comment\": se_li_[\".\"],\n",
    "            \"Epidemiology\": [],\n",
    "            \"Cause\": [kraft.string.title(li) for li in se_li_[\"md<\"]],\n",
    "            \"Symptom\": [],\n",
    "            \"Sign\": [],\n",
    "            \"Diagnostic\": [],\n",
    "            # \"Treatment and Management\": [],\n",
    "        }\n",
    "\n",
    "        for li in se_li_[\"<\"]:\n",
    "\n",
    "            nu_ = fe_pr[li]\n",
    "\n",
    "            if [2, 0, 0] <= nu_ < [6, 0, 0]:\n",
    "\n",
    "                ti_li_[\"Epidemiology\"].append(li)\n",
    "\n",
    "        for li in combine_future(se_li_):\n",
    "\n",
    "            nu_ = fe_pr[li]\n",
    "\n",
    "            if [1, 0, 0] <= nu_ < [2, 0, 0]:\n",
    "\n",
    "                ti_li_[\"Symptom\"].append(li)\n",
    "\n",
    "            elif [6, 0, 0] <= nu_ < [7, 0, 0]:\n",
    "\n",
    "                ti_li_[\"Sign\"].append(li)\n",
    "\n",
    "            elif [7, 0, 0] <= nu_:\n",
    "\n",
    "                ti_li_[\"Diagnostic\"].append(li)\n",
    "\n",
    "        for ti, li_ in ti_li_.items():\n",
    "\n",
    "            if 0 < len(li_):\n",
    "\n",
    "                if ti != \"Comment\":\n",
    "\n",
    "                    io.write(\"\\n\")\n",
    "\n",
    "                io.write(\"# {}\\n\".format(ti))\n",
    "\n",
    "                io.write(\"\\n\")\n",
    "\n",
    "                io.write(\"\\n\\n\".join(sort(li_)) + \"\\n\")"
   ]
  }
 ],
 "metadata": {
  "kernelspec": {
   "display_name": "Python 3",
   "language": "python",
   "name": "python3"
  },
  "language_info": {
   "codemirror_mode": {
    "name": "ipython",
    "version": 3
   },
   "file_extension": ".py",
   "mimetype": "text/x-python",
   "name": "python",
   "nbconvert_exporter": "python",
   "pygments_lexer": "ipython3",
   "version": "3.9.5"
  }
 },
 "nbformat": 4,
 "nbformat_minor": 5
}
