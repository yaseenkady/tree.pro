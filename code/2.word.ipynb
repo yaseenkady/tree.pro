{
 "cells": [
  {
   "cell_type": "code",
   "execution_count": 2,
   "id": "1151aaa0",
   "metadata": {},
   "outputs": [
    {
     "data": {
      "text/plain": [
       "\"../input/tree\""
      ]
     },
     "execution_count": 2,
     "metadata": {},
     "output_type": "execute_result"
    }
   ],
   "source": [
    "include(\"_.jl\")"
   ]
  },
  {
   "cell_type": "code",
   "execution_count": 3,
   "id": "071b6076",
   "metadata": {},
   "outputs": [
    {
     "data": {
      "text/plain": [
       "false"
      ]
     },
     "execution_count": 3,
     "metadata": {},
     "output_type": "execute_result"
    }
   ],
   "source": [
    "te = SE[\"testing\"]"
   ]
  },
  {
   "cell_type": "markdown",
   "id": "ac2799fe",
   "metadata": {},
   "source": [
    "## Catalog"
   ]
  },
  {
   "cell_type": "code",
   "execution_count": 5,
   "id": "f0ce59fb",
   "metadata": {},
   "outputs": [],
   "source": [
    "ti_di = catalog(TR)\n",
    "\n",
    ";"
   ]
  },
  {
   "cell_type": "markdown",
   "id": "217de25c",
   "metadata": {
    "scrolled": false
   },
   "source": [
    "## Check word"
   ]
  },
  {
   "cell_type": "code",
   "execution_count": 6,
   "id": "d53945e8",
   "metadata": {
    "scrolled": false
   },
   "outputs": [
    {
     "name": "stdout",
     "output_type": "stream",
     "text": [
      "--------------------------------------------------------------------------------\n",
      "decreased_appetite\n",
      "decreased_libido\n",
      "decreased_weight\n",
      "\n",
      "--------------------------------------------------------------------------------\n",
      "increased_weight\n",
      "\n",
      "--------------------------------------------------------------------------------\n",
      "trouble_falling_asleep\n",
      "trouble_hearing\n",
      "trouble_seeing\n",
      "trouble_sensing_pain\n",
      "trouble_sensing_pressure\n",
      "trouble_sensing_temperature\n",
      "trouble_sensing_vibration\n",
      "trouble_smelling\n",
      "trouble_with_memory\n",
      "trouble_with_speech\n",
      "\n",
      "--------------------------------------------------------------------------------\n",
      "atrial_septal_defect\n",
      "hand_defect\n",
      "midline_defect\n",
      "ventricular_septal_defect\n",
      "\n",
      "--------------------------------------------------------------------------------\n",
      "diminished_breath_sound\n",
      "diminished_heart_sound\n",
      "\n",
      "--------------------------------------------------------------------------------\n",
      "prolonged_expiratory_phase\n",
      "\n",
      "--------------------------------------------------------------------------------\n",
      "poor_hygiene\n",
      "poor_sleep_hygiene\n",
      "poor_wound_healing\n",
      "\n",
      "--------------------------------------------------------------------------------\n",
      "low_bone_density\n",
      "low_diet_ca\n",
      "low_diet_carbohydrate\n",
      "low_diet_fe\n",
      "low_diet_i\n",
      "low_diet_k\n",
      "low_diet_vitamin_b1\n",
      "low_diet_vitamin_b12\n",
      "low_diet_vitamin_b3\n",
      "low_diet_vitamin_b6\n",
      "low_diet_vitamin_b9\n",
      "low_diet_vitamin_d\n",
      "low_hemoglobin_a1c\n",
      "low_pulse_pressure\n",
      "low_serum_acth\n",
      "low_serum_adh\n",
      "low_serum_aldosterone\n",
      "low_serum_bicarbonate\n",
      "low_serum_ca\n",
      "low_serum_cholecystokinin\n",
      "low_serum_cholesterol\n",
      "low_serum_clotting_factor\n",
      "low_serum_cortisol\n",
      "low_serum_crh\n",
      "low_serum_ferritin\n",
      "low_serum_free_t4\n",
      "low_serum_fsh\n",
      "low_serum_gastric_inhibitory_peptide\n",
      "low_serum_gastrin\n",
      "low_serum_gh\n",
      "low_serum_glucagon\n",
      "low_serum_hdl\n",
      "low_serum_hemoglobin\n",
      "low_serum_igf1\n",
      "low_serum_insulin\n",
      "low_serum_k\n",
      "low_serum_ldl\n",
      "low_serum_lh\n",
      "low_serum_na\n",
      "low_serum_osmolality\n",
      "low_serum_ph\n",
      "low_serum_po4\n",
      "low_serum_prolactin\n",
      "low_serum_pth\n",
      "low_serum_renin\n",
      "low_serum_secretin\n",
      "low_serum_testosterone\n",
      "low_serum_tsh\n",
      "low_serum_vitamin_d\n",
      "low_sun_exposure\n",
      "low_urine_ca\n",
      "low_urine_osmolality\n",
      "low_urine_specific_gravity\n",
      "low_voltage_qrs\n",
      "\n",
      "--------------------------------------------------------------------------------\n",
      "high_diet_ca\n",
      "high_diet_i\n",
      "high_diet_k\n",
      "high_diet_protein\n",
      "high_diet_vitamin_d\n",
      "high_esr\n",
      "high_hematocrit\n",
      "high_pulse_pressure\n",
      "high_serum_acth\n",
      "high_serum_adh\n",
      "high_serum_afp\n",
      "high_serum_albumin\n",
      "high_serum_aldosterone\n",
      "high_serum_alkaline_phosphatase\n",
      "high_serum_alt\n",
      "high_serum_amylase\n",
      "high_serum_androgen\n",
      "high_serum_anp\n",
      "high_serum_ast\n",
      "high_serum_bhcg\n",
      "high_serum_bilirubin\n",
      "high_serum_bnp\n",
      "high_serum_bvldl\n",
      "high_serum_ca\n",
      "high_serum_calcitonin\n",
      "high_serum_calcitriol\n",
      "high_serum_catecholamine\n",
      "high_serum_cholesterol\n",
      "high_serum_chylomicron\n",
      "high_serum_cortisol\n",
      "high_serum_creatine\n",
      "high_serum_creatinine\n",
      "high_serum_crp\n",
      "high_serum_epo\n",
      "high_serum_free_t3\n",
      "high_serum_free_t4\n",
      "high_serum_fsh\n",
      "high_serum_gastrin\n",
      "high_serum_gh\n",
      "high_serum_gh_after_glucose\n",
      "high_serum_glucagon\n",
      "high_serum_glucose\n",
      "high_serum_grh\n",
      "high_serum_hemoglobin_a1c\n",
      "high_serum_idl\n",
      "high_serum_igf1\n",
      "high_serum_il6\n",
      "high_serum_immunoglobulin\n",
      "high_serum_inr\n",
      "high_serum_insulin\n",
      "high_serum_k\n",
      "high_serum_ketone\n",
      "high_serum_lactate\n",
      "high_serum_ldh\n",
      "high_serum_ldl\n",
      "high_serum_lh\n",
      "high_serum_lipase\n",
      "high_serum_na\n",
      "high_serum_osmolality\n",
      "high_serum_ph\n",
      "high_serum_po4\n",
      "high_serum_prolactin\n",
      "high_serum_pth\n",
      "high_serum_renin\n",
      "high_serum_rf\n",
      "high_serum_somatostatin\n",
      "high_serum_triglyceride\n",
      "high_serum_troponin\n",
      "high_serum_tsh\n",
      "high_serum_urea_nitrogen\n",
      "high_serum_vip\n",
      "high_serum_vitamin_d\n",
      "high_serum_vldl\n",
      "high_sun_exposure\n",
      "high_urine_catecholamine\n",
      "high_urine_cortisol\n",
      "high_urine_glucose\n",
      "high_urine_homocysteine\n",
      "high_urine_ketone\n",
      "high_urine_na\n",
      "high_urine_osmolality\n",
      "high_urine_specific_gravity\n",
      "\n",
      "--------------------------------------------------------------------------------\n",
      "focal_deficit\n",
      "\n"
     ]
    }
   ],
   "source": [
    "na_ = sort(collect(keys(ti_di)))\n",
    "\n",
    "for wo in SE[\"words_to_check\"]\n",
    "    \n",
    "    println(\"-\" ^ 80)\n",
    "    \n",
    "    for na in na_\n",
    "        \n",
    "        if occursin(Regex(\"(?<![a-z])$wo(?![a-z])\"), na)\n",
    "\n",
    "            println(na)\n",
    "\n",
    "        end\n",
    "        \n",
    "    end\n",
    "    \n",
    "    println()\n",
    "\n",
    "end"
   ]
  },
  {
   "cell_type": "markdown",
   "id": "4b7bfe34",
   "metadata": {},
   "source": [
    "## Rename"
   ]
  },
  {
   "cell_type": "code",
   "execution_count": 8,
   "id": "382f5578",
   "metadata": {},
   "outputs": [],
   "source": [
    "for (be, af) in Dict()\n",
    "\n",
    "    for na in na_\n",
    "\n",
    "        if occursin(be, na)\n",
    "\n",
    "            pa = ti_di[na][\"path\"]\n",
    "\n",
    "            di, fi = splitdir(pa)\n",
    "\n",
    "            move(pa, joinpath(di, replace(fi, be => af)); te = te)\n",
    "\n",
    "        end\n",
    "\n",
    "    end\n",
    "\n",
    "end"
   ]
  }
 ],
 "metadata": {
  "@webio": {
   "lastCommId": "803084540bdc48a490b0511999c50936",
   "lastKernelId": "6450894f-c68b-4686-bf5d-5533f4f85a6b"
  },
  "kernelspec": {
   "display_name": "Julia 1.6.3",
   "language": "julia",
   "name": "julia-1.6"
  },
  "language_info": {
   "file_extension": ".jl",
   "mimetype": "application/julia",
   "name": "julia",
   "version": "1.6.3"
  }
 },
 "nbformat": 4,
 "nbformat_minor": 5
}
