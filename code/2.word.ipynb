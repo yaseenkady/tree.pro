{
 "cells": [
  {
   "cell_type": "code",
   "execution_count": null,
   "id": "1151aaa0",
   "metadata": {},
   "outputs": [],
   "source": [
    "include(\"_.jl\")"
   ]
  },
  {
   "cell_type": "code",
   "execution_count": null,
   "id": "071b6076",
   "metadata": {},
   "outputs": [],
   "source": [
    "hi = SE[\"hierarchy\"]\n",
    "\n",
    "te = SE[\"testing\"]"
   ]
  },
  {
   "cell_type": "code",
   "execution_count": null,
   "id": "0bd81b44",
   "metadata": {},
   "outputs": [],
   "source": [
    "println(\"Cataloging\")\n",
    "\n",
    "ti_di = catalog(hi)"
   ]
  },
  {
   "cell_type": "code",
   "execution_count": null,
   "id": "4c358547",
   "metadata": {},
   "outputs": [],
   "source": [
    "na_ = keys(ti_di)"
   ]
  },
  {
   "cell_type": "code",
   "execution_count": null,
   "id": "a9974a76",
   "metadata": {
    "scrolled": false
   },
   "outputs": [],
   "source": [
    "println(\"Checking word\")\n",
    "\n",
    "for wo in SE[\"words_to_check\"]\n",
    "    \n",
    "    println(\"-\" ^ 80)\n",
    "    \n",
    "    println(wo)\n",
    "    \n",
    "    for na in na_\n",
    "        \n",
    "        if occursin(Regex(\"(?<![a-z])$wo(?![a-z])\"), na)\n",
    "\n",
    "            println(na)\n",
    "\n",
    "        end\n",
    "        \n",
    "    end\n",
    "    \n",
    "    println()\n",
    "\n",
    "end"
   ]
  },
  {
   "cell_type": "code",
   "execution_count": null,
   "id": "06e481ee",
   "metadata": {},
   "outputs": [],
   "source": [
    "be_af = Dict(\n",
    "    \"decreased_heart_sound\" => \"diminished_heart_sound\",\n",
    "    \"decreased_breath_sound\" => \"diminished_breath_sound\",\n",
    ")"
   ]
  },
  {
   "cell_type": "code",
   "execution_count": null,
   "id": "5d527c53",
   "metadata": {},
   "outputs": [],
   "source": [
    "println(\"Renaming\")\n",
    "\n",
    "for (be, af) in be_af\n",
    "\n",
    "    for na in na_\n",
    "\n",
    "        if occursin(be, na)\n",
    "\n",
    "            pa = ti_di[na][\"path\"]\n",
    "\n",
    "            di, fi = splitdir(pa)\n",
    "\n",
    "            move(pa, joinpath(di, replace(fi, be => af)); te = te)\n",
    "\n",
    "        end\n",
    "\n",
    "    end\n",
    "\n",
    "end"
   ]
  }
 ],
 "metadata": {
  "@webio": {
   "lastCommId": null,
   "lastKernelId": null
  },
  "kernelspec": {
   "display_name": "Julia 1.6.3",
   "language": "julia",
   "name": "julia-1.6"
  },
  "language_info": {
   "file_extension": ".jl",
   "mimetype": "application/julia",
   "name": "julia",
   "version": "1.6.3"
  }
 },
 "nbformat": 4,
 "nbformat_minor": 5
}
