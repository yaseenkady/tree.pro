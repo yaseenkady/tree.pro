{
 "cells": [
  {
   "cell_type": "code",
   "execution_count": 5,
   "id": "1151aaa0",
   "metadata": {},
   "outputs": [
    {
     "data": {
      "text/plain": [
       "\"../input/1.example.md\""
      ]
     },
     "execution_count": 5,
     "metadata": {},
     "output_type": "execute_result"
    }
   ],
   "source": [
    "include(\"_.jl\")"
   ]
  },
  {
   "cell_type": "code",
   "execution_count": 6,
   "id": "071b6076",
   "metadata": {},
   "outputs": [
    {
     "data": {
      "text/plain": [
       "false"
      ]
     },
     "execution_count": 6,
     "metadata": {},
     "output_type": "execute_result"
    }
   ],
   "source": [
    "te = SE[\"testing\"]"
   ]
  },
  {
   "cell_type": "markdown",
   "id": "ac2799fe",
   "metadata": {},
   "source": [
    "## Catalog"
   ]
  },
  {
   "cell_type": "code",
   "execution_count": 7,
   "id": "f0ce59fb",
   "metadata": {},
   "outputs": [],
   "source": [
    "ti_di = catalog(TR)\n",
    "\n",
    ";"
   ]
  },
  {
   "cell_type": "markdown",
   "id": "217de25c",
   "metadata": {
    "scrolled": false
   },
   "source": [
    "## Check word"
   ]
  },
  {
   "cell_type": "code",
   "execution_count": 8,
   "id": "d53945e8",
   "metadata": {
    "scrolled": false
   },
   "outputs": [
    {
     "name": "stdout",
     "output_type": "stream",
     "text": [
      "--------------------------------------------------------------------------------\n",
      "decreased_appetite\n",
      "decreased_libido\n",
      "decreased_weight\n",
      "\n",
      "--------------------------------------------------------------------------------\n",
      "increased_weight\n",
      "\n",
      "--------------------------------------------------------------------------------\n",
      "trouble_falling_asleep\n",
      "trouble_hearing\n",
      "trouble_seeing\n",
      "trouble_sensing_pain\n",
      "trouble_sensing_pressure\n",
      "trouble_sensing_temperature\n",
      "trouble_sensing_vibration\n",
      "trouble_smelling\n",
      "trouble_with_memory\n",
      "trouble_with_speech\n",
      "\n",
      "--------------------------------------------------------------------------------\n",
      "hand_defect\n",
      "midline_defect\n",
      "\n",
      "--------------------------------------------------------------------------------\n",
      "diminished_breath_sound\n",
      "diminished_heart_sound\n",
      "\n",
      "--------------------------------------------------------------------------------\n",
      "prolonged_expiration\n",
      "\n",
      "--------------------------------------------------------------------------------\n",
      "poor_hygiene\n",
      "poor_sleep_hygiene\n",
      "poor_wound_healing\n",
      "\n",
      "--------------------------------------------------------------------------------\n",
      "high_serum_b_very_low_density_lipoprotein\n",
      "high_serum_low_density_lipoprotein\n",
      "high_serum_very_low_density_lipoprotein\n",
      "low_bone_density\n",
      "low_diet_calcium\n",
      "low_diet_carbohydrate\n",
      "low_diet_iodine\n",
      "low_diet_iron\n",
      "low_diet_potassium\n",
      "low_diet_vitamin_b1\n",
      "low_diet_vitamin_b12\n",
      "low_diet_vitamin_b3\n",
      "low_diet_vitamin_b6\n",
      "low_diet_vitamin_b9\n",
      "low_diet_vitamin_d\n",
      "low_physical_activity\n",
      "low_serum_adrenocorticotropic_hormone\n",
      "low_serum_aldosterone\n",
      "low_serum_androgen\n",
      "low_serum_antidiuretic_hormone\n",
      "low_serum_calcitonin\n",
      "low_serum_calcitriol\n",
      "low_serum_catecholamine\n",
      "low_serum_cholecystokinin\n",
      "low_serum_clotting_factor\n",
      "low_serum_corticotropin_releasing_hormone\n",
      "low_serum_cortisol\n",
      "low_serum_ferritin\n",
      "low_serum_follicle_stimulating_hormone\n",
      "low_serum_free_thyroxine\n",
      "low_serum_free_triiodothyronine\n",
      "low_serum_gastric_inhibitory_peptide\n",
      "low_serum_gastrin\n",
      "low_serum_glucagon\n",
      "low_serum_gonadotropin_releasing_hormone\n",
      "low_serum_growth_hormone\n",
      "low_serum_hemoglobin_a1c\n",
      "low_serum_high_density_lipoprotein\n",
      "low_serum_insulin\n",
      "low_serum_insulin_like_growth_factor_1\n",
      "low_serum_leutenizing_hormone\n",
      "low_serum_low_density_lipoprotein\n",
      "low_serum_osmolality\n",
      "low_serum_parathyroid_hormone\n",
      "low_serum_prolactin\n",
      "low_serum_renin\n",
      "low_serum_secretin\n",
      "low_serum_somatostatin\n",
      "low_serum_thyroid_stimulating_hormone\n",
      "low_sun_exposure\n",
      "low_urine_osmolality\n",
      "low_urine_sodium\n",
      "low_urine_specific_gravity\n",
      "low_voltage_qrs\n",
      "\n",
      "--------------------------------------------------------------------------------\n",
      "high_diet_calcium\n",
      "high_diet_iodine\n",
      "high_diet_potassium\n",
      "high_diet_protein\n",
      "high_diet_vitamin_d\n",
      "high_erythrocyte_sedimentation_rate\n",
      "high_hematocrit\n",
      "high_international_normalized_ratio\n",
      "high_physical_activity\n",
      "high_schistocyte\n",
      "high_serum_a_fetoprotein\n",
      "high_serum_adrenocorticotropic_hormone\n",
      "high_serum_alanine_transaminase\n",
      "high_serum_aldosterone\n",
      "high_serum_amylase\n",
      "high_serum_androgen\n",
      "high_serum_antidiuretic_hormone\n",
      "high_serum_aspartate_aminotransferase\n",
      "high_serum_atrial_natriuretic_peptide\n",
      "high_serum_b_very_low_density_lipoprotein\n",
      "high_serum_brain_natriuretic_peptide\n",
      "high_serum_c_reactive_protein\n",
      "high_serum_calcitonin\n",
      "high_serum_calcitriol\n",
      "high_serum_catecholamine\n",
      "high_serum_corticotropin_releasing_hormone\n",
      "high_serum_cortisol\n",
      "high_serum_creatine\n",
      "high_serum_erythropoietin\n",
      "high_serum_follicle_stimulating_hormone\n",
      "high_serum_free_thyroxine\n",
      "high_serum_free_triiodothyronine\n",
      "high_serum_gamma_glutamyl_transferase\n",
      "high_serum_gastrin\n",
      "high_serum_glucagon\n",
      "high_serum_gonadotropin_releasing_hormone\n",
      "high_serum_growth_hormone\n",
      "high_serum_hemoglobin_a1c\n",
      "high_serum_human_chorionic_gonadotropin\n",
      "high_serum_immunoglobulin\n",
      "high_serum_insulin\n",
      "high_serum_insulin_like_growth_factor_1\n",
      "high_serum_interleukin_6\n",
      "high_serum_intermediate_density_lipoprotein\n",
      "high_serum_lactate_dehydrogenase\n",
      "high_serum_leutenizing_hormone\n",
      "high_serum_lipase\n",
      "high_serum_low_density_lipoprotein\n",
      "high_serum_m_protein\n",
      "high_serum_osmolality\n",
      "high_serum_parathyroid_hormone\n",
      "high_serum_prolactin\n",
      "high_serum_renin\n",
      "high_serum_rheumatoid_factor\n",
      "high_serum_somatostatin\n",
      "high_serum_thyroid_stimulating_hormone\n",
      "high_serum_troponin\n",
      "high_serum_vasoactive_intestinal_peptide\n",
      "high_serum_very_low_density_lipoprotein\n",
      "high_sun_exposure\n",
      "high_urine_catecholamine\n",
      "high_urine_cortisol\n",
      "high_urine_homocysteine\n",
      "high_urine_osmolality\n",
      "high_urine_sodium\n",
      "high_urine_specific_gravity\n",
      "low_serum_high_density_lipoprotein\n",
      "\n",
      "--------------------------------------------------------------------------------\n",
      "focal_deficit\n",
      "\n"
     ]
    }
   ],
   "source": [
    "na_ = sort(collect(keys(ti_di)))\n",
    "\n",
    "for wo in SE[\"words_to_check\"]\n",
    "    \n",
    "    println(\"-\" ^ 80)\n",
    "    \n",
    "    for na in na_\n",
    "        \n",
    "        if occursin(Regex(\"(?<![a-z])$wo(?![a-z])\"), na)\n",
    "\n",
    "            println(na)\n",
    "\n",
    "        end\n",
    "        \n",
    "    end\n",
    "    \n",
    "    println()\n",
    "\n",
    "end"
   ]
  },
  {
   "cell_type": "markdown",
   "id": "4b7bfe34",
   "metadata": {},
   "source": [
    "## Rename"
   ]
  },
  {
   "cell_type": "code",
   "execution_count": 9,
   "id": "382f5578",
   "metadata": {},
   "outputs": [],
   "source": [
    "for (be, af) in Dict()\n",
    "\n",
    "    for na in na_\n",
    "\n",
    "        if occursin(be, na)\n",
    "\n",
    "            pa = ti_di[na][\"path\"]\n",
    "\n",
    "            di, fi = splitdir(pa)\n",
    "\n",
    "            move(pa, joinpath(di, replace(fi, be => af)); te = te)\n",
    "\n",
    "        end\n",
    "\n",
    "    end\n",
    "\n",
    "end"
   ]
  }
 ],
 "metadata": {
  "@webio": {
   "lastCommId": null,
   "lastKernelId": null
  },
  "kernelspec": {
   "display_name": "Julia 1.6.3",
   "language": "julia",
   "name": "julia-1.6"
  },
  "language_info": {
   "file_extension": ".jl",
   "mimetype": "application/julia",
   "name": "julia",
   "version": "1.6.3"
  }
 },
 "nbformat": 4,
 "nbformat_minor": 5
}
