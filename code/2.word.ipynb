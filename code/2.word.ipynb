{
 "cells": [
  {
   "cell_type": "code",
   "execution_count": null,
   "id": "1151aaa0",
   "metadata": {},
   "outputs": [],
   "source": [
    "include(\"_.jl\")"
   ]
  },
  {
   "cell_type": "code",
   "execution_count": null,
   "id": "071b6076",
   "metadata": {},
   "outputs": [],
   "source": [
    "hi = SE[\"hierarchy\"]\n",
    "\n",
    "te = SE[\"testing\"]"
   ]
  },
  {
   "cell_type": "markdown",
   "id": "ac2799fe",
   "metadata": {},
   "source": [
    "## Catalog"
   ]
  },
  {
   "cell_type": "code",
   "execution_count": null,
   "id": "f0ce59fb",
   "metadata": {},
   "outputs": [],
   "source": [
    "ti_di = catalog(hi)\n",
    "\n",
    ";"
   ]
  },
  {
   "cell_type": "markdown",
   "id": "217de25c",
   "metadata": {
    "scrolled": false
   },
   "source": [
    "## Check word"
   ]
  },
  {
   "cell_type": "code",
   "execution_count": null,
   "id": "d53945e8",
   "metadata": {
    "scrolled": false
   },
   "outputs": [],
   "source": [
    "na_ = sort(collect(keys(ti_di)))\n",
    "\n",
    "for wo in SE[\"words_to_check\"]\n",
    "    \n",
    "    println(\"-\" ^ 80)\n",
    "    \n",
    "    for na in na_\n",
    "        \n",
    "        if occursin(Regex(\"(?<![a-z])$wo(?![a-z])\"), na)\n",
    "\n",
    "            println(na)\n",
    "\n",
    "        end\n",
    "        \n",
    "    end\n",
    "    \n",
    "    println()\n",
    "\n",
    "end"
   ]
  },
  {
   "cell_type": "markdown",
   "id": "4b7bfe34",
   "metadata": {},
   "source": [
    "## Rename"
   ]
  },
  {
   "cell_type": "code",
   "execution_count": null,
   "id": "382f5578",
   "metadata": {},
   "outputs": [],
   "source": [
    "for (be, af) in Dict(\n",
    "    \"auditory_deficit\" => \"trouble_hearing\",\n",
    "    \"memory_deficit\" => \"trouble_with_memory\",\n",
    "    \"olfactory_deficit\" => \"trouble_smelling\",\n",
    "    \"pain_deficit\" => \"trouble_sensing_pain\",\n",
    "    \"pressure_deficit\" => \"trouble_sensing_pressure\",\n",
    "    \"speech_deficit\" => \"trouble_with_speech\",\n",
    "    \"temperature_deficit\" => \"trouble_sensing_temperature\",\n",
    "    \"vibration_deficit\" => \"trouble_sensing_vibration\",\n",
    "    \"visual_deficit\" => \"trouble_seeing\",\n",
    ")\n",
    "\n",
    "    for na in na_\n",
    "\n",
    "        if occursin(be, na)\n",
    "\n",
    "            pa = ti_di[na][\"path\"]\n",
    "\n",
    "            di, fi = splitdir(pa)\n",
    "\n",
    "            Kwat.path.move(pa, joinpath(di, replace(fi, be => af)); te = te)\n",
    "\n",
    "        end\n",
    "\n",
    "    end\n",
    "\n",
    "end"
   ]
  }
 ],
 "metadata": {
  "@webio": {
   "lastCommId": "803084540bdc48a490b0511999c50936",
   "lastKernelId": "6450894f-c68b-4686-bf5d-5533f4f85a6b"
  },
  "kernelspec": {
   "display_name": "Julia 1.6.3",
   "language": "julia",
   "name": "julia-1.6"
  },
  "language_info": {
   "file_extension": ".jl",
   "mimetype": "application/julia",
   "name": "julia",
   "version": "1.6.3"
  }
 },
 "nbformat": 4,
 "nbformat_minor": 5
}
