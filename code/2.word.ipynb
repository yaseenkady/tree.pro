{
 "cells": [
  {
   "cell_type": "code",
   "execution_count": null,
   "id": "1151aaa0",
   "metadata": {
    "execution": {
     "iopub.execute_input": "2021-11-21T22:27:53.898261Z",
     "iopub.status.busy": "2021-11-21T22:27:53.387199Z",
     "iopub.status.idle": "2021-11-21T22:27:55.574977Z",
     "shell.execute_reply": "2021-11-21T22:27:55.574470Z"
    }
   },
   "outputs": [],
   "source": [
    "include(\"_.jl\")"
   ]
  },
  {
   "cell_type": "code",
   "execution_count": null,
   "id": "f0ce59fb",
   "metadata": {
    "execution": {
     "iopub.execute_input": "2021-11-21T22:27:55.647205Z",
     "iopub.status.busy": "2021-11-21T22:27:55.576182Z",
     "iopub.status.idle": "2021-11-21T22:27:58.566294Z",
     "shell.execute_reply": "2021-11-21T22:27:58.565868Z"
    }
   },
   "outputs": [],
   "source": [
    "ti_di = catalog(TR)\n",
    "\n",
    "na_ = sort(collect(keys(ti_di)))\n",
    "\n",
    "for wo in SE[\"words_to_check\"]\n",
    "\n",
    "    println(\"-\"^80)\n",
    "    \n",
    "    re = Regex(\"(?<![a-z])$wo(?![a-z])\")\n",
    "\n",
    "    for na in na_\n",
    "\n",
    "        if occursin(re, na)\n",
    "\n",
    "            println(na)\n",
    "\n",
    "        end\n",
    "\n",
    "    end\n",
    "\n",
    "    println()\n",
    "\n",
    "end"
   ]
  },
  {
   "cell_type": "code",
   "execution_count": null,
   "id": "382f5578",
   "metadata": {
    "execution": {
     "iopub.execute_input": "2021-11-21T22:27:58.568166Z",
     "iopub.status.busy": "2021-11-21T22:27:58.567655Z",
     "iopub.status.idle": "2021-11-21T22:27:58.713943Z",
     "shell.execute_reply": "2021-11-21T22:27:58.713571Z"
    }
   },
   "outputs": [],
   "source": [
    "for (be, af) in Dict()\n",
    "\n",
    "    for na in na_\n",
    "\n",
    "        if occursin(be, na)\n",
    "\n",
    "            pa = ti_di[na][\"path\"]\n",
    "\n",
    "            di, fi = splitdir(pa)\n",
    "\n",
    "            move(pa, joinpath(di, replace(fi, be => af)))\n",
    "\n",
    "        end\n",
    "\n",
    "    end\n",
    "\n",
    "end"
   ]
  }
 ],
 "metadata": {
  "@webio": {
   "lastCommId": null,
   "lastKernelId": null
  },
  "kernelspec": {
   "display_name": "Julia 1.6.3",
   "language": "julia",
   "name": "julia-1.6"
  },
  "language_info": {
   "file_extension": ".jl",
   "mimetype": "application/julia",
   "name": "julia",
   "version": "1.6.3"
  }
 },
 "nbformat": 4,
 "nbformat_minor": 5
}
