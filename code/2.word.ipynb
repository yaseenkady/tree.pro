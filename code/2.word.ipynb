{
 "cells": [
  {
   "cell_type": "code",
   "execution_count": null,
   "id": "1151aaa0",
   "metadata": {},
   "outputs": [],
   "source": [
    "include(\"_.jl\")"
   ]
  },
  {
   "cell_type": "code",
   "execution_count": null,
   "id": "071b6076",
   "metadata": {},
   "outputs": [],
   "source": [
    "te = SE[\"testing\"]"
   ]
  },
  {
   "cell_type": "markdown",
   "id": "ac2799fe",
   "metadata": {},
   "source": [
    "## Catalog"
   ]
  },
  {
   "cell_type": "code",
   "execution_count": null,
   "id": "f0ce59fb",
   "metadata": {},
   "outputs": [],
   "source": [
    "ti_di = catalog(TR)\n",
    "\n",
    ";"
   ]
  },
  {
   "cell_type": "markdown",
   "id": "217de25c",
   "metadata": {
    "scrolled": false
   },
   "source": [
    "## Check word"
   ]
  },
  {
   "cell_type": "code",
   "execution_count": null,
   "id": "d53945e8",
   "metadata": {
    "scrolled": false
   },
   "outputs": [],
   "source": [
    "na_ = sort(collect(keys(ti_di)))\n",
    "\n",
    "for wo in SE[\"words_to_check\"]\n",
    "    \n",
    "    println(\"-\" ^ 80)\n",
    "    \n",
    "    for na in na_\n",
    "        \n",
    "        if occursin(Regex(\"(?<![a-z])$wo(?![a-z])\"), na)\n",
    "\n",
    "            println(na)\n",
    "\n",
    "        end\n",
    "        \n",
    "    end\n",
    "    \n",
    "    println()\n",
    "\n",
    "end"
   ]
  },
  {
   "cell_type": "markdown",
   "id": "4b7bfe34",
   "metadata": {},
   "source": [
    "## Rename"
   ]
  },
  {
   "cell_type": "code",
   "execution_count": null,
   "id": "382f5578",
   "metadata": {},
   "outputs": [],
   "source": [
    "for (be, af) in Dict()\n",
    "\n",
    "    for na in na_\n",
    "\n",
    "        if occursin(be, na)\n",
    "\n",
    "            pa = ti_di[na][\"path\"]\n",
    "\n",
    "            di, fi = splitdir(pa)\n",
    "\n",
    "            move(pa, joinpath(di, replace(fi, be => af)); te = te)\n",
    "\n",
    "        end\n",
    "\n",
    "    end\n",
    "\n",
    "end"
   ]
  }
 ],
 "metadata": {
  "@webio": {
   "lastCommId": null,
   "lastKernelId": null
  },
  "kernelspec": {
   "display_name": "Julia 1.6.3",
   "language": "julia",
   "name": "julia-1.6"
  },
  "language_info": {
   "file_extension": ".jl",
   "mimetype": "application/julia",
   "name": "julia",
   "version": "1.6.3"
  }
 },
 "nbformat": 4,
 "nbformat_minor": 5
}
