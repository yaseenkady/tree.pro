{
 "cells": [
  {
   "cell_type": "code",
   "execution_count": null,
   "id": "1151aaa0",
   "metadata": {
    "execution": {
     "iopub.execute_input": "2021-11-21T00:19:40.114883Z",
     "iopub.status.busy": "2021-11-21T00:19:39.582278Z",
     "iopub.status.idle": "2021-11-21T00:19:41.902550Z",
     "shell.execute_reply": "2021-11-21T00:19:41.901511Z"
    }
   },
   "outputs": [],
   "source": [
    "include(\"_.jl\")"
   ]
  },
  {
   "cell_type": "code",
   "execution_count": null,
   "id": "f0ce59fb",
   "metadata": {
    "execution": {
     "iopub.execute_input": "2021-11-21T00:19:41.982741Z",
     "iopub.status.busy": "2021-11-21T00:19:41.904108Z",
     "iopub.status.idle": "2021-11-21T00:19:45.125296Z",
     "shell.execute_reply": "2021-11-21T00:19:45.124847Z"
    }
   },
   "outputs": [],
   "source": [
    "ti_di = catalog(TR)\n",
    "\n",
    "na_ = sort(collect(keys(ti_di)))\n",
    "\n",
    "for wo in SE[\"words_to_check\"]\n",
    "\n",
    "    println(\"-\"^80)\n",
    "    \n",
    "    re = Regex(\"(?<![a-z])$wo(?![a-z])\")\n",
    "\n",
    "    for na in na_\n",
    "\n",
    "        if occursin(re, na)\n",
    "\n",
    "            println(na)\n",
    "\n",
    "        end\n",
    "\n",
    "    end\n",
    "\n",
    "    println()\n",
    "\n",
    "end"
   ]
  },
  {
   "cell_type": "code",
   "execution_count": null,
   "id": "382f5578",
   "metadata": {
    "execution": {
     "iopub.execute_input": "2021-11-21T00:19:45.126998Z",
     "iopub.status.busy": "2021-11-21T00:19:45.126486Z",
     "iopub.status.idle": "2021-11-21T00:19:45.289451Z",
     "shell.execute_reply": "2021-11-21T00:19:45.288775Z"
    }
   },
   "outputs": [],
   "source": [
    "for (be, af) in Dict()\n",
    "\n",
    "    for na in na_\n",
    "\n",
    "        if occursin(be, na)\n",
    "\n",
    "            pa = ti_di[na][\"path\"]\n",
    "\n",
    "            di, fi = splitdir(pa)\n",
    "\n",
    "            move(pa, joinpath(di, replace(fi, be => af)))\n",
    "\n",
    "        end\n",
    "\n",
    "    end\n",
    "\n",
    "end"
   ]
  }
 ],
 "metadata": {
  "@webio": {
   "lastCommId": null,
   "lastKernelId": null
  },
  "kernelspec": {
   "display_name": "Julia 1.6.3",
   "language": "julia",
   "name": "julia-1.6"
  },
  "language_info": {
   "file_extension": ".jl",
   "mimetype": "application/julia",
   "name": "julia",
   "version": "1.6.3"
  }
 },
 "nbformat": 4,
 "nbformat_minor": 5
}
