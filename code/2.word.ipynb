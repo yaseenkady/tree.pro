{
 "cells": [
  {
   "cell_type": "code",
   "execution_count": null,
   "id": "1151aaa0",
   "metadata": {
    "execution": {
     "iopub.execute_input": "2021-11-22T04:45:25.810571Z",
     "iopub.status.busy": "2021-11-22T04:45:25.263235Z",
     "iopub.status.idle": "2021-11-22T04:45:27.549007Z",
     "shell.execute_reply": "2021-11-22T04:45:27.548411Z"
    }
   },
   "outputs": [],
   "source": [
    "include(\"_.jl\")"
   ]
  },
  {
   "cell_type": "code",
   "execution_count": null,
   "id": "f0ce59fb",
   "metadata": {
    "execution": {
     "iopub.execute_input": "2021-11-22T04:45:27.626190Z",
     "iopub.status.busy": "2021-11-22T04:45:27.550255Z",
     "iopub.status.idle": "2021-11-22T04:45:30.658900Z",
     "shell.execute_reply": "2021-11-22T04:45:30.658335Z"
    }
   },
   "outputs": [],
   "source": [
    "ti_di = catalog(TR)\n",
    "\n",
    "na_ = sort(collect(keys(ti_di)))\n",
    "\n",
    "for wo in SE[\"words_to_check\"]\n",
    "\n",
    "    println(\"-\"^80)\n",
    "    \n",
    "    re = Regex(\"(?<![a-z])$wo(?![a-z])\")\n",
    "\n",
    "    for na in na_\n",
    "\n",
    "        if occursin(re, na)\n",
    "\n",
    "            println(na)\n",
    "\n",
    "        end\n",
    "\n",
    "    end\n",
    "\n",
    "    println()\n",
    "\n",
    "end"
   ]
  },
  {
   "cell_type": "code",
   "execution_count": null,
   "id": "382f5578",
   "metadata": {
    "execution": {
     "iopub.execute_input": "2021-11-22T04:45:30.660847Z",
     "iopub.status.busy": "2021-11-22T04:45:30.660249Z",
     "iopub.status.idle": "2021-11-22T04:45:30.824405Z",
     "shell.execute_reply": "2021-11-22T04:45:30.823893Z"
    }
   },
   "outputs": [],
   "source": [
    "for (be, af) in Dict()\n",
    "\n",
    "    for na in na_\n",
    "\n",
    "        if occursin(be, na)\n",
    "\n",
    "            pa = ti_di[na][\"path\"]\n",
    "\n",
    "            di, fi = splitdir(pa)\n",
    "\n",
    "            move(pa, joinpath(di, replace(fi, be => af)))\n",
    "\n",
    "        end\n",
    "\n",
    "    end\n",
    "\n",
    "end"
   ]
  }
 ],
 "metadata": {
  "@webio": {
   "lastCommId": null,
   "lastKernelId": null
  },
  "kernelspec": {
   "display_name": "Julia 1.6.3",
   "language": "julia",
   "name": "julia-1.6"
  },
  "language_info": {
   "file_extension": ".jl",
   "mimetype": "application/julia",
   "name": "julia",
   "version": "1.6.3"
  }
 },
 "nbformat": 4,
 "nbformat_minor": 5
}
