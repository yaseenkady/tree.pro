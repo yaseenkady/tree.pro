{
 "cells": [
  {
   "cell_type": "code",
   "execution_count": null,
   "id": "1151aaa0",
   "metadata": {},
   "outputs": [],
   "source": [
    "include(\"_.jl\")"
   ]
  },
  {
   "cell_type": "code",
   "execution_count": null,
   "id": "071b6076",
   "metadata": {},
   "outputs": [],
   "source": [
    "hi = SE[\"hierarchy\"]\n",
    "\n",
    "te = SE[\"testing\"]"
   ]
  },
  {
   "cell_type": "markdown",
   "id": "2a7c7864",
   "metadata": {},
   "source": [
    "## Catalog"
   ]
  },
  {
   "cell_type": "code",
   "execution_count": null,
   "id": "0bd81b44",
   "metadata": {},
   "outputs": [],
   "source": [
    "ti_di = catalog(hi)"
   ]
  },
  {
   "cell_type": "code",
   "execution_count": null,
   "id": "4c358547",
   "metadata": {},
   "outputs": [],
   "source": [
    "na_ = keys(ti_di)"
   ]
  },
  {
   "cell_type": "markdown",
   "id": "217de25c",
   "metadata": {
    "scrolled": false
   },
   "source": [
    "## Check word"
   ]
  },
  {
   "cell_type": "code",
   "execution_count": null,
   "id": "a9974a76",
   "metadata": {
    "scrolled": false
   },
   "outputs": [],
   "source": [
    "for wo in SE[\"words_to_check\"]\n",
    "    \n",
    "    println(\"-\" ^ 80)\n",
    "    \n",
    "    println(wo)\n",
    "    \n",
    "    for na in na_\n",
    "        \n",
    "        if occursin(Regex(\"(?<![a-z])$wo(?![a-z])\"), na)\n",
    "\n",
    "            println(na)\n",
    "\n",
    "        end\n",
    "        \n",
    "    end\n",
    "    \n",
    "    println()\n",
    "\n",
    "end"
   ]
  },
  {
   "cell_type": "code",
   "execution_count": null,
   "id": "06e481ee",
   "metadata": {},
   "outputs": [],
   "source": [
    "be_af = Dict(\n",
    "    \"decreased_heart_sound\" => \"diminished_heart_sound\",\n",
    "    \"decreased_breath_sound\" => \"diminished_breath_sound\",\n",
    ")"
   ]
  },
  {
   "cell_type": "markdown",
   "id": "4b7bfe34",
   "metadata": {},
   "source": [
    "## Rename"
   ]
  },
  {
   "cell_type": "code",
   "execution_count": null,
   "id": "5d527c53",
   "metadata": {},
   "outputs": [],
   "source": [
    "for (be, af) in be_af\n",
    "\n",
    "    for na in na_\n",
    "\n",
    "        if occursin(be, na)\n",
    "\n",
    "            pa = ti_di[na][\"path\"]\n",
    "\n",
    "            di, fi = splitdir(pa)\n",
    "\n",
    "            move(pa, joinpath(di, replace(fi, be => af)); te = te)\n",
    "\n",
    "        end\n",
    "\n",
    "    end\n",
    "\n",
    "end"
   ]
  }
 ],
 "metadata": {
  "@webio": {
   "lastCommId": "cdb655ebd0b64df7975950ec4f37e695",
   "lastKernelId": "6450894f-c68b-4686-bf5d-5533f4f85a6b"
  },
  "kernelspec": {
   "display_name": "Julia 1.6.3",
   "language": "julia",
   "name": "julia-1.6"
  },
  "language_info": {
   "file_extension": ".jl",
   "mimetype": "application/julia",
   "name": "julia",
   "version": "1.6.3"
  }
 },
 "nbformat": 4,
 "nbformat_minor": 5
}
